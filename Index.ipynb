{
 "cells": [
  {
   "cell_type": "markdown",
   "metadata": {},
   "source": [
    "# Welcome to GAP Jupyter notebooks!"
   ]
  },
  {
   "cell_type": "markdown",
   "metadata": {},
   "source": [
    "This repository contains a collection of examples of using GAP in [Jupyter](https://jupyter.org).\n",
    "\n",
    "Notebooks requiring GAP 4.10.2 release:\n",
    "\n",
    "* [An example with finitely presented groups](notebooks/HomophonicQuotientsOfFreeGroups.ipynb)\n",
    "* [Semigroups package in GAP](notebooks/Semigroups.ipynb)\n",
    "* [The number of numerical semigroups with given genus](notebooks/francy-monoids-mult-three.ipynb)\n",
    "* [The state of GAP packages ecosystem](notebooks/GAP_Packages.ipynb)\n",
    "* [Using GAP effectively: a lecture on some tips and pitfalls](notebooks/TipsAndPitfalls.ipynb)\n",
    "\n",
    "\n",
    "Notebooks requiring GAP master branch:\n",
    "* [Meataxe64 package demo: high-performance linear algebra over finite fields](notebooks-master/Meataxe64%20Demo.ipynb)\n",
    "* [GAP level reflection: syntax trees, a new feature coming in GAP 4.11](notebooks-master/Syntax%20Tree%20Demo.ipynb)\n",
    "\n",
    "Notebooks requiring HPC-GAP:\n",
    "* [HPC-GAP demo](notebooks-HPCGAP/HPCGAP.ipynb)"
   ]
  }
 ],
 "metadata": {
  "kernelspec": {
   "display_name": "GAP 4",
   "language": "gap",
   "name": "gap-4"
  },
  "language_info": {
   "codemirror_mode": "gap",
   "file_extension": ".g",
   "mimetype": "text/x-gap",
   "name": "GAP 4",
   "nbconvert_exporter": "",
   "pygments_lexer": "gap",
   "version": "4.10.2"
  }
 },
 "nbformat": 4,
 "nbformat_minor": 2
}
