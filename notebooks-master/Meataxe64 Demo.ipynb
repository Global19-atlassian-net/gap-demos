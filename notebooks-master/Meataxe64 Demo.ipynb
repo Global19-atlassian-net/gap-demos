{
 "cells": [
  {
   "cell_type": "markdown",
   "metadata": {},
   "source": [
    "# The Meataxe64 Package, Core Functionality"
   ]
  },
  {
   "cell_type": "code",
   "execution_count": 47,
   "metadata": {},
   "outputs": [],
   "source": [
    "LoadPackage(\"meataxe64\");; Read(\"../gap/bench.g\"); \n",
    "Read(\"../gap/mtx64utils.g\"); LoadPackage(\"jupyterviz\");;"
   ]
  },
  {
   "cell_type": "markdown",
   "metadata": {},
   "source": [
    "## Monster Matrix Multiplication\n",
    "\n",
    "The Classification of Finite Simple Groups, completed in the 1980s was one of the highlights of 20th Century mathematics. Part of it was the discovery of the 26 unique and reemarkable sporadic simple groups, of which the largest is the Fischer-Griess Monster $\\mathbb{M}$ of order \n",
    "\n",
    "$$808017424794512875886459904961710757005754368000000000,$$ \n",
    "\n",
    "a group with many intriguing links to other areas of mathematcis and even to theoretical physics. The *most* tractable representation of this group is as $196882\\times 196882$ matrices of integers mod 2. Each matrix is 5GB.\n",
    "\n",
    "For many years this was clearly beyond any practical computation and computational study of this group has to use complex and limited indirect methods. The first actual multiplication of two dense elements was done in 1998, using most of the computing resources of a large maths department for 45 hours.\n",
    "\n",
    "Before OpenDreamKit this computation would still have taken days on a powerful workstation. We have contributed to the development of a massively improved C and assembler library and a GAP interface for it.\n",
    "\n",
    "A Monster matrix multiplication now takes about 8 minutes on a laptop, scaling to 2-3 minutes on a multicore server. That's a bit too much for a demo, so we'll drop to more convenient $100\\, 000 \\times 100\\, 000$ matrices.\n"
   ]
  },
  {
   "cell_type": "code",
   "execution_count": 33,
   "metadata": {},
   "outputs": [
    {
     "data": {
      "text/plain": [
       "< matrix 100000x100000 : <MTX64 GF(2)>>"
      ]
     },
     "execution_count": 33,
     "metadata": {
      "text/plain": ""
     },
     "output_type": "execute_result"
    }
   ],
   "source": [
    "m := MTX64_RandomMat(MTX64_FiniteField(2),100000,100000);"
   ]
  },
  {
   "cell_type": "markdown",
   "metadata": {},
   "source": [
    "We can multiply this by itself:"
   ]
  },
  {
   "cell_type": "code",
   "execution_count": 48,
   "metadata": {},
   "outputs": [
    {
     "name": "stdout",
     "output_type": "stream",
     "text": [
      "wall time: 63.9s cpu time: 606s memory allocated: 1.16GB result returned\n"
     ]
    }
   ],
   "source": [
    "ShowBench(ParMult,m,m);"
   ]
  },
  {
   "cell_type": "markdown",
   "metadata": {},
   "source": [
    "## Gaussian Elimination\n",
    "\n",
    "Our other key primitive operation. \n",
    "\n",
    "To see what it does properly we need a singular matrix.  We take the Kronecker (tensor) product of two rectangular matrices. (If $A$ is $n\\times m$ and $B$ is $m\\times n$ with $m < n$ then $A\\otimes B$ will be $nm\\times nm$ of rank at most $m^2$.)"
   ]
  },
  {
   "cell_type": "code",
   "execution_count": 102,
   "metadata": {},
   "outputs": [
    {
     "data": {
      "text/plain": [
       "< matrix 19800x19800 : <MTX64 GF(3^2)>>"
      ]
     },
     "execution_count": 102,
     "metadata": {
      "text/plain": ""
     },
     "output_type": "execute_result"
    }
   ],
   "source": [
    "f := MTX64_FiniteField(9);;\n",
    "m1 := MTX64_RandomMat(f, 200,99);;\n",
    "m2 := MTX64_RandomMat(f, 99,200);;\n",
    "m := MTX64_KroneckerProduct(m1,m2);"
   ]
  },
  {
   "cell_type": "markdown",
   "metadata": {},
   "source": [
    "Our basic Gaussian elimnination operation applied to a matrix $A$, computes $M$, $K$, $R$, $\\gamma$ and $\\rho$ satisfying: \n",
    "\n",
    "$$\\pmatrix{M&0\\cr K & 1} \\rho A \\gamma = \\pmatrix{-1&R\\cr0&0}$$ \n",
    "\n",
    "where $\\gamma$ and $\\rho$ are permutations that effectively select the pivot columns and pivot rows of $A$. This is effectively full reduced row echelon form, with transforming matrices.\n",
    "\n",
    "Using this, we can compute inverses, solve systems of equations, determine nullspaces, etc. efficiently."
   ]
  },
  {
   "cell_type": "code",
   "execution_count": 112,
   "metadata": {},
   "outputs": [
    {
     "name": "stdout",
     "output_type": "stream",
     "text": [
      "wall time: 11.5s cpu time: 11.1s memory allocated: 747.81MB no result returned\n"
     ]
    },
    {
     "data": {
      "text/plain": [
       "< matrix 9801x9801 : <MTX64 GF(3^2)>>"
      ]
     },
     "execution_count": 110,
     "metadata": {
      "text/plain": ""
     },
     "output_type": "execute_result"
    },
    {
     "data": {
      "text/plain": [
       "< matrix 9999x9801 : <MTX64 GF(3^2)>>"
      ]
     },
     "execution_count": 111,
     "metadata": {
      "text/plain": ""
     },
     "output_type": "execute_result"
    },
    {
     "data": {
      "text/plain": [
       "< matrix 9801x9999 : <MTX64 GF(3^2)>>"
      ]
     },
     "execution_count": 112,
     "metadata": {
      "text/plain": ""
     },
     "output_type": "execute_result"
    }
   ],
   "source": [
    "ech := fail;; # suppress a warning.\n",
    "ShowBench(function() ech := MTX64_Echelize(m);end); \n",
    "ech.multiplier; ech.cleaner; ech.remnant;  # M, K and R in the above formula"
   ]
  },
  {
   "cell_type": "markdown",
   "metadata": {},
   "source": [
    "We can also use the multi-threaded version of the Gaussian elimination (although this problenm is a little small)."
   ]
  },
  {
   "cell_type": "code",
   "execution_count": 114,
   "metadata": {},
   "outputs": [
    {
     "name": "stdout",
     "output_type": "stream",
     "text": [
      "wall time: 4.98s cpu time: 47.4s memory allocated: 144B result returned\n"
     ]
    },
    {
     "data": {
      "text/plain": [
       "true"
      ]
     },
     "execution_count": 113,
     "metadata": {
      "text/plain": ""
     },
     "output_type": "execute_result"
    }
   ],
   "source": [
    "MTX64_WriteMatrix(m, \"a\"); \n",
    "ShowBench(MTX64_fEchelize, \".\", \"a\", \"gamma\", \"rho\", \"m\", \"k\", \"r\");"
   ]
  },
  {
   "cell_type": "markdown",
   "metadata": {},
   "source": [
    "We an compare this runtime to multiplication. If $m$ was full rank we would expect them to be the same, since $m$ is lower rank, the Gaussian elimination is actually faster."
   ]
  },
  {
   "cell_type": "code",
   "execution_count": 116,
   "metadata": {},
   "outputs": [
    {
     "name": "stdout",
     "output_type": "stream",
     "text": [
      "wall time: 25.6s cpu time: 25.4s memory allocated: 186.95MB result returned\n"
     ]
    }
   ],
   "source": [
    "ShowBench(\\*,m,m);"
   ]
  },
  {
   "cell_type": "markdown",
   "metadata": {},
   "source": [
    "## Run-time versus matrix size"
   ]
  },
  {
   "cell_type": "markdown",
   "metadata": {},
   "source": [
    "We set the field and maximum dimension and make a set of random matrices of different sizes"
   ]
  },
  {
   "cell_type": "code",
   "execution_count": null,
   "metadata": {},
   "outputs": [],
   "source": [
    "q := 5;; maxdim := 15000;; \n",
    "sizes := List([1..16], i-> i*QuoInt(maxdim, 16));;\n",
    "mats := List(sizes, i-> MTX64_RandomMat(MTX64_FiniteField(q), i, i));;"
   ]
  },
  {
   "cell_type": "markdown",
   "metadata": {},
   "source": [
    "And look at the timing for squaring them:"
   ]
  },
  {
   "cell_type": "code",
   "execution_count": null,
   "metadata": {},
   "outputs": [],
   "source": [
    "marks1 := List(mats, x-> BenchMark(\\*,x,x));;\n",
    "marksm := List(mats, x-> BenchMark(ParMult,x,x));;\n",
    "Plot(\n",
    "[sizes,List(marks1, x-> x.cpu), rec(name := \"single-threaded\",\n",
    "title := \"Meataxe64 runtimes for matrix multiply\", xaxis := \"Dimension\", yaxis := \"ms\")],\n",
    "[sizes,List(marksm, x-> QuoInt(x.wall,10^6)), rec(name := \"multi-threaded wall time\")]\n",
    ");\n"
   ]
  },
  {
   "cell_type": "code",
   "execution_count": null,
   "metadata": {},
   "outputs": [],
   "source": []
  }
 ],
 "metadata": {
  "kernelspec": {
   "display_name": "GAP 4 Native",
   "language": "gap",
   "name": "gap-4"
  },
  "language_info": {
   "codemirror_mode": "gap",
   "file_extension": ".g",
   "mimetype": "text/x-gap",
   "name": "GAP 4",
   "nbconvert_exporter": "",
   "pygments_lexer": "gap",
   "version": "4.dev"
  }
 },
 "nbformat": 4,
 "nbformat_minor": 2
}
