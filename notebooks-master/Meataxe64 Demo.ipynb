{
 "cells": [
  {
   "cell_type": "markdown",
   "metadata": {},
   "source": [
    "# The Meataxe64 Package, Core Functionality"
   ]
  },
  {
   "cell_type": "code",
   "execution_count": 3,
   "metadata": {},
   "outputs": [],
   "source": [
    "LoadPackage(\"meataxe64\");; Read(\"../gap/bench.g\"); LoadPackage(\"jupyterviz\");;"
   ]
  },
  {
   "cell_type": "markdown",
   "metadata": {},
   "source": [
    "## $100\\, 000 \\times 100\\, 000$ matrices over $\\mathbb{F}_2$\n",
    "\n",
    "The main target of the package is large computations."
   ]
  },
  {
   "cell_type": "code",
   "execution_count": 4,
   "metadata": {},
   "outputs": [
    {
     "data": {
      "text/plain": [
       "< matrix 100000x100000 : <MTX64 GF(2)>>"
      ]
     },
     "execution_count": 4,
     "metadata": {
      "text/plain": ""
     },
     "output_type": "execute_result"
    }
   ],
   "source": [
    "m := MTX64_RandomMat(MTX64_FiniteField(2),100000,100000);"
   ]
  },
  {
   "cell_type": "code",
   "execution_count": 7,
   "metadata": {},
   "outputs": [
    {
     "name": "stdout",
     "output_type": "stream",
     "text": [
      "wall time: 63.3s cpu time: 595s memory allocated: 72B no result returned\n"
     ]
    },
    {
     "data": {
      "text/plain": [
       "< matrix 100000x100000 : <MTX64 GF(2)>>"
      ]
     },
     "execution_count": 7,
     "metadata": {
      "text/plain": ""
     },
     "output_type": "execute_result"
    }
   ],
   "source": [
    "MTX64_WriteMatrix(m,\"a\");;\n",
    "ShowBench(MTX64_fMultiply, \".\", \"a\", \"a\", \"b\");\n",
    "p := MTX64_ReadMatrix(\"b\");"
   ]
  },
  {
   "cell_type": "markdown",
   "metadata": {},
   "source": [
    "## Gaussian Elimination\n",
    "\n",
    "Our other key primitive operation. To see what it does properly we need a singular matrix. \n",
    "\n",
    "We take the Kronecker (tensor) product of two rectangular matrices. \n",
    "\n",
    "If $A$ is $n\\times m$ and $B$ is $m\\times n$ with $m < n$ then $A\\otimes B$ will have rank at most $m^2$."
   ]
  },
  {
   "cell_type": "code",
   "execution_count": 87,
   "metadata": {},
   "outputs": [
    {
     "data": {
      "text/plain": [
       "<MTX64 GF(3^2)>"
      ]
     },
     "execution_count": 84,
     "metadata": {
      "text/plain": ""
     },
     "output_type": "execute_result"
    },
    {
     "data": {
      "text/plain": [
       "< matrix 19800x19800 : <MTX64 GF(3^2)>>"
      ]
     },
     "execution_count": 87,
     "metadata": {
      "text/plain": ""
     },
     "output_type": "execute_result"
    }
   ],
   "source": [
    "f := MTX64_FiniteField(9);\n",
    "m1 := RandomMat(200,99,GF(9));;\n",
    "m2 := RandomMat(99,200,GF(9));;\n",
    "m := MTX64_Matrix(KroneckerProduct(m1,m2));"
   ]
  },
  {
   "cell_type": "markdown",
   "metadata": {},
   "source": [
    "Our basic Gaussian elimnination operation applied to a matrix $A$, computes $M$, $K$, $R$, $\\gamma$ and $\\rho$ satisfying: \n",
    "\n",
    "$$\\pmatrix{M&0\\cr K & 1} \\rho A \\gamma = \\pmatrix{-1&R\\cr0&0}$$ \n",
    "\n",
    "where $\\gamma$ and $\\rho$ are permutations that effectively select the pivot columns and pivot rows of $A$. \n",
    "\n",
    "Using this, we can compute inverses, solve systems of equations, determine nullspaces, etc. efficiently."
   ]
  },
  {
   "cell_type": "code",
   "execution_count": 92,
   "metadata": {},
   "outputs": [
    {
     "name": "stdout",
     "output_type": "stream",
     "text": [
      "wall time: 11.5s cpu time: 11.2s memory allocated: 747.81MB no result returned\n"
     ]
    },
    {
     "data": {
      "text/plain": [
       "< matrix 9801x9801 : <MTX64 GF(3^2)>>"
      ]
     },
     "execution_count": 90,
     "metadata": {
      "text/plain": ""
     },
     "output_type": "execute_result"
    },
    {
     "data": {
      "text/plain": [
       "< matrix 9999x9801 : <MTX64 GF(3^2)>>"
      ]
     },
     "execution_count": 91,
     "metadata": {
      "text/plain": ""
     },
     "output_type": "execute_result"
    },
    {
     "data": {
      "text/plain": [
       "< matrix 9801x9999 : <MTX64 GF(3^2)>>"
      ]
     },
     "execution_count": 92,
     "metadata": {
      "text/plain": ""
     },
     "output_type": "execute_result"
    }
   ],
   "source": [
    "ech := fail;; # suppress a warning.\n",
    "ShowBench(function() ech := MTX64_Echelize(m);end); \n",
    "ech. multiplier; ech.cleaner; ech.remnant;  # M, K and R in the above formula"
   ]
  },
  {
   "cell_type": "markdown",
   "metadata": {},
   "source": [
    "We an compare this runtime to multiplication. If $m$ was full rank we would expect them to be the same, since $m$ is lower rank, the Gaussian elimination is actually faster."
   ]
  },
  {
   "cell_type": "code",
   "execution_count": 93,
   "metadata": {},
   "outputs": [
    {
     "name": "stdout",
     "output_type": "stream",
     "text": [
      "wall time: 24.6s cpu time: 24.4s memory allocated: 186.95MB result returned\n"
     ]
    }
   ],
   "source": [
    "ShowBench(\\*,m,m);"
   ]
  },
  {
   "cell_type": "markdown",
   "metadata": {},
   "source": [
    "We can also use the multi-threaded version of the Gaussian elimination"
   ]
  },
  {
   "cell_type": "code",
   "execution_count": 95,
   "metadata": {},
   "outputs": [
    {
     "name": "stdout",
     "output_type": "stream",
     "text": [
      "wall time: 4.59s cpu time: 45.8s memory allocated: 144B result returned\n"
     ]
    },
    {
     "data": {
      "text/plain": [
       "true"
      ]
     },
     "execution_count": 94,
     "metadata": {
      "text/plain": ""
     },
     "output_type": "execute_result"
    }
   ],
   "source": [
    "MTX64_WriteMatrix(m, \"a\"); \n",
    "ShowBench(MTX64_fEchelize, \".\", \"a\", \"gamma\", \"rho\", \"m\", \"k\", \"r\");"
   ]
  },
  {
   "cell_type": "markdown",
   "metadata": {},
   "source": [
    "## Run-time versus matrix size"
   ]
  },
  {
   "cell_type": "markdown",
   "metadata": {},
   "source": [
    "We set the field and maximum dimension and make a set of random matrices of different sizes"
   ]
  },
  {
   "cell_type": "code",
   "execution_count": 98,
   "metadata": {},
   "outputs": [],
   "source": [
    "q := 625;; maxdim := 5000;; \n",
    "sizes := List([1..16], i-> i*QuoInt(maxdim, 16));;"
   ]
  },
  {
   "cell_type": "code",
   "execution_count": 99,
   "metadata": {},
   "outputs": [],
   "source": [
    "mats := List(sizes, i-> MTX64_RandomMat(MTX64_FiniteField(q), i, i));;"
   ]
  },
  {
   "cell_type": "markdown",
   "metadata": {},
   "source": [
    "And look at the timing for squaring them:"
   ]
  },
  {
   "cell_type": "code",
   "execution_count": 103,
   "metadata": {},
   "outputs": [
    {
     "data": {
      "application/javascript": [
       "( function ( element ) {\n",
       "if(!window.hasOwnProperty(\"runGAP\")){window.runGAP=function(code,callback){if(!Jupyter||!Jupyter.notebook||!Jupyter.notebook.kernel)return callback(null,\"JavaScript-based output must be re-evaluated when the notebook\"+\" is reloaded.  (Re-run the cell to clear this problem.)\");var errorMessages=[];var timeout=null;Jupyter.notebook.kernel.execute(code,{iopub:{output:function(message){if(\"data\"in message.content)return callback(message.content.data,null);if(!(\"text\"in message.content))return callback(null,message.content);errorMessages.push(message.content.text);if(timeout!==null)clearTimeout(timeout);timeout=setTimeout(function(){callback(null,errorMessages.join(\"\\n\"))},200)},clear_output:function(message){}},shell:{reply:function(message){}},input:function(message){}},{})}}if(!window.hasOwnProperty(\"librariesLoadedFromGAP\")){window.librariesLoadedFromGAP={}}function myCallback(){if(!window.hasOwnProperty(\"librariesLoadedFromGAP\")){window.librariesLoadedFromGAP={}}function myCallback(){window.createVisualization(element,{\"data\" : {\"data\" : [{\"x\" : [312,624,936,1248,1560,1872,2184,2496,2808,3120,3432,3744,4056,4368,4680,4992],\"y\" : [6,29,68,137,244,383,645,889,1234,1705,2235,2884,3543,4673,5489,6611],\"name\" : \"single-threaded\",\"type\" : \"line\"},{\"x\" : [312,624,936,1248,1560,1872,2184,2496,2808,3120,3432,3744,4056,4368,4680,4992],\"y\" : [8,31,148,260,510,1305,1998,3272,4574,5812,7628,9573,11961,15620,18931,22342],\"name\" : \"multi-threaded CPU\",\"type\" : \"line\"},{\"x\" : [312,624,936,1248,1560,1872,2184,2496,2808,3120,3432,3744,4056,4368,4680,4992],\"y\" : [18,32,34,56,104,158,237,369,482,598,761,953,1199,1553,1834,2283],\"name\" : \"multi-threaded wall time\",\"type\" : \"line\"}],\"layout\" : {\"height\" : 400,\"title\" : \"Meataxe64 runtimes for matrix multiply\",\"xaxis\" : {\"title\" : \"Dimension\"},\"yaxis\" : {\"title\" : \"ms\"}}},\"tool\" : \"plotly\"}\n",
       ",function(element,visualization){\n",
       "});\n",
       "}if(window.librariesLoadedFromGAP.hasOwnProperty(\"viz-tool-plotly\"\n",
       ")){myCallback()}else{var filenameString=JSON.stringify(\"viz-tool-plotly\"\n",
       ");var GAPcode=\"JUPVIZFileContents( LoadJavaScriptFile( \"+filenameString+\" ) );\";window.runGAP(GAPcode,function(result,error){if(error)throw Error(\"When loading library \"+filenameString+\": \"+error);result=result[\"text/plain\"];window.librariesLoadedFromGAP[\"viz-tool-plotly\"\n",
       "]=result;try{var whatItEvaluatesTo=eval(result)}catch(e){throw Error(\"Error evaluating code for library \"+filenameString+\": \"+e)}return myCallback()})}\n",
       "}if(window.librariesLoadedFromGAP.hasOwnProperty(\"main\"\n",
       ")){myCallback()}else{var filenameString=JSON.stringify(\"main\"\n",
       ");var GAPcode=\"JUPVIZFileContents( LoadJavaScriptFile( \"+filenameString+\" ) );\";window.runGAP(GAPcode,function(result,error){if(error)throw Error(\"When loading library \"+filenameString+\": \"+error);result=result[\"text/plain\"];window.librariesLoadedFromGAP[\"main\"\n",
       "]=result;try{var whatItEvaluatesTo=eval(result)}catch(e){throw Error(\"Error evaluating code for library \"+filenameString+\": \"+e)}return myCallback()})}\n",
       ";\n",
       "} )( element.get( 0 ) )"
      ]
     },
     "execution_count": 103,
     "metadata": {
      "application/javascript": ""
     },
     "output_type": "execute_result"
    }
   ],
   "source": [
    "fsq := function(m) MTX64_WriteMatrix(m, \"a\"); MTX64_fMultiply(\".\", \"a\", \"a\", \"b\"); end;;\n",
    "marks1 := List(mats, x-> BenchMark(\\*,x,x));;\n",
    "marksm := List(mats, x-> BenchMark(fsq,x));;\n",
    "Plot(\n",
    "[sizes,List(marks1, x-> x.cpu), rec(name := \"single-threaded\")],\n",
    "[sizes,List(marksm, x-> x.cpu), rec(name := \"multi-threaded CPU\", \n",
    "title := \"Meataxe64 runtimes for matrix multiply\", xaxis := \"Dimension\", yaxis := \"ms\")],\n",
    "[sizes,List(marksm, x-> QuoInt(x.wall,10^6)), rec(name := \"multi-threaded wall time\")]\n",
    ");\n"
   ]
  },
  {
   "cell_type": "code",
   "execution_count": null,
   "metadata": {},
   "outputs": [],
   "source": []
  }
 ],
 "metadata": {
  "kernelspec": {
   "display_name": "GAP 4 Native",
   "language": "gap",
   "name": "gap-4"
  },
  "language_info": {
   "codemirror_mode": "gap",
   "file_extension": ".g",
   "mimetype": "text/x-gap",
   "name": "GAP 4",
   "nbconvert_exporter": "",
   "pygments_lexer": "gap",
   "version": "4.dev"
  }
 },
 "nbformat": 4,
 "nbformat_minor": 2
}
