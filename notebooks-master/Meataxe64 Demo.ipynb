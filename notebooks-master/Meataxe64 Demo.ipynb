{
 "cells": [
  {
   "cell_type": "markdown",
   "metadata": {},
   "source": [
    "# The Meataxe64 Package, Core Functionality"
   ]
  },
  {
   "cell_type": "code",
   "execution_count": 7,
   "metadata": {},
   "outputs": [
    {
     "name": "stderr",
     "output_type": "stream",
     "text": [
      "Syntax warning: Unbound global variable in gap/pmatmul.g:155\n",
      "    i :=   WaitAnyTask(tasks);\n",
      "           ^^^^^^^^^^^\n",
      "Syntax warning: Unbound global variable in gap/pmatmul.g:159\n",
      "        i := WaitAnyTask(tasks);\n",
      "             ^^^^^^^^^^^\n"
     ]
    },
    {
     "data": {
      "text/plain": [
       "true"
      ]
     },
     "execution_count": 5,
     "metadata": {
      "text/plain": ""
     },
     "output_type": "execute_result"
    },
    {
     "data": {
      "text/plain": [
       "true"
      ]
     },
     "execution_count": 7,
     "metadata": {
      "text/plain": ""
     },
     "output_type": "execute_result"
    }
   ],
   "source": [
    "LoadPackage(\"meataxe64\"); Read(\"gap/pmatmul.g\"); LoadPackage(\"jupyterviz\");"
   ]
  },
  {
   "cell_type": "markdown",
   "metadata": {},
   "source": [
    "## $100\\, 000 \\times 100\\, 000$ matrices over $\\mathbb{F}_2$"
   ]
  },
  {
   "cell_type": "code",
   "execution_count": 43,
   "metadata": {},
   "outputs": [
    {
     "data": {
      "text/plain": [
       "< matrix 100000x100000 : <MTX64 GF(2)>>"
      ]
     },
     "execution_count": 43,
     "metadata": {
      "text/plain": ""
     },
     "output_type": "execute_result"
    }
   ],
   "source": [
    "m := MTX64_RandomMat(MTX64_FiniteField(2),100000,100000);"
   ]
  },
  {
   "cell_type": "code",
   "execution_count": 46,
   "metadata": {},
   "outputs": [
    {
     "name": "stdout",
     "output_type": "stream",
     "text": [
      "wall time: 51.43s cpu time: 526.48s memory allocated: 72B no result returned\n"
     ]
    },
    {
     "data": {
      "text/plain": [
       "< matrix 100000x100000 : <MTX64 GF(2)>>"
      ]
     },
     "execution_count": 46,
     "metadata": {
      "text/plain": ""
     },
     "output_type": "execute_result"
    }
   ],
   "source": [
    "MTX64_WriteMatrix(m,\"a\");;\n",
    "ShowBench(MTX64_fMultiply, \".\", \"a\", \"a\", \"b\");\n",
    "p := MTX64_ReadMatrix(\"b\");"
   ]
  },
  {
   "cell_type": "markdown",
   "metadata": {},
   "source": [
    "## Gaussian Elimination\n",
    "\n",
    "To see the full capability we need a singular matrix. \n",
    "\n",
    "We take the Kronecker (tensor) product of two rectangular matrices. \n",
    "\n",
    "If $A$ is $n\\times m$ and $B$ is $m\\times n$ with $m < n$ then $A\\otimes B$ will have rank at most $m^2$."
   ]
  },
  {
   "cell_type": "code",
   "execution_count": 50,
   "metadata": {},
   "outputs": [
    {
     "data": {
      "text/plain": [
       "<MTX64 GF(3^2)>"
      ]
     },
     "execution_count": 47,
     "metadata": {
      "text/plain": ""
     },
     "output_type": "execute_result"
    },
    {
     "data": {
      "text/plain": [
       "< matrix 19800x19800 : <MTX64 GF(3^2)>>"
      ]
     },
     "execution_count": 50,
     "metadata": {
      "text/plain": ""
     },
     "output_type": "execute_result"
    }
   ],
   "source": [
    "f := MTX64_FiniteField(9);\n",
    "m1 := RandomMat(200,99,GF(9));;\n",
    "m2 := RandomMat(99,200,GF(9));;\n",
    "m := MTX64_Matrix(KroneckerProduct(m1,m2));"
   ]
  },
  {
   "cell_type": "markdown",
   "metadata": {},
   "source": [
    "Our basic Gaussian elimnination operation applied to a matrix $A$, computes $M$, $K$, $R$, $\\gamma$ and $\\rho$ satisfying: \n",
    "\n",
    "$$\\pmatrix{M&0\\cr K & 1} \\rho A \\gamma = \\pmatrix{-1&R\\cr0&0}$$ \n",
    "\n",
    "where $\\gamma$ and $\\rho$ are permutations that effectively select the pivot columns and pivot rows of $A$. \n",
    "\n",
    "Using this, we can compute inverses, solve systems of equations, determine nullspaces, etc. efficiently."
   ]
  },
  {
   "cell_type": "code",
   "execution_count": 54,
   "metadata": {},
   "outputs": [
    {
     "name": "stdout",
     "output_type": "stream",
     "text": [
      "wall time: 12.27s cpu time: 11.39s memory allocated: 747.81MB no result return\\\n",
      "ed\n"
     ]
    },
    {
     "data": {
      "text/plain": [
       "< matrix 9999x9801 : <MTX64 GF(3^2)>>"
      ]
     },
     "execution_count": 52,
     "metadata": {
      "text/plain": ""
     },
     "output_type": "execute_result"
    },
    {
     "data": {
      "text/plain": [
       "< matrix 9801x9801 : <MTX64 GF(3^2)>>"
      ]
     },
     "execution_count": 53,
     "metadata": {
      "text/plain": ""
     },
     "output_type": "execute_result"
    },
    {
     "data": {
      "text/plain": [
       "< matrix 9801x9999 : <MTX64 GF(3^2)>>"
      ]
     },
     "execution_count": 54,
     "metadata": {
      "text/plain": ""
     },
     "output_type": "execute_result"
    }
   ],
   "source": [
    "ShowBench(function() ech := MTX64_Echelize(m);end);\n",
    "ech. multiplier; ech.cleaner; ech.remnant;  # M, K and R in the above formula"
   ]
  },
  {
   "cell_type": "markdown",
   "metadata": {},
   "source": [
    "We an compare this runtime to multiplication. If $m$ was full rank we would expect them to be the same, since $m$ is lower rank, the Gaussian elimination is actually faster."
   ]
  },
  {
   "cell_type": "code",
   "execution_count": 55,
   "metadata": {},
   "outputs": [
    {
     "name": "stdout",
     "output_type": "stream",
     "text": [
      "wall time: 24.67s cpu time: 24.39s memory allocated: 186.95MB result returned\n"
     ]
    }
   ],
   "source": [
    "ShowBench(\\*,m,m);"
   ]
  },
  {
   "cell_type": "markdown",
   "metadata": {},
   "source": [
    "We can also use the multi-threaded version of this, although this problem is rather small for it."
   ]
  },
  {
   "cell_type": "code",
   "execution_count": 57,
   "metadata": {},
   "outputs": [
    {
     "name": "stdout",
     "output_type": "stream",
     "text": [
      "wall time: 4.68s cpu time: 46.18s memory allocated: 144B result returned\n"
     ]
    },
    {
     "data": {
      "text/plain": [
       "true"
      ]
     },
     "execution_count": 56,
     "metadata": {
      "text/plain": ""
     },
     "output_type": "execute_result"
    }
   ],
   "source": [
    "MTX64_WriteMatrix(m, \"a\"); \n",
    "ShowBench(MTX64_fEchelize, \".\", \"a\", \"gamma\", \"rho\", \"m\", \"k\", \"r\");"
   ]
  },
  {
   "cell_type": "markdown",
   "metadata": {},
   "source": [
    "## Run-time versus matrix size -- GF(2)"
   ]
  },
  {
   "cell_type": "code",
   "execution_count": 58,
   "metadata": {},
   "outputs": [],
   "source": [
    "mats := List([1,11..151], i-> MTX64_RandomMat(MTX64_FiniteField(2), i*200, i*200));;"
   ]
  },
  {
   "cell_type": "code",
   "execution_count": 59,
   "metadata": {},
   "outputs": [
    {
     "data": {
      "text/plain": [
       "function( m ) ... end"
      ]
     },
     "execution_count": 59,
     "metadata": {
      "text/plain": ""
     },
     "output_type": "execute_result"
    }
   ],
   "source": [
    "fsq := function(m) MTX64_WriteMatrix(m, \"a\"); MTX64_fMultiply(\".\", \"a\", \"a\", \"b\"); end;"
   ]
  },
  {
   "cell_type": "code",
   "execution_count": 61,
   "metadata": {},
   "outputs": [],
   "source": [
    "marks1 := List(mats, x-> BenchMark(\\*,x,x));;\n",
    "marksm := List(mats, x-> BenchMark(fsq,x));;"
   ]
  },
  {
   "cell_type": "code",
   "execution_count": 16,
   "metadata": {},
   "outputs": [
    {
     "data": {
      "application/javascript": [
       "( function ( element ) {\n",
       "if(!window.hasOwnProperty(\"runGAP\")){window.runGAP=function(code,callback){if(!Jupyter||!Jupyter.notebook||!Jupyter.notebook.kernel)return callback(null,\"JavaScript-based output must be re-evaluated when the notebook\"+\" is reloaded.  (Re-run the cell to clear this problem.)\");var errorMessages=[];var timeout=null;Jupyter.notebook.kernel.execute(code,{iopub:{output:function(message){if(\"data\"in message.content)return callback(message.content.data,null);if(!(\"text\"in message.content))return callback(null,message.content);errorMessages.push(message.content.text);if(timeout!==null)clearTimeout(timeout);timeout=setTimeout(function(){callback(null,errorMessages.join(\"\\n\"))},200)},clear_output:function(message){}},shell:{reply:function(message){}},input:function(message){}},{})}}if(!window.hasOwnProperty(\"librariesLoadedFromGAP\")){window.librariesLoadedFromGAP={}}function myCallback(){if(!window.hasOwnProperty(\"librariesLoadedFromGAP\")){window.librariesLoadedFromGAP={}}function myCallback(){window.createVisualization(element,{\"data\" : {\"data\" : [{\"x\" : [200,2200,4200,6200,8200,10200,12200,14200,16200,18200,20200,22200,24200,26200,28200,30200],\"y\" : [0,6,33,80,158,438,438,713,1064,1480,2179,2705,3492,4689,5537,7060],\"type\" : \"line\"},{\"x\" : [200,2200,4200,6200,8200,10200,12200,14200,16200,18200,20200,22200,24200,26200,28200,30200],\"y\" : [2,12,44,99,296,480,858,1329,2790,4111,5337,7266,9868,12417,15556,19425],\"type\" : \"line\"},{\"x\" : [200,2200,4200,6200,8200,10200,12200,14200,16200,18200,20200,22200,24200,26200,28200,30200],\"y\" : [19,19,49,110,96,150,232,324,408,558,719,965,1154,1444,1773,2156],\"type\" : \"line\"}],\"layout\" : {\"height\" : 400}},\"tool\" : \"plotly\"}\n",
       ",function(element,visualization){\n",
       "});\n",
       "}if(window.librariesLoadedFromGAP.hasOwnProperty(\"viz-tool-plotly\"\n",
       ")){myCallback()}else{var filenameString=JSON.stringify(\"viz-tool-plotly\"\n",
       ");var GAPcode=\"JUPVIZFileContents( LoadJavaScriptFile( \"+filenameString+\" ) );\";window.runGAP(GAPcode,function(result,error){if(error)throw Error(\"When loading library \"+filenameString+\": \"+error);result=result[\"text/plain\"];window.librariesLoadedFromGAP[\"viz-tool-plotly\"\n",
       "]=result;try{var whatItEvaluatesTo=eval(result)}catch(e){throw Error(\"Error evaluating code for library \"+filenameString+\": \"+e)}return myCallback()})}\n",
       "}if(window.librariesLoadedFromGAP.hasOwnProperty(\"main\"\n",
       ")){myCallback()}else{var filenameString=JSON.stringify(\"main\"\n",
       ");var GAPcode=\"JUPVIZFileContents( LoadJavaScriptFile( \"+filenameString+\" ) );\";window.runGAP(GAPcode,function(result,error){if(error)throw Error(\"When loading library \"+filenameString+\": \"+error);result=result[\"text/plain\"];window.librariesLoadedFromGAP[\"main\"\n",
       "]=result;try{var whatItEvaluatesTo=eval(result)}catch(e){throw Error(\"Error evaluating code for library \"+filenameString+\": \"+e)}return myCallback()})}\n",
       ";\n",
       "} )( element.get( 0 ) )"
      ]
     },
     "execution_count": 16,
     "metadata": {
      "application/javascript": ""
     },
     "output_type": "execute_result"
    }
   ],
   "source": [
    "Plot([200*[1,11..151],List(marks1, x-> x.cpu)],\n",
    "[200*[1,11..151],List(marksm, x-> x.cpu)],\n",
    "[200*[1,11..151],List(marksm, x-> QuoInt(x.wall,10^6))]);\n"
   ]
  },
  {
   "cell_type": "code",
   "execution_count": null,
   "metadata": {},
   "outputs": [],
   "source": []
  }
 ],
 "metadata": {
  "kernelspec": {
   "display_name": "GAP 4 Native",
   "language": "gap",
   "name": "gap-4"
  },
  "language_info": {
   "codemirror_mode": "gap",
   "file_extension": ".g",
   "mimetype": "text/x-gap",
   "name": "GAP 4",
   "nbconvert_exporter": "",
   "pygments_lexer": "gap",
   "version": "4.dev"
  }
 },
 "nbformat": 4,
 "nbformat_minor": 2
}
