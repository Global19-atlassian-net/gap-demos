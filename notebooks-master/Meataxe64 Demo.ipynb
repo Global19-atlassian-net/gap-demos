{
 "cells": [
  {
   "cell_type": "markdown",
   "metadata": {},
   "source": [
    "# The Meataxe64 Package, Core Functionality"
   ]
  },
  {
   "cell_type": "code",
   "execution_count": 3,
   "metadata": {},
   "outputs": [],
   "source": [
    "LoadPackage(\"meataxe64\");; Read(\"../gap/bench.g\"); LoadPackage(\"jupyterviz\");;"
   ]
  },
  {
   "cell_type": "markdown",
   "metadata": {},
   "source": [
    "## $100\\, 000 \\times 100\\, 000$ matrices over $\\mathbb{F}_2$\n",
    "\n",
    "The main target of the package is large computations."
   ]
  },
  {
   "cell_type": "code",
   "execution_count": 4,
   "metadata": {},
   "outputs": [
    {
     "data": {
      "text/plain": [
       "< matrix 100000x100000 : <MTX64 GF(2)>>"
      ]
     },
     "execution_count": 4,
     "metadata": {
      "text/plain": ""
     },
     "output_type": "execute_result"
    }
   ],
   "source": [
    "m := MTX64_RandomMat(MTX64_FiniteField(2),100000,100000);"
   ]
  },
  {
   "cell_type": "code",
   "execution_count": 7,
   "metadata": {},
   "outputs": [
    {
     "name": "stdout",
     "output_type": "stream",
     "text": [
      "wall time: 63.3s cpu time: 595s memory allocated: 72B no result returned\n"
     ]
    },
    {
     "data": {
      "text/plain": [
       "< matrix 100000x100000 : <MTX64 GF(2)>>"
      ]
     },
     "execution_count": 7,
     "metadata": {
      "text/plain": ""
     },
     "output_type": "execute_result"
    }
   ],
   "source": [
    "MTX64_WriteMatrix(m,\"a\");;\n",
    "ShowBench(MTX64_fMultiply, \".\", \"a\", \"a\", \"b\");\n",
    "p := MTX64_ReadMatrix(\"b\");"
   ]
  },
  {
   "cell_type": "markdown",
   "metadata": {},
   "source": [
    "## Gaussian Elimination\n",
    "\n",
    "Our other key primitive operation. To see what it does properly we need a singular matrix. \n",
    "\n",
    "We take the Kronecker (tensor) product of two rectangular matrices. \n",
    "\n",
    "If $A$ is $n\\times m$ and $B$ is $m\\times n$ with $m < n$ then $A\\otimes B$ will have rank at most $m^2$."
   ]
  },
  {
   "cell_type": "code",
   "execution_count": 11,
   "metadata": {},
   "outputs": [
    {
     "data": {
      "text/plain": [
       "<MTX64 GF(3^2)>"
      ]
     },
     "execution_count": 8,
     "metadata": {
      "text/plain": ""
     },
     "output_type": "execute_result"
    },
    {
     "data": {
      "text/plain": [
       "< matrix 19800x19800 : <MTX64 GF(3^2)>>"
      ]
     },
     "execution_count": 11,
     "metadata": {
      "text/plain": ""
     },
     "output_type": "execute_result"
    }
   ],
   "source": [
    "f := MTX64_FiniteField(9);\n",
    "m1 := RandomMat(200,99,GF(9));;\n",
    "m2 := RandomMat(99,200,GF(9));;\n",
    "m := MTX64_Matrix(KroneckerProduct(m1,m2));"
   ]
  },
  {
   "cell_type": "markdown",
   "metadata": {},
   "source": [
    "Our basic Gaussian elimnination operation applied to a matrix $A$, computes $M$, $K$, $R$, $\\gamma$ and $\\rho$ satisfying: \n",
    "\n",
    "$$\\pmatrix{M&0\\cr K & 1} \\rho A \\gamma = \\pmatrix{-1&R\\cr0&0}$$ \n",
    "\n",
    "where $\\gamma$ and $\\rho$ are permutations that effectively select the pivot columns and pivot rows of $A$. \n",
    "\n",
    "Using this, we can compute inverses, solve systems of equations, determine nullspaces, etc. efficiently."
   ]
  },
  {
   "cell_type": "code",
   "execution_count": 25,
   "metadata": {},
   "outputs": [
    {
     "name": "stdout",
     "output_type": "stream",
     "text": [
      "wall time: 11.8s cpu time: 11.1s memory allocated: 747.81MB no result returned\n"
     ]
    },
    {
     "data": {
      "text/plain": [
       "fail"
      ]
     },
     "execution_count": 21,
     "metadata": {
      "text/plain": ""
     },
     "output_type": "execute_result"
    },
    {
     "data": {
      "text/plain": [
       "< matrix 9801x9801 : <MTX64 GF(3^2)>>"
      ]
     },
     "execution_count": 23,
     "metadata": {
      "text/plain": ""
     },
     "output_type": "execute_result"
    },
    {
     "data": {
      "text/plain": [
       "< matrix 9999x9801 : <MTX64 GF(3^2)>>"
      ]
     },
     "execution_count": 24,
     "metadata": {
      "text/plain": ""
     },
     "output_type": "execute_result"
    },
    {
     "data": {
      "text/plain": [
       "< matrix 9801x9999 : <MTX64 GF(3^2)>>"
      ]
     },
     "execution_count": 25,
     "metadata": {
      "text/plain": ""
     },
     "output_type": "execute_result"
    }
   ],
   "source": [
    "ech := fail;; # suppress a warning.\n",
    "ShowBench(function() ech := MTX64_Echelize(m);end); \n",
    "ech. multiplier; ech.cleaner; ech.remnant;  # M, K and R in the above formula"
   ]
  },
  {
   "cell_type": "markdown",
   "metadata": {},
   "source": [
    "We an compare this runtime to multiplication. If $m$ was full rank we would expect them to be the same, since $m$ is lower rank, the Gaussian elimination is actually faster."
   ]
  },
  {
   "cell_type": "code",
   "execution_count": 55,
   "metadata": {},
   "outputs": [
    {
     "name": "stdout",
     "output_type": "stream",
     "text": [
      "wall time: 24.67s cpu time: 24.39s memory allocated: 186.95MB result returned\n"
     ]
    }
   ],
   "source": [
    "ShowBench(\\*,m,m);"
   ]
  },
  {
   "cell_type": "markdown",
   "metadata": {},
   "source": [
    "We can also use the multi-threaded version of this, although this problem is rather small for it."
   ]
  },
  {
   "cell_type": "code",
   "execution_count": 57,
   "metadata": {},
   "outputs": [
    {
     "name": "stdout",
     "output_type": "stream",
     "text": [
      "wall time: 4.68s cpu time: 46.18s memory allocated: 144B result returned\n"
     ]
    },
    {
     "data": {
      "text/plain": [
       "true"
      ]
     },
     "execution_count": 56,
     "metadata": {
      "text/plain": ""
     },
     "output_type": "execute_result"
    }
   ],
   "source": [
    "MTX64_WriteMatrix(m, \"a\"); \n",
    "ShowBench(MTX64_fEchelize, \".\", \"a\", \"gamma\", \"rho\", \"m\", \"k\", \"r\");"
   ]
  },
  {
   "cell_type": "markdown",
   "metadata": {},
   "source": [
    "## Run-time versus matrix size"
   ]
  },
  {
   "cell_type": "markdown",
   "metadata": {},
   "source": [
    "We set the field and maximum dimension and make a set of random matrices of different sizes"
   ]
  },
  {
   "cell_type": "code",
   "execution_count": 77,
   "metadata": {},
   "outputs": [],
   "source": [
    "q := 3;; maxdim := 20000;; \n",
    "sizes := List([1..16], i-> i*QuoInt(maxdim, 16));;"
   ]
  },
  {
   "cell_type": "code",
   "execution_count": 78,
   "metadata": {},
   "outputs": [],
   "source": [
    "mats := List(sizes, i-> MTX64_RandomMat(MTX64_FiniteField(q), i, i));;"
   ]
  },
  {
   "cell_type": "markdown",
   "metadata": {},
   "source": [
    "And look at the timing for squaring them:"
   ]
  },
  {
   "cell_type": "code",
   "execution_count": null,
   "metadata": {},
   "outputs": [],
   "source": [
    "fsq := function(m) MTX64_WriteMatrix(m, \"a\"); MTX64_fMultiply(\".\", \"a\", \"a\", \"b\"); end;;\n",
    "marks1 := List(mats, x-> BenchMark(\\*,x,x));;\n",
    "marksm := List(mats, x-> BenchMark(fsq,x));;\n",
    "Plot(\n",
    "[sizes,List(marks1, x-> x.cpu), rec(name := \"single-threaded\")],\n",
    "[sizes,List(marksm, x-> x.cpu), rec(name := \"multi-threaded CPU\", \n",
    "title := \"Meataxe64 runtimes for matrix multiply\", xaxis := \"Dimension\", yaxis := \"ms\")],\n",
    "[sizes,List(marksm, x-> QuoInt(x.wall,10^6)), rec(name := \"multi-threaded wall time\")]\n",
    ");\n"
   ]
  },
  {
   "cell_type": "code",
   "execution_count": null,
   "metadata": {},
   "outputs": [],
   "source": []
  }
 ],
 "metadata": {
  "kernelspec": {
   "display_name": "GAP 4 Native",
   "language": "gap",
   "name": "gap-4"
  },
  "language_info": {
   "codemirror_mode": "gap",
   "file_extension": ".g",
   "mimetype": "text/x-gap",
   "name": "GAP 4",
   "nbconvert_exporter": "",
   "pygments_lexer": "gap",
   "version": "4.dev"
  }
 },
 "nbformat": 4,
 "nbformat_minor": 2
}
