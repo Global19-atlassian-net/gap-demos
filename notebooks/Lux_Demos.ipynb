{
 "cells": [
  {
   "cell_type": "code",
   "execution_count": 1,
   "metadata": {},
   "outputs": [],
   "source": [
    "CODE_DIR := \"/Users/sal/gap/\";;"
   ]
  },
  {
   "cell_type": "code",
   "execution_count": 2,
   "metadata": {},
   "outputs": [],
   "source": [
    "Read(Concatenation(CODE_DIR, \"pmatmul.g\"));"
   ]
  },
  {
   "cell_type": "markdown",
   "metadata": {},
   "source": [
    "# Simple speedups for unsophisticated users on multicore workstations\n",
    "\n",
    "## Multiplying matrices\n",
    "\n",
    "We create a couple of random integer matrices and check GAP's default serial multiply."
   ]
  },
  {
   "cell_type": "code",
   "execution_count": 5,
   "metadata": {},
   "outputs": [
    {
     "name": "stdout",
     "output_type": "stream",
     "text": [
      "wall time: 6.73s cpu time: 6.10s memory allocated: 1006.98MB result returned\n"
     ]
    }
   ],
   "source": [
    "m1 := RandomMat(400, 400, Rationals);;\n",
    "m2 := RandomMat(400, 400, Rationals);;\n",
    "ShowBench(\\*, m1, m2);"
   ]
  },
  {
   "cell_type": "markdown",
   "metadata": {},
   "source": [
    "In a few lines of code, we can implement a simple blocked matrix multiply based on $$(A*B)_{ik} = \\sum_j A_{ij}*B_{jk}$$  "
   ]
  },
  {
   "cell_type": "code",
   "execution_count": 6,
   "metadata": {},
   "outputs": [
    {
     "data": {
      "text/plain": [
       "function( m1, m2, chop1, chop2, chop3 ) ... end"
      ]
     },
     "execution_count": 6,
     "metadata": {
      "text/plain": ""
     },
     "output_type": "execute_result"
    }
   ],
   "source": [
    "MatMulWithTasks := function(m1, m2, chop1, chop2, chop3)\n",
    "    local  A, B, prodtasks, sumtasks, C;\n",
    "    \n",
    "    # divide matrices into blocks\n",
    "    A := block(m1, chop1, chop2);\n",
    "    B := block(m2, chop2, chop3);\n",
    "\n",
    "    # Start chop1*chop2*chop3 multiply tasks\n",
    "    prodtasks := List([1..chop1], i-> List([1..chop2], j-> \n",
    "        List([1..chop3], k -> RunTask(\\*, A[i][j],B[j][k]))));\n",
    "    # And chop1 * chop3 tasks to do the summations\n",
    "    sumtasks := List([1..chop1], i -> List([1..chop3], k-> \n",
    "        RunTask(Accumulate,AddMat,ShallowCopyMat, \n",
    "                prodtasks[i]{[1..chop2]}[k])));\n",
    "    # Finally wait for the summations to complete and assemble the result\n",
    "    C := List(sumtasks, row -> List(row, TaskResult));\n",
    "    return unblock(C);\n",
    "end;\n"
   ]
  },
  {
   "cell_type": "code",
   "execution_count": 6,
   "metadata": {},
   "outputs": [
    {
     "name": "stdout",
     "output_type": "stream",
     "text": [
      "wall time: 2.59s cpu time: 15.39s memory allocated: 454.80MB result returned\n"
     ]
    }
   ],
   "source": [
    "ShowBench(MatMulWithTasks, m1, m2, 4, 4, 4);"
   ]
  },
  {
   "cell_type": "markdown",
   "metadata": {},
   "source": [
    "The `Accumulate` function takes a list of tasks and combines their results as they become available, allowing memory to be recovered."
   ]
  },
  {
   "cell_type": "code",
   "execution_count": 8,
   "metadata": {},
   "outputs": [
    {
     "name": "stdout",
     "output_type": "stream",
     "text": [
      "function ( op, makebase, tasks )\n",
      "    local i, acc;\n",
      "    i := WaitAnyTask( tasks );\n",
      "    acc := makebase( TaskResult( tasks[i] ) );\n",
      "    Remove( tasks, i );\n",
      "    while Length( tasks ) > 0 do\n",
      "        i := WaitAnyTask( tasks );\n",
      "        op( acc, TaskResult( tasks[i] ) );\n",
      "        Remove( tasks, i );\n",
      "    od;\n",
      "    return acc;\n",
      "end\n"
     ]
    }
   ],
   "source": [
    "Display(Accumulate);"
   ]
  },
  {
   "cell_type": "markdown",
   "metadata": {},
   "source": [
    "## A Simple Search\n",
    "\n",
    "We search for *Association Schemes* preserved by interesting permutation groups. Our initial filter selects relevant groups where the problem is non-trivial from GAP's primtive groups database. "
   ]
  },
  {
   "cell_type": "code",
   "execution_count": 5,
   "metadata": {},
   "outputs": [
    {
     "data": {
      "text/plain": [
       "[ PSL(2, 17), M_11 ]"
      ]
     },
     "execution_count": 4,
     "metadata": {
      "text/plain": ""
     },
     "output_type": "execute_result"
    },
    {
     "data": {
      "text/plain": [
       "[ 11, 7 ]"
      ]
     },
     "execution_count": 5,
     "metadata": {
      "text/plain": ""
     },
     "output_type": "execute_result"
    }
   ],
   "source": [
    "c := cands([136,165],[1..13]);; List(c, x -> x.g); List(c, x-> x.rank);"
   ]
  },
  {
   "cell_type": "markdown",
   "metadata": {},
   "source": [
    "We apply, for now, a brute force search over all partitions of the set $\\{2\\ldots r\\}$ where $r$ is the rank of the permutation action. This is a fair sized search space and grows very rapidly with $r$."
   ]
  },
  {
   "cell_type": "code",
   "execution_count": 7,
   "metadata": {},
   "outputs": [
    {
     "data": {
      "text/plain": [
       "115975"
      ]
     },
     "execution_count": 7,
     "metadata": {
      "text/plain": ""
     },
     "output_type": "execute_result"
    }
   ],
   "source": [
    "NrPartitionsSet([2..11]);"
   ]
  },
  {
   "cell_type": "code",
   "execution_count": 8,
   "metadata": {},
   "outputs": [
    {
     "name": "stdout",
     "output_type": "stream",
     "text": [
      "function ( s )\n",
      "    return Filtered( PartitionsSet( [ 2 .. s.rank ] ), function ( p )\n",
      "            return TestPartition( s, p );\n",
      "        end );\n",
      "end\n"
     ]
    }
   ],
   "source": [
    "Display(Brute);"
   ]
  },
  {
   "cell_type": "code",
   "execution_count": 10,
   "metadata": {},
   "outputs": [
    {
     "name": "stdout",
     "output_type": "stream",
     "text": [
      "wall time: 34.92s cpu time: 29.13s memory allocated: 16.38GB result returned\n"
     ]
    }
   ],
   "source": [
    "ShowBench(Brute, c[1]);"
   ]
  },
  {
   "cell_type": "markdown",
   "metadata": {},
   "source": [
    "A very simple approach to parallelising this brute force search produces a useful speedup"
   ]
  },
  {
   "cell_type": "code",
   "execution_count": 11,
   "metadata": {},
   "outputs": [
    {
     "name": "stdout",
     "output_type": "stream",
     "text": [
      "function ( s )\n",
      "    return ParFiltered( PartitionsSet( [ 2 .. s.rank ] ), function ( p )\n",
      "            return TestPartition( s, p );\n",
      "        end, 100 );\n",
      "end\n"
     ]
    }
   ],
   "source": [
    "Display(ParBrute);"
   ]
  },
  {
   "cell_type": "code",
   "execution_count": 6,
   "metadata": {},
   "outputs": [
    {
     "name": "stdout",
     "output_type": "stream",
     "text": [
      "wall time: 21.15s cpu time: 71.66s memory allocated: 14.43GB result returned\n"
     ]
    }
   ],
   "source": [
    "ShowBench(ParBrute, c[1]);"
   ]
  },
  {
   "cell_type": "markdown",
   "metadata": {},
   "source": [
    "Other things -- some of the atomic data structures?"
   ]
  }
 ],
 "metadata": {
  "kernelspec": {
   "display_name": "HPCGAP",
   "language": "gap",
   "name": "hpcgap"
  },
  "language_info": {
   "codemirror_mode": "gap",
   "file_extension": ".g",
   "mimetype": "text/x-gap",
   "name": "GAP 4",
   "nbconvert_exporter": "",
   "pygments_lexer": "gap",
   "version": "4.dev"
  }
 },
 "nbformat": 4,
 "nbformat_minor": 2
}
