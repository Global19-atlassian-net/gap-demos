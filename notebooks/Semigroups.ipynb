{
 "cells": [
  {
   "cell_type": "markdown",
   "metadata": {},
   "source": [
    "# Semigroups package in GAP"
   ]
  },
  {
   "cell_type": "code",
   "execution_count": null,
   "metadata": {},
   "outputs": [],
   "source": [
    "LoadPackage(\"Semigroups\");;"
   ]
  },
  {
   "cell_type": "markdown",
   "metadata": {},
   "source": [
    "The *Semigroups* package for GAP contains an external library called *libsemigroups*.\n",
    "\n",
    "This library is called automatically from GAP whenever the appropriate questions are asked.  Let's see the library in action.\n",
    "\n",
    "We start by creating the *Motzkin Monoid* of degree 4.  This is a bipartition semigroup, which has recently been of interest to researchers."
   ]
  },
  {
   "cell_type": "code",
   "execution_count": null,
   "metadata": {},
   "outputs": [],
   "source": [
    "M := MotzkinMonoid(4);\n",
    "Size(M);"
   ]
  },
  {
   "cell_type": "markdown",
   "metadata": {},
   "source": [
    "The Semigroups manual (http://gap-packages.github.io/Semigroups/doc/chap6.html) tells us that the *Froidure--Pin* algorithm can be used with semigroups that are *enumerable*.  Furthermore, it tells us that *libsemigroups* is used if the semigroup in question is a semigroups of bipartitions.  We first check that this is true:"
   ]
  },
  {
   "cell_type": "code",
   "execution_count": null,
   "metadata": {},
   "outputs": [],
   "source": [
    "IsEnumerableSemigroupRep(M);\n",
    "IsBipartitionSemigroup(M);"
   ]
  },
  {
   "cell_type": "markdown",
   "metadata": {},
   "source": [
    "So, if we ask the appropriate questions, *libsemigroups* itself will be called.  For example, it will be used when we ask for the semigroup's $\\mathcal{D}$-classes:"
   ]
  },
  {
   "cell_type": "code",
   "execution_count": null,
   "metadata": {
    "scrolled": true
   },
   "outputs": [],
   "source": [
    "d := GreensDClasses(M);"
   ]
  },
  {
   "cell_type": "markdown",
   "metadata": {},
   "source": [
    "We can see how these $\\mathcal{D}$-classes fit together by displaying the semigroup's eggbox diagram:"
   ]
  },
  {
   "cell_type": "code",
   "execution_count": null,
   "metadata": {
    "scrolled": false
   },
   "outputs": [],
   "source": [
    "JupyterSplashDot(DotString(M));"
   ]
  },
  {
   "cell_type": "markdown",
   "metadata": {},
   "source": [
    "We know that the Motzkin monoid has one $\\mathcal{D}$-class for each rank, 0 to 4."
   ]
  },
  {
   "cell_type": "code",
   "execution_count": null,
   "metadata": {
    "scrolled": true
   },
   "outputs": [],
   "source": [
    "List(d, class -> RankOfBipartition(Representative(class)));"
   ]
  },
  {
   "cell_type": "markdown",
   "metadata": {},
   "source": [
    "Let's take elements of rank 1 and 2, and use them to generate a congruence."
   ]
  },
  {
   "cell_type": "code",
   "execution_count": null,
   "metadata": {},
   "outputs": [],
   "source": [
    "x := Random(d[5]);\n",
    "y := Random(d[2]);"
   ]
  },
  {
   "cell_type": "code",
   "execution_count": null,
   "metadata": {},
   "outputs": [],
   "source": [
    "cong := SemigroupCongruence(M, [x, y]);;"
   ]
  },
  {
   "cell_type": "markdown",
   "metadata": {},
   "source": [
    "Calculating features of the congruence will also use the *libsemigroups* library, even taking advantage of parallelism to try different algorithms at the same time!"
   ]
  },
  {
   "cell_type": "code",
   "execution_count": null,
   "metadata": {},
   "outputs": [],
   "source": [
    "NrCongruenceClasses(cong);"
   ]
  },
  {
   "cell_type": "code",
   "execution_count": null,
   "metadata": {},
   "outputs": [],
   "source": [
    "IsReesCongruence(cong);"
   ]
  },
  {
   "cell_type": "markdown",
   "metadata": {},
   "source": [
    "All these features are faster for using the library, and this has even made it possible to calculate entire congruence lattices in a reasonable amount of time."
   ]
  },
  {
   "cell_type": "code",
   "execution_count": null,
   "metadata": {},
   "outputs": [],
   "source": [
    "latt := LatticeOfCongruences(M);"
   ]
  },
  {
   "cell_type": "code",
   "execution_count": null,
   "metadata": {},
   "outputs": [],
   "source": [
    "time;"
   ]
  },
  {
   "cell_type": "markdown",
   "metadata": {},
   "source": [
    "We can even display this lattice:"
   ]
  },
  {
   "cell_type": "code",
   "execution_count": null,
   "metadata": {},
   "outputs": [],
   "source": [
    "JupyterSplashDot(DotString(latt));"
   ]
  },
  {
   "cell_type": "markdown",
   "metadata": {},
   "source": [
    "The lattice has an interesting structure, but it is not immediately obvious why it has the shape it does.  This investigation led to a classification of the congruences of a variety of related monoids in the following research paper:\n",
    "\n",
    "J. East, J. D. Mitchell, N. Ruškuc, and M. Torpey,\n",
    "*Congruence lattices of finite diagram monoids*,\n",
    "Advances in Mathematics, **333**:931–1003,\n",
    "2018,\n",
    "https://doi.org/10.1016/j.aim.2018.05.016."
   ]
  }
 ],
 "metadata": {
  "kernelspec": {
   "display_name": "GAP 4",
   "language": "gap",
   "name": "gap-4"
  },
  "language_info": {
   "codemirror_mode": "gap",
   "file_extension": ".g",
   "mimetype": "text/x-gap",
   "name": "GAP 4",
   "nbconvert_exporter": "",
   "pygments_lexer": "gap",
   "version": "4.10.2"
  }
 },
 "nbformat": 4,
 "nbformat_minor": 2
}
