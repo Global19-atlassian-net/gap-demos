{
 "cells": [
  {
   "cell_type": "markdown",
   "metadata": {},
   "source": [
    "# Semigroups package in GAP"
   ]
  },
  {
   "cell_type": "code",
   "execution_count": 1,
   "metadata": {},
   "outputs": [
    {
     "name": "stdout",
     "output_type": "stream",
     "text": [
      "#I  method installed for Matrix matches more than one declaration\n"
     ]
    },
    {
     "data": {
      "text/plain": [
       "true"
      ]
     },
     "execution_count": 1,
     "metadata": {
      "text/plain": ""
     },
     "output_type": "execute_result"
    }
   ],
   "source": [
    "LoadPackage(\"Semigroups\");"
   ]
  },
  {
   "cell_type": "markdown",
   "metadata": {},
   "source": [
    "The *Semigroups* package for GAP contains an external library called *libsemigroups*.\n",
    "\n",
    "This library is called automatically from GAP whenever the appropriate questions are asked.  Let's see the library in action.\n",
    "\n",
    "We start by creating the *Motzkin Monoid* of degree 4.  This is a bipartition semigroup, which has recently been of interest to researchers."
   ]
  },
  {
   "cell_type": "code",
   "execution_count": 3,
   "metadata": {},
   "outputs": [
    {
     "data": {
      "text/plain": [
       "<regular bipartition *-monoid of size 323, degree 4 with 8 generators>"
      ]
     },
     "execution_count": 2,
     "metadata": {
      "text/plain": ""
     },
     "output_type": "execute_result"
    },
    {
     "data": {
      "text/plain": [
       "323"
      ]
     },
     "execution_count": 3,
     "metadata": {
      "text/plain": ""
     },
     "output_type": "execute_result"
    }
   ],
   "source": [
    "M := MotzkinMonoid(4);\n",
    "Size(M);"
   ]
  },
  {
   "cell_type": "markdown",
   "metadata": {},
   "source": [
    "The Semigroups manual (http://gap-packages.github.io/Semigroups/doc/chap6.html) tells us that the *Froidure--Pin* algorithm can be used with semigroups that are *enumerable*.  Furthermore, it tells us that *libsemigroups* is used if the semigroup in question is a semigroups of bipartitions.  We first check that this is true:"
   ]
  },
  {
   "cell_type": "code",
   "execution_count": 5,
   "metadata": {},
   "outputs": [
    {
     "data": {
      "text/plain": [
       "true"
      ]
     },
     "execution_count": 4,
     "metadata": {
      "text/plain": ""
     },
     "output_type": "execute_result"
    },
    {
     "data": {
      "text/plain": [
       "true"
      ]
     },
     "execution_count": 5,
     "metadata": {
      "text/plain": ""
     },
     "output_type": "execute_result"
    }
   ],
   "source": [
    "IsEnumerableSemigroupRep(M);\n",
    "IsBipartitionSemigroup(M);"
   ]
  },
  {
   "cell_type": "markdown",
   "metadata": {},
   "source": [
    "So, if we ask the appropriate questions, *libsemigroups* itself will be called.  For example, it will be used when we ask for the semigroup's $D$-classes:"
   ]
  },
  {
   "cell_type": "code",
   "execution_count": 7,
   "metadata": {
    "scrolled": true
   },
   "outputs": [
    {
     "data": {
      "text/plain": [
       "[ <Green's D-class: <block bijection: [ 1, -1 ], [ 2, -2 ], [ 3, -3 ], [ 4, -4 ]>>, <Green's D-class: <bipartition: [ 1, 2 ], [ 3, -3 ], [ 4, -4 ], [ -1, -2 ]>>, <Green's D-class: <bipartition: [ 1 ], [ 2, -1 ], [ 3, -2 ], [ 4, -3 ], [ -4 ]>>, <Green's D-class: <bipartition: [ 1, 2 ], [ 3, 4 ], [ -1, -2 ], [ -3, -4 ]>>, <Green's D-class: <bipartition: [ 1, 2 ], [ 3, -1 ], [ 4 ], [ -2, -3 ], [ -4 ]>> ]"
      ]
     },
     "execution_count": 6,
     "metadata": {
      "text/plain": ""
     },
     "output_type": "execute_result"
    },
    {
     "data": {
      "text/plain": [
       "5"
      ]
     },
     "execution_count": 7,
     "metadata": {
      "text/plain": ""
     },
     "output_type": "execute_result"
    }
   ],
   "source": [
    "d := GreensDClasses(M);\n",
    "Length(d);"
   ]
  },
  {
   "cell_type": "markdown",
   "metadata": {},
   "source": [
    "We know that the Motzkin monoid has one $D$-class for each rank, 0 to 4."
   ]
  },
  {
   "cell_type": "code",
   "execution_count": 8,
   "metadata": {},
   "outputs": [
    {
     "data": {
      "text/plain": [
       "[ 4, 2, 3, 0, 1 ]"
      ]
     },
     "execution_count": 8,
     "metadata": {
      "text/plain": ""
     },
     "output_type": "execute_result"
    }
   ],
   "source": [
    "List(d, class -> RankOfBipartition(Representative(class)));"
   ]
  },
  {
   "cell_type": "markdown",
   "metadata": {},
   "source": [
    "Let's take elements of rank 1 and 2, and use them to generate a congruence."
   ]
  },
  {
   "cell_type": "code",
   "execution_count": 10,
   "metadata": {},
   "outputs": [
    {
     "data": {
      "text/plain": [
       "<bipartition: [ 1 ], [ 2, -4 ], [ 3, 4 ], [ -1 ], [ -2 ], [ -3 ]>"
      ]
     },
     "execution_count": 9,
     "metadata": {
      "text/plain": ""
     },
     "output_type": "execute_result"
    },
    {
     "data": {
      "text/plain": [
       "<bipartition: [ 1, -1 ], [ 2 ], [ 3, -2 ], [ 4 ], [ -3, -4 ]>"
      ]
     },
     "execution_count": 10,
     "metadata": {
      "text/plain": ""
     },
     "output_type": "execute_result"
    }
   ],
   "source": [
    "x := Random(d[5]);\n",
    "y := Random(d[2]);"
   ]
  },
  {
   "cell_type": "code",
   "execution_count": 12,
   "metadata": {},
   "outputs": [
    {
     "data": {
      "text/plain": [
       "1"
      ]
     },
     "execution_count": 11,
     "metadata": {
      "text/plain": ""
     },
     "output_type": "execute_result"
    },
    {
     "data": {
      "text/plain": [
       "2"
      ]
     },
     "execution_count": 12,
     "metadata": {
      "text/plain": ""
     },
     "output_type": "execute_result"
    }
   ],
   "source": [
    "RankOfBipartition(x);\n",
    "RankOfBipartition(y);"
   ]
  },
  {
   "cell_type": "code",
   "execution_count": 13,
   "metadata": {},
   "outputs": [],
   "source": [
    "cong := SemigroupCongruence(M, [x, y]);;"
   ]
  },
  {
   "cell_type": "markdown",
   "metadata": {},
   "source": [
    "Calculating features of the congruence will also use the *libsemigroups* library, even taking advantage of parallelism to try different algorithms at the same time!"
   ]
  },
  {
   "cell_type": "code",
   "execution_count": 14,
   "metadata": {},
   "outputs": [
    {
     "data": {
      "text/plain": [
       "18"
      ]
     },
     "execution_count": 14,
     "metadata": {
      "text/plain": ""
     },
     "output_type": "execute_result"
    }
   ],
   "source": [
    "NrCongruenceClasses(cong);"
   ]
  },
  {
   "cell_type": "code",
   "execution_count": 15,
   "metadata": {},
   "outputs": [
    {
     "data": {
      "text/plain": [
       "true"
      ]
     },
     "execution_count": 15,
     "metadata": {
      "text/plain": ""
     },
     "output_type": "execute_result"
    }
   ],
   "source": [
    "IsReesCongruence(cong);"
   ]
  },
  {
   "cell_type": "markdown",
   "metadata": {},
   "source": [
    "All these features are faster for using the library, and this has even made it possible to calculate entire congruence lattices in a reasonable amount of time."
   ]
  },
  {
   "cell_type": "code",
   "execution_count": 16,
   "metadata": {},
   "outputs": [
    {
     "data": {
      "text/plain": [
       "<digraph with 11 vertices, 57 edges>"
      ]
     },
     "execution_count": 16,
     "metadata": {
      "text/plain": ""
     },
     "output_type": "execute_result"
    }
   ],
   "source": [
    "latt := LatticeOfCongruences(M);"
   ]
  },
  {
   "cell_type": "code",
   "execution_count": 17,
   "metadata": {},
   "outputs": [
    {
     "data": {
      "text/plain": [
       "20895"
      ]
     },
     "execution_count": 17,
     "metadata": {
      "text/plain": ""
     },
     "output_type": "execute_result"
    }
   ],
   "source": [
    "time;"
   ]
  },
  {
   "cell_type": "markdown",
   "metadata": {},
   "source": [
    "The lattice has an interesting structure, but it is not immediately obvious why it has the shape it does.  This investigation led to a classification of the congruences of a variety of related monoids in the following research paper:\n",
    "\n",
    "J. East, J. D. Mitchell, N. Ruškuc, and M. Torpey,\n",
    "*Congruence lattices of finite diagram monoids*,\n",
    "Advances in Mathematics, **333**:931–1003,\n",
    "2018,\n",
    "https://doi.org/10.1016/j.aim.2018.05.016."
   ]
  }
 ],
 "metadata": {
  "kernelspec": {
   "display_name": "GAP 4",
   "language": "gap",
   "name": "gap-4"
  },
  "language_info": {
   "codemirror_mode": "gap",
   "file_extension": ".g",
   "mimetype": "text/x-gap",
   "name": "GAP 4",
   "nbconvert_exporter": "",
   "pygments_lexer": "gap",
   "version": "4.10.2"
  }
 },
 "nbformat": 4,
 "nbformat_minor": 2
}
