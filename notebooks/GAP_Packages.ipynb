{
 "cells": [
  {
   "cell_type": "code",
   "execution_count": 1,
   "metadata": {},
   "outputs": [
    {
     "data": {
      "text/plain": [
       "true"
      ]
     },
     "execution_count": 1,
     "metadata": {
      "text/plain": ""
     },
     "output_type": "execute_result"
    }
   ],
   "source": [
    "LoadPackage(\"jupyterviz\");"
   ]
  },
  {
   "cell_type": "code",
   "execution_count": 2,
   "metadata": {
    "collapsed": true
   },
   "outputs": [],
   "source": [
    "pkgnames := SortedList(RecNames(GAPInfo.PackagesInfo));;"
   ]
  },
  {
   "cell_type": "code",
   "execution_count": 3,
   "metadata": {},
   "outputs": [
    {
     "data": {
      "text/plain": [
       "[ \"\", \"Afghanistan\", \"Albania\", \"Algeria\", \"American Samoa\", \"Andorra\", \"Angola\", \"Anguilla\", \"Antarctica\", \"Antigua and Barbuda\", \"Argentina\", \"Armenia\", \"Aruba\", \"Australia\", \"Austria\", \"Azerbaijan\", \"Bahamas\", \"Bahrain\", \"Bangladesh\", \"Barbados\", \"Belarus\", \"Belgium\", \"Belize\", \"Benin\", \"Bermuda\", \"Bhutan\", \"Bolivia\", \"Bosnia and Herzgovina\", \"Botswana\", \"Bouvet Island\", \"Brazil\", \"British Indian Ocean Territory\", \"British Virgin Islands\", \"Brunei\", \"Bulgaria\", \"Burkina Faso\", \"Burundi\", \"Cambodia\", \"Cameroon\", \"Canada\", \"Cape Verde\", \"Cayman Islands\", \"Central African Republic\", \"Chad\", \"Chile\", \"China\", \"Christmas Island\", \"Cocos [Keeling] Islands\", \"Colombia\", \"Comoros\", \"Congo - Brazzaville\", \"Congo - Kinshasa\", \"Cook Islands\", \"Costa Rica\", \"Cote d'Ivoire\", \"Croatia\", \"Cuba\", \"Cyprus\", \"Czech Republic\", \"Denmark\", \"Djibouti\", \"Dominica\", \"Dominican Republic\", \"Ecuador\", \"Egypt\", \"El Salvador\", \"Equatorial Guinea\", \"Eritrea\", \"Estonia\", \"Ethiopia\", \"Falkland Islands\", \"Faroe Islands\", \"Fiji\", \"Finland\", \"France\", \"French Guiana\", \"French Polynesia\", \"French Southern Territories\", \"Gabon\", \"Gambia\", \"Georgia\", \"Germany\", \"Ghana\", \"Gibraltar\", \"Greece\", \"Greenland\", \"Grenada\", \"Guadeloupe\", \"Guam\", \"Guatemala\", \"Guinea\", \"Guinea-Bissau\", \"Guyana\", \"Haiti\", \"Heard Island and McDonald Islands\", \"Honduras\", \"Hong Kong SAR China\", \"Hungary\", \"Iceland\", \"India\", \"Indonesia\", \"Iran\", \"Iraq\", \"Ireland\", \"Israel\", \"Italy\", \"Jamaica\", \"Japan\", \"Jordan\", \"Kazakhstan\", \"Kenya\", \"Kiribati\", \"Korea\", \"Kuwait\", \"Kyrgyzstan\", \"Laos\", \"Latvia\", \"Lebanon\", \"Lesotho\", \"Liberia\", \"Libya\", \"Liechtenstein\", \"Lithuania\", \"Luxembourg\", \"Macau SAR China\", \"Macedonia\", \"Madagascar\", \"Malawi\", \"Malaysia\", \"Maldives\", \"Mali\", \"Malta\", \"Marshall Islands\", \"Martinique\", \"Mauritiana\", \"Mauritius\", \"Mayotte\", \"Mexico\", \"Micronesia\", \"Moldova\", \"Monaco\", \"Mongolia\", \"Montserrat\", \"Morocco\", \"Mozambique\", \"Myanmar [Burma]\", \"Namibia\", \"Nauru\", \"Nepal\", \"Netherlands\", \"Netherlands Antilles\", \"New Caledonia\", \"New Zealand\", \"Nicaragua\", \"Niger\", \"Nigeria\", \"Niue\", \"Norfolk Island\", \"North Korea\", \"Northern Mariana Islands\", \"Norway\", \"Oman\", \"Pakistan\", \"Palau\", \"Panama\", \"Papua New Guinea\", \"Paraguay\", \"Peru\", \"Philippines\", \"Pitcairn Islands\", \"Poland\", \"Portugal\", \"Puerto Rico\", \"Qatar\", \"Reunion\", \"Romania\", \"Russia\", \"Rwanda\", \"Saint Helena\", \"Saint Kitts and Nevis\", \"Saint Lucia\", \"Saint Pierre and Miquelon\", \"Saint Vincent and the Grenadines\", \"Samoa\", \"San Marino\", \"Sao Tome and Principe\", \"Saudi Arabia\", \"Senegal\", \"Serbia\", \"Seychelles\", \"Sierra Leone\", \"Singapore\", \"Slovakia\", \"Slovenia\", \"Solomon Islands\", \"Somalia\", \"South Africa\", \"South Georgia and the South Sandwich Islands\", \"South Korea\", \"Spain\", \"Sri Lanka\", \"Sudan\", \"Suriname\", \"Svalbard and Jan Mayen\", \"Swaziland\", \"Sweden\", \"Switzerland\", \"Syria\", \"Taiwan\", \"Tajikstan\", \"Tanzania\", \"Thailand\", \"Timor-Leste\", \"Togo\", \"Tokelau\", \"Tonga\", \"Trinidad and Tobago\", \"Tunisia\", \"Turkemenistan\", \"Turkey\", \"Turks and Caicos Islands\", \"Tuvalu\", \"U.K.\", \"U.S Minor Outlying Islands\", \"U.S Virgin Islands\", \"U.S.\", \"Uganda\", \"Ukraine\", \"United Arab Emirates\", \"Uruguay\", \"Uzbekistan\", \"Vanuatu\", \"Vatican City\", \"Venezuela\", \"Vietnam\", \"Wallis and Futuna\", \"Western Sahara\", \"Yemen\", \"Zambia\", \"Zimbabwe\" ]"
      ]
     },
     "execution_count": 3,
     "metadata": {
      "text/plain": ""
     },
     "output_type": "execute_result"
    }
   ],
   "source": [
    "maplocations := \n",
    "[ \"\", \"Afghanistan\", \"Albania\", \"Algeria\", \"American Samoa\", \"Andorra\", \"Angola\", \"Anguilla\", \n",
    "\"Antarctica\", \"Antigua and Barbuda\", \"Argentina\", \"Armenia\", \"Aruba\", \"Australia\", \"Austria\", \n",
    "\"Azerbaijan\", \"Bahamas\", \"Bahrain\", \"Bangladesh\", \"Barbados\", \"Belarus\", \"Belgium\", \"Belize\", \n",
    "\"Benin\", \"Bermuda\", \"Bhutan\", \"Bolivia\", \"Bosnia and Herzgovina\", \"Botswana\", \"Bouvet Island\", \n",
    "\"Brazil\", \"British Indian Ocean Territory\", \"British Virgin Islands\", \"Brunei\", \"Bulgaria\", \n",
    "\"Burkina Faso\", \"Burundi\", \"Cambodia\", \"Cameroon\", \"Canada\", \"Cape Verde\", \"Cayman Islands\", \n",
    "\"Central African Republic\", \"Chad\", \"Chile\", \"China\", \"Christmas Island\", \n",
    "\"Cocos [Keeling] Islands\", \"Colombia\", \"Comoros\", \"Congo - Brazzaville\", \"Congo - Kinshasa\", \n",
    "\"Cook Islands\", \"Costa Rica\", \"Cote d'Ivoire\", \"Croatia\", \"Cuba\", \"Cyprus\", \"Czech Republic\", \n",
    "\"Denmark\", \"Djibouti\", \"Dominica\", \"Dominican Republic\", \"Ecuador\", \"Egypt\", \"El Salvador\", \n",
    "\"Equatorial Guinea\", \"Eritrea\", \"Estonia\", \"Ethiopia\", \"Falkland Islands\", \"Faroe Islands\", \n",
    "\"Fiji\", \"Finland\", \"France\", \"French Guiana\", \"French Polynesia\", \n",
    "\"French Southern Territories\", \"Gabon\", \"Gambia\", \"Georgia\", \"Germany\", \"Ghana\", \"Gibraltar\", \n",
    "\"Greece\", \"Greenland\", \"Grenada\", \"Guadeloupe\", \"Guam\", \"Guatemala\", \"Guinea\", \"Guinea-Bissau\",\n",
    "\"Guyana\", \"Haiti\", \"Heard Island and McDonald Islands\", \"Honduras\", \"Hong Kong SAR China\", \n",
    "\"Hungary\", \"Iceland\", \"India\", \"Indonesia\", \"Iran\", \"Iraq\", \"Ireland\", \"Israel\", \"Italy\", \n",
    "\"Jamaica\", \"Japan\", \"Jordan\", \"Kazakhstan\", \"Kenya\", \"Kiribati\", \"Korea\", \"Kuwait\", \n",
    "\"Kyrgyzstan\", \"Laos\", \"Latvia\", \"Lebanon\", \"Lesotho\", \"Liberia\", \"Libya\", \"Liechtenstein\", \n",
    "\"Lithuania\", \"Luxembourg\", \"Macau SAR China\", \"Macedonia\", \"Madagascar\", \"Malawi\", \"Malaysia\", \n",
    "\"Maldives\", \"Mali\", \"Malta\", \"Marshall Islands\", \"Martinique\", \"Mauritiana\", \"Mauritius\", \n",
    "\"Mayotte\", \"Mexico\", \"Micronesia\", \"Moldova\", \"Monaco\", \"Mongolia\", \"Montserrat\", \"Morocco\", \n",
    "\"Mozambique\", \"Myanmar [Burma]\", \"Namibia\", \"Nauru\", \"Nepal\", \"Netherlands\", \n",
    "\"Netherlands Antilles\", \"New Caledonia\", \"New Zealand\", \"Nicaragua\", \"Niger\", \"Nigeria\", \n",
    "\"Niue\", \"Norfolk Island\", \"North Korea\", \"Northern Mariana Islands\", \"Norway\", \"Oman\", \n",
    "\"Pakistan\", \"Palau\", \"Panama\", \"Papua New Guinea\", \"Paraguay\", \"Peru\", \"Philippines\", \n",
    "\"Pitcairn Islands\", \"Poland\", \"Portugal\", \"Puerto Rico\", \"Qatar\", \"Reunion\", \"Romania\", \n",
    "\"Russia\", \"Rwanda\", \"Saint Helena\", \"Saint Kitts and Nevis\", \"Saint Lucia\", \n",
    "\"Saint Pierre and Miquelon\", \"Saint Vincent and the Grenadines\", \"Samoa\", \"San Marino\", \n",
    "\"Sao Tome and Principe\", \"Saudi Arabia\", \"Senegal\", \"Serbia\", \"Seychelles\", \"Sierra Leone\", \n",
    "\"Singapore\", \"Slovakia\", \"Slovenia\", \"Solomon Islands\", \"Somalia\", \"South Africa\", \n",
    "\"South Georgia and the South Sandwich Islands\", \"South Korea\", \"Spain\", \"Sri Lanka\", \"Sudan\", \n",
    "\"Suriname\", \"Svalbard and Jan Mayen\", \"Swaziland\", \"Sweden\", \"Switzerland\", \"Syria\", \"Taiwan\", \n",
    "\"Tajikstan\", \"Tanzania\", \"Thailand\", \"Timor-Leste\", \"Togo\", \"Tokelau\", \"Tonga\", \n",
    "\"Trinidad and Tobago\", \"Tunisia\", \"Turkemenistan\", \"Turkey\", \"Turks and Caicos Islands\", \n",
    "\"Tuvalu\", \"U.K.\", \"U.S Minor Outlying Islands\", \"U.S Virgin Islands\", \"U.S.\", \"Uganda\", \n",
    "\"Ukraine\", \"United Arab Emirates\", \"Uruguay\", \"Uzbekistan\", \"Vanuatu\", \"Vatican City\", \n",
    "\"Venezuela\", \"Vietnam\", \"Wallis and Futuna\", \"Western Sahara\", \"Yemen\", \"Zambia\", \"Zimbabwe\" ];"
   ]
  },
  {
   "cell_type": "code",
   "execution_count": 4,
   "metadata": {},
   "outputs": [
    {
     "data": {
      "text/plain": [
       "240"
      ]
     },
     "execution_count": 4,
     "metadata": {
      "text/plain": ""
     },
     "output_type": "execute_result"
    }
   ],
   "source": [
    "Length(maplocations);"
   ]
  },
  {
   "cell_type": "code",
   "execution_count": 5,
   "metadata": {},
   "outputs": [
    {
     "data": {
      "text/plain": [
       "[ \"0\", \"0\", \"0\", \"0\", \"0\", \"0\", \"0\", \"0\", \"0\", \"0\", \"0\", \"0\", \"0\", \"0\", \"0\", \"0\", \"0\", \"0\", \"0\", \"0\", \"0\", \"0\", \"0\", \"0\", \"0\", \"0\", \"0\", \"0\", \"0\", \"0\", \"0\", \"0\", \"0\", \"0\", \"0\", \"0\", \"0\", \"0\", \"0\", \"0\", \"0\", \"0\", \"0\", \"0\", \"0\", \"0\", \"0\", \"0\", \"0\", \"0\", \"0\", \"0\", \"0\", \"0\", \"0\", \"0\", \"0\", \"0\", \"0\", \"0\", \"0\", \"0\", \"0\", \"0\", \"0\", \"0\", \"0\", \"0\", \"0\", \"0\", \"0\", \"0\", \"0\", \"0\", \"0\", \"0\", \"0\", \"0\", \"0\", \"0\", \"0\", \"0\", \"0\", \"0\", \"0\", \"0\", \"0\", \"0\", \"0\", \"0\", \"0\", \"0\", \"0\", \"0\", \"0\", \"0\", \"0\", \"0\", \"0\", \"0\", \"0\", \"0\", \"0\", \"0\", \"0\", \"0\", \"0\", \"0\", \"0\", \"0\", \"0\", \"0\", \"0\", \"0\", \"0\", \"0\", \"0\", \"0\", \"0\", \"0\", \"0\", \"0\", \"0\", \"0\", \"0\", \"0\", \"0\", \"0\", \"0\", \"0\", \"0\", \"0\", \"0\", \"0\", \"0\", \"0\", \"0\", \"0\", \"0\", \"0\", \"0\", \"0\", \"0\", \"0\", \"0\", \"0\", \"0\", \"0\", \"0\", \"0\", \"0\", \"0\", \"0\", \"0\", \"0\", \"0\", \"0\", \"0\", \"0\", \"0\", \"0\", \"0\", \"0\", \"0\", \"0\", \"0\", \"0\", \"0\", \"0\", \"0\", \"0\", \"0\", \"0\", \"0\", \"0\", \"0\", \"0\", \"0\", \"0\", \"0\", \"0\", \"0\", \"0\", \"0\", \"0\", \"0\", \"0\", \"0\", \"0\", \"0\", \"0\", \"0\", \"0\", \"0\", \"0\", \"0\", \"0\", \"0\", \"0\", \"0\", \"0\", \"0\", \"0\", \"0\", \"0\", \"0\", \"0\", \"0\", \"0\", \"0\", \"0\", \"0\", \"0\", \"0\", \"0\", \"0\", \"0\", \"0\", \"0\", \"0\", \"0\", \"0\", \"0\", \"0\", \"0\", \"0\", \"0\", \"0\", \"0\", \"0\", \"0\", \"0\", \"0\", \"0\", \"0\", \"0\", \"0\", \"0\", \"0\", \"0\" ]"
      ]
     },
     "execution_count": 5,
     "metadata": {
      "text/plain": ""
     },
     "output_type": "execute_result"
    }
   ],
   "source": [
    "values:=List(maplocations, c -> \"0\");"
   ]
  },
  {
   "cell_type": "code",
   "execution_count": 6,
   "metadata": {},
   "outputs": [
    {
     "data": {
      "text/plain": [
       "function( author ) ... end"
      ]
     },
     "execution_count": 6,
     "metadata": {
      "text/plain": ""
     },
     "output_type": "execute_result"
    }
   ],
   "source": [
    "guess := function(author)\n",
    "local loc, country;\n",
    "if IsBound(author.PostalAddress) and Length(author.PostalAddress)>0 then\n",
    "    loc := SplitString( author.PostalAddress, \",\\n\", \" \");\n",
    "    country := loc[Length(loc)];\n",
    "    if country in [\"Kingdom\",\"Scotland\",\"UK\",\"1LY\",\"2AZ\",\"9SX\",] or EndsWith(country,\"Scotland\") or EndsWith(country,\"SCOTLAND\") then \n",
    "        country := \"U.K.\";\n",
    "    elif country in [\"USA\",\"U.S.A.\"] then \n",
    "        country := \"U.S.\";\n",
    "    fi;\n",
    "    return country;\n",
    "elif IsBound(author.PostalAddres) and Length(author.PostalAddres)>0 then\n",
    "    loc := SplitString( author.PostalAddres, \",\\n\", \" \");\n",
    "    country := loc[Length(loc)];\n",
    "    if country in [\"Kingdom\",\"Scotland\",\"UK\",] or EndsWith(country,\"Scotland\") then \n",
    "        country := \"U.K.\";\n",
    "    fi;\n",
    "    return country;\n",
    "elif IsBound(author.Place) then\n",
    "    if Length(author.Place)>=3 and author.Place{[Length(author.Place)-2..Length(author.Place)]}=\"USA\" then\n",
    "        country := \"U.S.\";\n",
    "    elif author.Place in [\"Eugene\",\"Fort Collins, CO\"] then\n",
    "        country := \"U.S.\";\n",
    "    elif author.Place in [\"Aachen\",\"Bielefeld\",\"Braunschweig\",\"Darmstadt\",\"Kaiserslautern\",\"Munich\",\"Stuttgart\"] then\n",
    "        country := \"Germany\";\n",
    "    elif author.Place in [\"Hagenberg\"] then\n",
    "        country := \"Austria\";\n",
    "    elif author.Place in [\"Bangor\",\"London\",\"Oxford\",\"St Andrews\"] then\n",
    "        country := \"U.K.\";\n",
    "    elif author.Place=\"Open University\" then\n",
    "        country := \"U.K.\";\n",
    "    elif Length(author.Place)>=4 and author.Place{[Length(author.Place)-3..Length(author.Place)]}=\", PT\" then\n",
    "        country := \"Portugal\";\n",
    "    elif author.Place in [\"Porto\"] then\n",
    "        country := \"Portugal\";       \n",
    "    elif author.Place in [\"Melbourne\",\"Sydney\"] or EndsWith(author.Place,\"Tasmania\") then\n",
    "        country := \"Australia\"; \n",
    "    elif author.Place in [\"Auckland\"] then\n",
    "        country := \"New Zealand\"; \n",
    "    elif author.Place in [\"Galway\"] then\n",
    "        country := \"Ireland\"; \n",
    "    elif author.Place in [\"Trento\"] then\n",
    "        country := \"Italy\"; \n",
    "    elif author.Place in [\"Zaporozhye\"] then\n",
    "        country := \"Ukraine\"; \n",
    "    elif author.Place in [\"Al Ain\"] then\n",
    "        country := \"United Arab Emirates\"; \n",
    "    elif EndsWith(author.Place,\"Japan\") then\n",
    "        country := \"Japan\"; \n",
    "    fi;\n",
    "    return country;\n",
    "else\n",
    "    return fail;\n",
    "fi;    \n",
    "end;"
   ]
  },
  {
   "cell_type": "code",
   "execution_count": 8,
   "metadata": {
    "scrolled": true
   },
   "outputs": [
    {
     "name": "stdout",
     "output_type": "stream",
     "text": [
      "Gutsche - Germany\n",
      "Gamble - Australia\n",
      "Hulpke - U.S.\n",
      "Havas - Australia\n",
      "Ramsay - Australia\n",
      "Horn - Germany\n",
      "Dekimpe - Belgium\n",
      "Eick - Germany\n",
      "Assmann - fail\n",
      "Distler - fail\n",
      "Eick - Germany\n",
      "Gamble - Australia\n",
      "Nickel - fail\n",
      "O'Brien - Zealand\n",
      "Horn - Germany\n",
      "Wilson - U.K.\n",
      "Parker - fail\n",
      "Nickerson - fail\n",
      "Bray - U.K.\n",
      "Breuer - Germany\n",
      "Gutsche - Germany\n",
      "Horn - Germany\n",
      "Barakat - fail\n",
      "Pfeiffer - fail\n",
      "Skartsæterhagen - fail\n",
      "Wensley - fail\n",
      "Whitney - fail\n",
      "Zickgraf - fail\n",
      "Delgado - Portugal\n",
      "Linton - U.K.\n",
      "Morais - known\n",
      "Muntyan - U.S.\n",
      "Savchuk - U.S.\n",
      "Eick - Germany\n",
      "Horn - Germany\n",
      "O'Brien - Zealand\n",
      "Breuer - GERMANY\n",
      "Lübeck - GERMANY\n",
      "Gutsche - Germany\n",
      "Posur - Germany\n",
      "Skartsæterhagen - Norway\n",
      "Gähler - Germany\n",
      "Konovalov - U.K.\n",
      "Soules - Greece\n",
      "Holt - U.K.\n",
      "GAP Team - fail\n",
      "Dooms - Belgium\n",
      "Jespers - Belgium\n",
      "Konovalov - U.K.\n",
      "Verrill - U.S.\n",
      "Gutsche - Germany\n",
      "Dietrich - Australia\n",
      "Faccin - Italy\n",
      "de Graaf - Italy\n",
      "Bishop - fail\n",
      "GAP Team - fail\n",
      "Höfling - fail\n",
      "Pfeiffer - U.K.\n",
      "Eick - Germany\n",
      "Gähler - Germany\n",
      "Nickel - Germany\n",
      "Felsch - Germany\n",
      "Gähler - Germany\n",
      "Breuer - Germany\n",
      "Dietrich - Australia\n",
      "Jefferson - U.K.\n",
      "Torpey - U.K.\n",
      "Neunhöffer - Germany\n",
      "Horn - Germany\n",
      "Pfeiffer - U.K.\n",
      "Horn - Germany\n",
      "Jefferson - U.K.\n",
      "Linton - U.K.\n",
      "Wagner - Germany\n",
      "Horn - Germany\n",
      "Soicher - U.K.\n",
      "De Beule - Belgium\n",
      "Burrell - U.K.\n",
      "Elliott - U.K.\n",
      "Horn - Germany\n",
      "Jefferson - U.K.\n",
      "Jonusas - U.K.\n",
      "Mitchell - U.K.\n",
      "Pfeiffer - U.K.\n",
      "Russell - U.K.\n",
      "Smith - U.K.\n",
      "Torpey - U.K.\n",
      "Whyte - U.K.\n",
      "Wilson - Germany\n",
      "Lübeck - GERMANY\n",
      "Nickel - Germany\n",
      "Gamble - Australia\n",
      "Konovalov - U.K.\n",
      "Barakat - Germany\n",
      "Görtzen - Germany\n",
      "Lange-Hegermann - Germany\n",
      "Kohl - fail\n",
      "Konovalov - U.K.\n",
      "Sievers - fail\n",
      "Bamberg - Australia\n",
      "Betten - U.S.\n",
      "De Beule - Belgium\n",
      "Cara - Belgium\n",
      "Lavrauw - Italy\n",
      "Neunhoeffer - U.K.\n",
      "Bartholdi - Germany\n",
      "Eick - Germany\n",
      "Wright - U.S.\n",
      "Bamberg - Australia\n",
      "De Beule - Belgium\n",
      "Gerdt - fail\n",
      "Kornyak - fail\n",
      "Horn - fail\n",
      "Bartholdi - Germany\n",
      "Martins - Portugal\n",
      "Eick - Germany\n",
      "Rossmann - Ireland\n",
      "Lübeck - GERMANY\n",
      "Neunhöffer - fail\n",
      "Goertzen - Germany\n",
      "Barakat - Germany\n",
      "Gutsche - Germany\n",
      "Goertzen - Germany\n",
      "Barakat - Germany\n",
      "Cohen - Netherlands\n",
      "Knopper - Netherlands\n",
      "Gutsche - Germany\n",
      "Posur - Germany\n",
      "Neunhöffer - Germany\n",
      "Noeske - Germany\n",
      "Horn - Germany\n",
      "Barakat - Germany\n",
      "Gutsche - Germany\n",
      "Jambor - Germany\n",
      "Lange-Hegermann - Germany\n",
      "Lorenz - Germany\n",
      "Motsak - Germany\n",
      "Barakat - Germany\n",
      "Gutsche - Germany\n",
      "Kirschmer - Germany\n",
      "Jambor - Germany\n",
      "Lange-Hegermann - Germany\n",
      "Robertz - Germany\n",
      "Soicher - U.K.\n",
      "Moore - fail\n",
      "Wensley - U.K.\n",
      "Besche - Germany\n",
      "Eick - Germany\n",
      "Horn - Germany\n",
      "Assmann - U.K.\n",
      "McDermott - U.K.\n",
      "GAP Team - fail\n",
      "Baart - known\n",
      "Boothby - known\n",
      "Cramwinckel - known\n",
      "Fields - U.S.\n",
      "Joyner - U.S.\n",
      "Miller - known\n",
      "Minkes - known\n",
      "Roijackers - known\n",
      "Ruscio - known\n",
      "Tjhai - known\n",
      "Ellis - Ireland\n",
      "Roeder - fail\n",
      "Traytel - Germany\n",
      "GAP Team - fail\n",
      "Bächle - Belgium\n",
      "Margolis - Belgium\n",
      "Barakat - Germany\n",
      "Gutsche - Germany\n",
      "Lange-Hegermann - Germany\n",
      "Bächler - Germany\n",
      "Barakat - Germany\n",
      "Breuer - Germany\n",
      "Görtzen - Germany\n",
      "Gutsche - Germany\n",
      "Lübeck - Germany\n",
      "Wagh - India\n",
      "Heyworth - fail\n",
      "Wensley - U.K.\n",
      "Delgado - Portugal\n",
      "Neunhöffer - Germany\n",
      "Horn - Germany\n",
      "Bächler - Germany\n",
      "Barakat - Germany\n",
      "Gutsche - Germany\n",
      "Neunhöffer - U.K.\n",
      "Robertz - Germany\n",
      "Höfling - fail\n",
      "Felsch - Germany\n",
      "Hippe - fail\n",
      "Neubüser - Germany\n",
      "GAP Team - fail\n",
      "Jefferson - U.K.\n",
      "Pfeiffer - U.K.\n",
      "Martins - Portugal\n",
      "GAP Team - fail\n",
      "Carter - U.S.\n",
      "Heyworth - U.K.\n",
      "Wensley - U.K.\n",
      "Holt - U.K.\n",
      "GAP Team - fail\n",
      "Bovdi - Hungary\n",
      "Konovalov - U.K.\n",
      "Rossmanith - fail\n",
      "Schneider - Hungary\n",
      "Cicalò - Italy\n",
      "de Graaf - Italy\n",
      "Schneider - Brasil\n",
      "GAP Team - fail\n",
      "Vaughan-Lee - U.K.\n",
      "Eick - Germany\n",
      "Cicalò - Italy\n",
      "de Graaf - Italy\n",
      "GAP Team - fail\n",
      "Gutsche - Germany\n",
      "Posur - Germany\n",
      "Barakat - Germany\n",
      "Lange-Hegermann - Germany\n",
      "Wagh - India\n",
      "Nagy - Hungary\n",
      "Vojtěchovský - U.S.\n",
      "Hartung - fail\n",
      "Bartholdi - Germany\n",
      "Pfeiffer - U.K.\n",
      "Whybrow - U.K.\n",
      "James - fail\n",
      "Magaard - fail\n",
      "Shpectorov - U.K.\n",
      "Volklein - fail\n",
      "Hulpke - U.S.\n",
      "Barakat - Germany\n",
      "Lange-Hegermann - Germany\n",
      "Leuner - Germany\n",
      "Wagh - India\n",
      "Eick - Germany\n",
      "Konovalov - U.K.\n",
      "Gutsche - Germany\n",
      "Posur - Germany\n",
      "Bächler - Germany\n",
      "Barakat - Germany\n",
      "Diebold - Germany\n",
      "Gutsche - Germany\n",
      "Lange-Hegermann - Germany\n",
      "Wagh - India\n",
      "Barakat - Germany\n",
      "Gutsche - Germany\n",
      "Posur - Germany\n",
      "Detinko - U.K.\n",
      "Eick - Germany\n",
      "Flannery - Ireland\n",
      "Gutsche - Germany\n",
      "Horn - Germany\n",
      "Söger - Germany\n",
      "Horn - Germany\n",
      "Nickel - fail\n",
      "Delgado - Portugal\n",
      "Garcia-Sanchez - Spain\n",
      "Morais - known\n",
      "Cisco - fail\n",
      "Heredia - fail\n",
      "García-García - fail\n",
      "Gutsche - fail\n",
      "Herrera-Poyatos - fail\n",
      "Horn - fail\n",
      "Maugeri - Catania\n",
      "Moreno Ávila - known\n",
      "Ojeda - fail\n",
      "O'Neill - fail\n",
      "Sammartano - fail\n",
      "Sánchez-R. Navarro - fail\n",
      "Stokes - fail\n",
      "Francesco - fail\n",
      "Zito - Catania\n",
      "Costantini - fail\n",
      "Konovalov - U.K.\n",
      "Nicosia - U.K.\n",
      "Solomon - Australia\n",
      "Mueller - Germany\n",
      "Neunhöffer - Germany\n",
      "Noeske - Germany\n",
      "Horn - Germany\n",
      "Torpey - U.K.\n",
      "Hoffmann - U.K.\n",
      "Linton - U.K.\n",
      "Albert - Zealand\n",
      "Ballester-Bolinches - Spain\n",
      "Cosme-Llópez - Spain\n",
      "Esteban-Romero - Spain\n",
      "Assmann - fail\n",
      "Horn - Germany\n",
      "Eick - Germany\n",
      "Nickel - fail\n",
      "Horn - Germany\n",
      "Baechler - Germany\n",
      "Gutsche - Germany\n",
      "Roeder - fail\n",
      "GAP Team - fail\n",
      "Hulpke - U.S.\n",
      "Konovalov - U.K.\n",
      "Roney-Dougal - U.K.\n",
      "Russell - U.K.\n",
      "Jefferson - U.K.\n",
      "Green - U.S.\n",
      "Solberg - Norway\n",
      "de Graaf - Italy\n",
      "GAP Team - fail\n",
      "Distler - fail\n",
      "GAP Team - fail\n",
      "Kohl - fail\n",
      "Roeder - fail\n",
      "GAP Team - fail\n",
      "Neunhöffer - Germany\n",
      "Seress - fail\n",
      "Ankaralioglu - fail\n",
      "Brooksbank - U.S.\n",
      "Celler - Germany\n",
      "Howe - Unknown\n",
      "Law - Australia\n",
      "Linton - U.K.\n",
      "Malle - Germany\n",
      "Niemeyer - Australia\n",
      "O'Brien - New Zealand\n",
      "Roney-Dougal - U.K.\n",
      "Horn - Germany\n",
      "Dabbaghian - Canada\n",
      "GAP Team - fail\n",
      "Kohl - fail\n",
      "Barakat - Germany\n",
      "Goertzen - Germany\n",
      "Kirschmer - Germany\n",
      "Lange-Hegermann - Germany\n",
      "Motsak - Germany\n",
      "Neunhöffer - U.K.\n",
      "Robertz - Germany\n",
      "Schönemann - Germany\n",
      "Steenpaß - Germany\n",
      "Wagh - India\n",
      "Görtzen - Germany\n",
      "Barakat - Germany\n",
      "Konovalov - U.K.\n",
      "Linton - U.K.\n",
      "Mitchell - U.K.\n",
      "Burrell - U.K.\n",
      "Delgado - Portugal\n",
      "East - Australia\n",
      "Egri-Nagy - Japan\n",
      "Ham - Australia\n",
      "Horn - Germany\n",
      "Jonusas - U.K.\n",
      "Pasechnik - England\n",
      "Pfeiffer - U.K.\n",
      "Russell - U.K.\n",
      "Steinberg - fail\n",
      "Smith - U.K.\n",
      "Smith - fail\n",
      "Torpey - U.K.\n",
      "Whyte - U.K.\n",
      "Wilson - Germany\n",
      "Vaughan-Lee - U.K.\n",
      "Eick - Germany\n",
      "Delgado - Portugal\n",
      "Morais - known\n",
      "Effenberger - 1\n",
      "Spreer - F07\n",
      "Costantini - fail\n",
      "de Graaf - Italy\n",
      "GAP Team - fail\n",
      "de Graaf - Italy\n",
      "GAP Team - fail\n",
      "Eick - Germany\n",
      "Besche - Germany\n",
      "O'Brien - Zealand\n",
      "GAP Team - fail\n",
      "Distler - Germany\n",
      "Mitchell - U.K.\n",
      "Aichinger - Austria\n",
      "Binder - Austria\n",
      "Ecker - Austria\n",
      "Mayr - ColoradoUSA\n",
      "Nöbauer - fail\n",
      "Schneider - Brasil\n",
      "GAP Team - fail\n",
      "Maas - fail\n",
      "GAP Team - fail\n",
      "Feichtenschlager - Germany\n",
      "GAP Team - fail\n",
      "Bovdi - United Arab Emirates\n",
      "Laver - United Arab Emirates\n",
      "Merkwitz - fail\n",
      "Naughton - U.K.\n",
      "Pfeiffer - Ireland\n",
      "Barakat - Germany\n",
      "Gutsche - Germany\n",
      "Lange-Hegermann - Germany\n",
      "Joyner - U.S.\n",
      "Gutsche - Germany\n",
      "Hulpke - U.S.\n",
      "Haller - fail\n",
      "Horn - Germany\n",
      "Konovalov - U.K.\n",
      "Yakimenko - Ukraine\n",
      "Gutsche - Germany\n",
      "Horn - fail\n",
      "Hulpke - fail\n",
      "Kohl - fail\n",
      "Lübeck - fail\n",
      "Wensley - U.K.\n",
      "Pfeiffer - U.K.\n",
      "Pfeiffer - U.K.\n",
      "Bakshi - India\n",
      "Broche Cristo - Brazil\n",
      "Herman - Canada\n",
      "Konovalov - U.K.\n",
      "Maheshwary - India\n",
      "Olteanu - Romania\n",
      "Olivieri - Venezuela\n",
      "del Rio - Spain\n",
      "Van Gelder - Belgium\n",
      "Celler - fail\n",
      "Horn - Germany\n",
      "Neunhöffer - Germany\n",
      "Wensley - U.K.\n",
      "Alp - Turkey\n",
      "Odabas - Turkey\n",
      "Uslu - fail\n",
      "Arvasi - Turkey\n",
      "Odabas - Turkey\n",
      "Vendramin - Argentina\n",
      "Konovalov - U.K.\n",
      "Pfeiffer - U.K.\n",
      "Behrends - Deutschland\n",
      "GAP Team - fail\n"
     ]
    },
    {
     "data": {
      "text/plain": [
       "[ \"Germany\", \"Australia\", \"U.S.\", \"Australia\", \"Australia\", \"Germany\", \"Belgium\", \"Germany\", \"Germany\", \"Australia\", \"Zealand\", \"Germany\", \"U.K.\", \"U.K.\", \"Germany\", \"Germany\", \"Germany\", \"Portugal\", \"U.K.\", \"known\", \"U.S.\", \"U.S.\", \"Germany\", \"Germany\", \"Zealand\", \"GERMANY\", \"GERMANY\", \"Germany\", \"Germany\", \"Norway\", \"Germany\", \"U.K.\", \"Greece\", \"U.K.\", \"Belgium\", \"Belgium\", \"U.K.\", \"U.S.\", \"Germany\", \"Australia\", \"Italy\", \"Italy\", \"U.K.\", \"Germany\", \"Germany\", \"Germany\", \"Germany\", \"Germany\", \"Germany\", \"Australia\", \"U.K.\", \"U.K.\", \"Germany\", \"Germany\", \"U.K.\", \"Germany\", \"U.K.\", \"U.K.\", \"Germany\", \"Germany\", \"U.K.\", \"Belgium\", \"U.K.\", \"U.K.\", \"Germany\", \"U.K.\", \"U.K.\", \"U.K.\", \"U.K.\", \"U.K.\", \"U.K.\", \"U.K.\", \"U.K.\", \"Germany\", \"GERMANY\", \"Germany\", \"Australia\", \"U.K.\", \"Germany\", \"Germany\", \"Germany\", \"U.K.\", \"Australia\", \"U.S.\", \"Belgium\", \"Belgium\", \"Italy\", \"U.K.\", \"Germany\", \"Germany\", \"U.S.\", \"Australia\", \"Belgium\", \"Germany\", \"Portugal\", \"Germany\", \"Ireland\", \"GERMANY\", \"Germany\", \"Germany\", \"Germany\", \"Germany\", \"Germany\", \"Netherlands\", \"Netherlands\", \"Germany\", \"Germany\", \"Germany\", \"Germany\", \"Germany\", \"Germany\", \"Germany\", \"Germany\", \"Germany\", \"Germany\", \"Germany\", \"Germany\", \"Germany\", \"Germany\", \"Germany\", \"Germany\", \"Germany\", \"U.K.\", \"U.K.\", \"Germany\", \"Germany\", \"Germany\", \"U.K.\", \"U.K.\", \"known\", \"known\", \"known\", \"U.S.\", \"U.S.\", \"known\", \"known\", \"known\", \"known\", \"known\", \"Ireland\", \"Germany\", \"Belgium\", \"Belgium\", \"Germany\", \"Germany\", \"Germany\", \"Germany\", \"Germany\", \"Germany\", \"Germany\", \"Germany\", \"Germany\", \"India\", \"U.K.\", \"Portugal\", \"Germany\", \"Germany\", \"Germany\", \"Germany\", \"Germany\", \"U.K.\", \"Germany\", \"Germany\", \"Germany\", \"U.K.\", \"U.K.\", \"Portugal\", \"U.S.\", \"U.K.\", \"U.K.\", \"U.K.\", \"Hungary\", \"U.K.\", \"Hungary\", \"Italy\", \"Italy\", \"Brasil\", \"U.K.\", \"Germany\", \"Italy\", \"Italy\", \"Germany\", \"Germany\", \"Germany\", \"Germany\", \"India\", \"Hungary\", \"U.S.\", \"Germany\", \"U.K.\", \"U.K.\", \"U.K.\", \"U.S.\", \"Germany\", \"Germany\", \"Germany\", \"India\", \"Germany\", \"U.K.\", \"Germany\", \"Germany\", \"Germany\", \"Germany\", \"Germany\", \"Germany\", \"Germany\", \"India\", \"Germany\", \"Germany\", \"Germany\", \"U.K.\", \"Germany\", \"Ireland\", \"Germany\", \"Germany\", \"Germany\", \"Germany\", \"Portugal\", \"Spain\", \"known\", \"Catania\", \"known\", \"Catania\", \"U.K.\", \"U.K.\", \"Australia\", \"Germany\", \"Germany\", \"Germany\", \"Germany\", \"U.K.\", \"U.K.\", \"U.K.\", \"Zealand\", \"Spain\", \"Spain\", \"Spain\", \"Germany\", \"Germany\", \"Germany\", \"Germany\", \"Germany\", \"U.S.\", \"U.K.\", \"U.K.\", \"U.K.\", \"U.K.\", \"U.S.\", \"Norway\", \"Italy\", \"Germany\", \"U.S.\", \"Germany\", \"Unknown\", \"Australia\", \"U.K.\", \"Germany\", \"Australia\", \"New Zealand\", \"U.K.\", \"Germany\", \"Canada\", \"Germany\", \"Germany\", \"Germany\", \"Germany\", \"Germany\", \"U.K.\", \"Germany\", \"Germany\", \"Germany\", \"India\", \"Germany\", \"Germany\", \"U.K.\", \"U.K.\", \"U.K.\", \"U.K.\", \"Portugal\", \"Australia\", \"Japan\", \"Australia\", \"Germany\", \"U.K.\", \"England\", \"U.K.\", \"U.K.\", \"U.K.\", \"U.K.\", \"U.K.\", \"Germany\", \"U.K.\", \"Germany\", \"Portugal\", \"known\", \"1\", \"F07\", \"Italy\", \"Italy\", \"Germany\", \"Germany\", \"Zealand\", \"Germany\", \"U.K.\", \"Austria\", \"Austria\", \"Austria\", \"ColoradoUSA\", \"Brasil\", \"Germany\", \"United Arab Emirates\", \"United Arab Emirates\", \"U.K.\", \"Ireland\", \"Germany\", \"Germany\", \"Germany\", \"U.S.\", \"Germany\", \"U.S.\", \"Germany\", \"U.K.\", \"Ukraine\", \"Germany\", \"U.K.\", \"U.K.\", \"U.K.\", \"India\", \"Brazil\", \"Canada\", \"U.K.\", \"India\", \"Romania\", \"Venezuela\", \"Spain\", \"Belgium\", \"Germany\", \"Germany\", \"U.K.\", \"Turkey\", \"Turkey\", \"Turkey\", \"Turkey\", \"Argentina\", \"U.K.\", \"U.K.\", \"Deutschland\" ]"
      ]
     },
     "execution_count": 7,
     "metadata": {
      "text/plain": ""
     },
     "output_type": "execute_result"
    }
   ],
   "source": [
    "countries:=[];\n",
    "for n in pkgnames do\n",
    "    for author in GAPInfo.PackagesInfo.(n)[1].Persons do\n",
    "        country := guess(author);\n",
    "        Print(author.LastName, \" - \", country,\"\\n\");\n",
    "        if country <> fail then\n",
    "            Add(countries,country);\n",
    "        fi;    \n",
    "    od;\n",
    "od;\n"
   ]
  },
  {
   "cell_type": "code",
   "execution_count": 9,
   "metadata": {},
   "outputs": [
    {
     "data": {
      "text/plain": [
       "[ \"Germany\", \"Australia\", \"U.S.\", \"Australia\", \"Australia\", \"Germany\", \"Belgium\", \"Germany\", \"Germany\", \"Australia\", \"Zealand\", \"Germany\", \"U.K.\", \"U.K.\", \"Germany\", \"Germany\", \"Germany\", \"Portugal\", \"U.K.\", \"known\", \"U.S.\", \"U.S.\", \"Germany\", \"Germany\", \"Zealand\", \"GERMANY\", \"GERMANY\", \"Germany\", \"Germany\", \"Norway\", \"Germany\", \"U.K.\", \"Greece\", \"U.K.\", \"Belgium\", \"Belgium\", \"U.K.\", \"U.S.\", \"Germany\", \"Australia\", \"Italy\", \"Italy\", \"U.K.\", \"Germany\", \"Germany\", \"Germany\", \"Germany\", \"Germany\", \"Germany\", \"Australia\", \"U.K.\", \"U.K.\", \"Germany\", \"Germany\", \"U.K.\", \"Germany\", \"U.K.\", \"U.K.\", \"Germany\", \"Germany\", \"U.K.\", \"Belgium\", \"U.K.\", \"U.K.\", \"Germany\", \"U.K.\", \"U.K.\", \"U.K.\", \"U.K.\", \"U.K.\", \"U.K.\", \"U.K.\", \"U.K.\", \"Germany\", \"GERMANY\", \"Germany\", \"Australia\", \"U.K.\", \"Germany\", \"Germany\", \"Germany\", \"U.K.\", \"Australia\", \"U.S.\", \"Belgium\", \"Belgium\", \"Italy\", \"U.K.\", \"Germany\", \"Germany\", \"U.S.\", \"Australia\", \"Belgium\", \"Germany\", \"Portugal\", \"Germany\", \"Ireland\", \"GERMANY\", \"Germany\", \"Germany\", \"Germany\", \"Germany\", \"Germany\", \"Netherlands\", \"Netherlands\", \"Germany\", \"Germany\", \"Germany\", \"Germany\", \"Germany\", \"Germany\", \"Germany\", \"Germany\", \"Germany\", \"Germany\", \"Germany\", \"Germany\", \"Germany\", \"Germany\", \"Germany\", \"Germany\", \"Germany\", \"U.K.\", \"U.K.\", \"Germany\", \"Germany\", \"Germany\", \"U.K.\", \"U.K.\", \"known\", \"known\", \"known\", \"U.S.\", \"U.S.\", \"known\", \"known\", \"known\", \"known\", \"known\", \"Ireland\", \"Germany\", \"Belgium\", \"Belgium\", \"Germany\", \"Germany\", \"Germany\", \"Germany\", \"Germany\", \"Germany\", \"Germany\", \"Germany\", \"Germany\", \"India\", \"U.K.\", \"Portugal\", \"Germany\", \"Germany\", \"Germany\", \"Germany\", \"Germany\", \"U.K.\", \"Germany\", \"Germany\", \"Germany\", \"U.K.\", \"U.K.\", \"Portugal\", \"U.S.\", \"U.K.\", \"U.K.\", \"U.K.\", \"Hungary\", \"U.K.\", \"Hungary\", \"Italy\", \"Italy\", \"Brasil\", \"U.K.\", \"Germany\", \"Italy\", \"Italy\", \"Germany\", \"Germany\", \"Germany\", \"Germany\", \"India\", \"Hungary\", \"U.S.\", \"Germany\", \"U.K.\", \"U.K.\", \"U.K.\", \"U.S.\", \"Germany\", \"Germany\", \"Germany\", \"India\", \"Germany\", \"U.K.\", \"Germany\", \"Germany\", \"Germany\", \"Germany\", \"Germany\", \"Germany\", \"Germany\", \"India\", \"Germany\", \"Germany\", \"Germany\", \"U.K.\", \"Germany\", \"Ireland\", \"Germany\", \"Germany\", \"Germany\", \"Germany\", \"Portugal\", \"Spain\", \"known\", \"Catania\", \"known\", \"Catania\", \"U.K.\", \"U.K.\", \"Australia\", \"Germany\", \"Germany\", \"Germany\", \"Germany\", \"U.K.\", \"U.K.\", \"U.K.\", \"Zealand\", \"Spain\", \"Spain\", \"Spain\", \"Germany\", \"Germany\", \"Germany\", \"Germany\", \"Germany\", \"U.S.\", \"U.K.\", \"U.K.\", \"U.K.\", \"U.K.\", \"U.S.\", \"Norway\", \"Italy\", \"Germany\", \"U.S.\", \"Germany\", \"Unknown\", \"Australia\", \"U.K.\", \"Germany\", \"Australia\", \"New Zealand\", \"U.K.\", \"Germany\", \"Canada\", \"Germany\", \"Germany\", \"Germany\", \"Germany\", \"Germany\", \"U.K.\", \"Germany\", \"Germany\", \"Germany\", \"India\", \"Germany\", \"Germany\", \"U.K.\", \"U.K.\", \"U.K.\", \"U.K.\", \"Portugal\", \"Australia\", \"Japan\", \"Australia\", \"Germany\", \"U.K.\", \"England\", \"U.K.\", \"U.K.\", \"U.K.\", \"U.K.\", \"U.K.\", \"Germany\", \"U.K.\", \"Germany\", \"Portugal\", \"known\", \"1\", \"F07\", \"Italy\", \"Italy\", \"Germany\", \"Germany\", \"Zealand\", \"Germany\", \"U.K.\", \"Austria\", \"Austria\", \"Austria\", \"ColoradoUSA\", \"Brasil\", \"Germany\", \"United Arab Emirates\", \"United Arab Emirates\", \"U.K.\", \"Ireland\", \"Germany\", \"Germany\", \"Germany\", \"U.S.\", \"Germany\", \"U.S.\", \"Germany\", \"U.K.\", \"Ukraine\", \"Germany\", \"U.K.\", \"U.K.\", \"U.K.\", \"India\", \"Brazil\", \"Canada\", \"U.K.\", \"India\", \"Romania\", \"Venezuela\", \"Spain\", \"Belgium\", \"Germany\", \"Germany\", \"U.K.\", \"Turkey\", \"Turkey\", \"Turkey\", \"Turkey\", \"Argentina\", \"U.K.\", \"U.K.\", \"Deutschland\" ]"
      ]
     },
     "execution_count": 9,
     "metadata": {
      "text/plain": ""
     },
     "output_type": "execute_result"
    }
   ],
   "source": [
    "countries;"
   ]
  },
  {
   "cell_type": "code",
   "execution_count": 10,
   "metadata": {},
   "outputs": [
    {
     "data": {
      "text/plain": [
       "[ [ \"1\", 1 ], [ \"Argentina\", 1 ], [ \"Australia\", 14 ], [ \"Austria\", 3 ], [ \"Belgium\", 10 ], [ \"Brasil\", 2 ], [ \"Brazil\", 1 ], [ \"Canada\", 2 ], [ \"Catania\", 2 ], [ \"ColoradoUSA\", 1 ], [ \"Deutschland\", 1 ], [ \"England\", 1 ], [ \"F07\", 1 ], [ \"GERMANY\", 4 ], [ \"Germany\", 141 ], [ \"Greece\", 1 ], [ \"Hungary\", 3 ], [ \"India\", 7 ], [ \"Ireland\", 4 ], [ \"Italy\", 10 ], [ \"Japan\", 1 ], [ \"Netherlands\", 2 ], [ \"New Zealand\", 1 ], [ \"Norway\", 2 ], [ \"Portugal\", 7 ], [ \"Romania\", 1 ], [ \"Spain\", 5 ], [ \"Turkey\", 4 ], [ \"U.K.\", 77 ], [ \"U.S.\", 16 ], [ \"Ukraine\", 1 ], [ \"United Arab Emirates\", 2 ], [ \"Unknown\", 1 ], [ \"Venezuela\", 1 ], [ \"Zealand\", 4 ], [ \"known\", 12 ] ]"
      ]
     },
     "execution_count": 10,
     "metadata": {
      "text/plain": ""
     },
     "output_type": "execute_result"
    }
   ],
   "source": [
    "counts:=Collected(countries);"
   ]
  },
  {
   "cell_type": "code",
   "execution_count": 26,
   "metadata": {},
   "outputs": [
    {
     "data": {
      "text/plain": [
       "141"
      ]
     },
     "execution_count": 26,
     "metadata": {
      "text/plain": ""
     },
     "output_type": "execute_result"
    }
   ],
   "source": [
    "Maximum(List(counts, c -> c[2]));"
   ]
  },
  {
   "cell_type": "code",
   "execution_count": 11,
   "metadata": {
    "collapsed": true
   },
   "outputs": [],
   "source": [
    "for c in counts do\n",
    "    pos := Position(maplocations,c[1]);\n",
    "    if pos <> fail then \n",
    "        values[pos]:=String(c[2]);\n",
    "    fi;\n",
    "od;    "
   ]
  },
  {
   "cell_type": "code",
   "execution_count": 27,
   "metadata": {
    "collapsed": true
   },
   "outputs": [],
   "source": [
    "gapRecord:=\n",
    "rec(\n",
    "  data := [ rec(\n",
    "          autocolorscale := false,\n",
    "          colorbar := rec(\n",
    "              thickness := 10,\n",
    "              title := \"\" ),\n",
    "          colorscale := \n",
    "[ [ 0, \"rgb(255,255,255)\" ], [ 0.001, \"rgb(245,195,157)\" ], \n",
    "[ 0.2, \"rgb(245,160,105)\" ], [ 1, \"rgb(178,10,28)\" ] ],\n",
    "          locationmode := \"country names\",\n",
    "locations := maplocations,\n",
    "          locationssrc := \"Dreamshot:9297:009d61\",\n",
    "          name := \"B\",\n",
    "          showscale := true,\n",
    "          type := \"choropleth\",\n",
    "z := values,\n",
    "          zauto := false,\n",
    "zmax := 150,\n",
    "          zmin := 0,\n",
    "          zsrc := \"Dreamshot:9297:7e6159\" ) ],\n",
    "  frames := [ rec(\n",
    "          layout := rec(\n",
    "              autosize := false,\n",
    "              font := rec(\n",
    "                  size := 10 ),\n",
    "              geo := rec(\n",
    "                  center := rec(\n",
    "                      lat := 76.15672511523269,\n",
    "                      lon := -81.57473507220712 ),\n",
    "                  projection := rec( type := \"equirectangular\" ) ),\n",
    "              height := 300,\n",
    "              hovermode := \"closest\",\n",
    "              margin := rec(\n",
    "                  b := 40,\n",
    "                  l := 40,\n",
    "                  r := 40,\n",
    "                  t := 75 ),\n",
    "title := \"Locations of GAP package authors\",\n",
    "              titlefont := rec(\n",
    "                  family := \"Overpass\",\n",
    "                  size := 12 ),\n",
    "              width := 400 ),\n",
    "          name := \"workspace-breakpoint-0\" ) ],\n",
    "  layout := rec(\n",
    "      autosize := true,\n",
    "      font := rec(\n",
    "          family := \"Overpass\" ),\n",
    "      geo := rec(\n",
    "          center := rec(\n",
    "              lat := 55.31688841607437,\n",
    "              lon := -65.03023468634588 ),\n",
    "          projection := rec( type := \"equirectangular\" ) ),\n",
    "      height := 500,\n",
    "      hovermode := \"closest\",\n",
    "      title := \"Locations of GAP package authors\",\n",
    "      titlefont := rec(\n",
    "          family := \"Overpass\" ) ) )\n",
    ";;"
   ]
  },
  {
   "cell_type": "code",
   "execution_count": 33,
   "metadata": {
    "collapsed": true
   },
   "outputs": [],
   "source": [
    "if IsBound( gapRecord.layout ) then\n",
    "    gapRecord.layout.height := 1000;;\n",
    "else\n",
    "    gapRecord.layout := rec( height := 1000 );;\n",
    "fi;"
   ]
  },
  {
   "cell_type": "code",
   "execution_count": 34,
   "metadata": {},
   "outputs": [
    {
     "data": {
      "application/javascript": [
       "( function ( element ) {\n",
       "if(!window.hasOwnProperty(\"runGAP\")){window.runGAP=function(code,callback){if(!Jupyter||!Jupyter.notebook||!Jupyter.notebook.kernel)return callback(null,\"JavaScript-based output must be re-evaluated when the notebook\"+\" is reloaded.  (Re-run the cell to clear this problem.)\");var errorMessages=[];var timeout=null;Jupyter.notebook.kernel.execute(code,{iopub:{output:function(message){if(\"data\"in message.content)return callback(message.content.data,null);if(!(\"text\"in message.content))return callback(null,message.content);errorMessages.push(message.content.text);if(timeout!==null)clearTimeout(timeout);timeout=setTimeout(function(){callback(null,errorMessages.join(\"\\n\"))},200)},clear_output:function(message){}},shell:{reply:function(message){}},input:function(message){}},{})}}if(!window.hasOwnProperty(\"librariesLoadedFromGAP\")){window.librariesLoadedFromGAP={}}function myCallback(){if(!window.hasOwnProperty(\"librariesLoadedFromGAP\")){window.librariesLoadedFromGAP={}}function myCallback(){window.createVisualization(element,{\"data\" : {\"data\" : [{\"z\" : [\"0\",\"0\",\"0\",\"0\",\"0\",\"0\",\"0\",\"0\",\"0\",\"0\",\"1\",\"0\",\"0\",\"14\",\"3\",\"0\",\"0\",\"0\",\"0\",\"0\",\"0\",\"10\",\"0\",\"0\",\"0\",\"0\",\"0\",\"0\",\"0\",\"0\",\"1\",\"0\",\"0\",\"0\",\"0\",\"0\",\"0\",\"0\",\"0\",\"2\",\"0\",\"0\",\"0\",\"0\",\"0\",\"0\",\"0\",\"0\",\"0\",\"0\",\"0\",\"0\",\"0\",\"0\",\"0\",\"0\",\"0\",\"0\",\"0\",\"0\",\"0\",\"0\",\"0\",\"0\",\"0\",\"0\",\"0\",\"0\",\"0\",\"0\",\"0\",\"0\",\"0\",\"0\",\"0\",\"0\",\"0\",\"0\",\"0\",\"0\",\"0\",\"141\",\"0\",\"0\",\"1\",\"0\",\"0\",\"0\",\"0\",\"0\",\"0\",\"0\",\"0\",\"0\",\"0\",\"0\",\"0\",\"3\",\"0\",\"7\",\"0\",\"0\",\"0\",\"4\",\"0\",\"10\",\"0\",\"1\",\"0\",\"0\",\"0\",\"0\",\"0\",\"0\",\"0\",\"0\",\"0\",\"0\",\"0\",\"0\",\"0\",\"0\",\"0\",\"0\",\"0\",\"0\",\"0\",\"0\",\"0\",\"0\",\"0\",\"0\",\"0\",\"0\",\"0\",\"0\",\"0\",\"0\",\"0\",\"0\",\"0\",\"0\",\"0\",\"0\",\"0\",\"0\",\"0\",\"0\",\"0\",\"2\",\"0\",\"0\",\"1\",\"0\",\"0\",\"0\",\"0\",\"0\",\"0\",\"0\",\"2\",\"0\",\"0\",\"0\",\"0\",\"0\",\"0\",\"0\",\"0\",\"0\",\"0\",\"7\",\"0\",\"0\",\"0\",\"1\",\"0\",\"0\",\"0\",\"0\",\"0\",\"0\",\"0\",\"0\",\"0\",\"0\",\"0\",\"0\",\"0\",\"0\",\"0\",\"0\",\"0\",\"0\",\"0\",\"0\",\"0\",\"0\",\"0\",\"5\",\"0\",\"0\",\"0\",\"0\",\"0\",\"0\",\"0\",\"0\",\"0\",\"0\",\"0\",\"0\",\"0\",\"0\",\"0\",\"0\",\"0\",\"0\",\"0\",\"4\",\"0\",\"0\",\"77\",\"0\",\"0\",\"16\",\"0\",\"1\",\"2\",\"0\",\"0\",\"0\",\"0\",\"1\",\"0\",\"0\",\"0\",\"0\",\"0\",\"0\"],\"name\" : \"B\",\"type\" : \"choropleth\",\"autocolorscale\" : false,\"colorbar\" : {\"title\" : \"\",\"thickness\" : 10},\"colorscale\" : [[0,\"rgb(255,255,255)\"],[0.001,\"rgb(245,195,157)\"],[0.20000000000000001,\"rgb(245,160,105)\"],[1,\"rgb(178,10,28)\"]],\"locationmode\" : \"country names\",\"locations\" : [\"\",\"Afghanistan\",\"Albania\",\"Algeria\",\"American Samoa\",\"Andorra\",\"Angola\",\"Anguilla\",\"Antarctica\",\"Antigua and Barbuda\",\"Argentina\",\"Armenia\",\"Aruba\",\"Australia\",\"Austria\",\"Azerbaijan\",\"Bahamas\",\"Bahrain\",\"Bangladesh\",\"Barbados\",\"Belarus\",\"Belgium\",\"Belize\",\"Benin\",\"Bermuda\",\"Bhutan\",\"Bolivia\",\"Bosnia and Herzgovina\",\"Botswana\",\"Bouvet Island\",\"Brazil\",\"British Indian Ocean Territory\",\"British Virgin Islands\",\"Brunei\",\"Bulgaria\",\"Burkina Faso\",\"Burundi\",\"Cambodia\",\"Cameroon\",\"Canada\",\"Cape Verde\",\"Cayman Islands\",\"Central African Republic\",\"Chad\",\"Chile\",\"China\",\"Christmas Island\",\"Cocos [Keeling] Islands\",\"Colombia\",\"Comoros\",\"Congo - Brazzaville\",\"Congo - Kinshasa\",\"Cook Islands\",\"Costa Rica\",\"Cote d'Ivoire\",\"Croatia\",\"Cuba\",\"Cyprus\",\"Czech Republic\",\"Denmark\",\"Djibouti\",\"Dominica\",\"Dominican Republic\",\"Ecuador\",\"Egypt\",\"El Salvador\",\"Equatorial Guinea\",\"Eritrea\",\"Estonia\",\"Ethiopia\",\"Falkland Islands\",\"Faroe Islands\",\"Fiji\",\"Finland\",\"France\",\"French Guiana\",\"French Polynesia\",\"French Southern Territories\",\"Gabon\",\"Gambia\",\"Georgia\",\"Germany\",\"Ghana\",\"Gibraltar\",\"Greece\",\"Greenland\",\"Grenada\",\"Guadeloupe\",\"Guam\",\"Guatemala\",\"Guinea\",\"Guinea-Bissau\",\"Guyana\",\"Haiti\",\"Heard Island and McDonald Islands\",\"Honduras\",\"Hong Kong SAR China\",\"Hungary\",\"Iceland\",\"India\",\"Indonesia\",\"Iran\",\"Iraq\",\"Ireland\",\"Israel\",\"Italy\",\"Jamaica\",\"Japan\",\"Jordan\",\"Kazakhstan\",\"Kenya\",\"Kiribati\",\"Korea\",\"Kuwait\",\"Kyrgyzstan\",\"Laos\",\"Latvia\",\"Lebanon\",\"Lesotho\",\"Liberia\",\"Libya\",\"Liechtenstein\",\"Lithuania\",\"Luxembourg\",\"Macau SAR China\",\"Macedonia\",\"Madagascar\",\"Malawi\",\"Malaysia\",\"Maldives\",\"Mali\",\"Malta\",\"Marshall Islands\",\"Martinique\",\"Mauritiana\",\"Mauritius\",\"Mayotte\",\"Mexico\",\"Micronesia\",\"Moldova\",\"Monaco\",\"Mongolia\",\"Montserrat\",\"Morocco\",\"Mozambique\",\"Myanmar [Burma]\",\"Namibia\",\"Nauru\",\"Nepal\",\"Netherlands\",\"Netherlands Antilles\",\"New Caledonia\",\"New Zealand\",\"Nicaragua\",\"Niger\",\"Nigeria\",\"Niue\",\"Norfolk Island\",\"North Korea\",\"Northern Mariana Islands\",\"Norway\",\"Oman\",\"Pakistan\",\"Palau\",\"Panama\",\"Papua New Guinea\",\"Paraguay\",\"Peru\",\"Philippines\",\"Pitcairn Islands\",\"Poland\",\"Portugal\",\"Puerto Rico\",\"Qatar\",\"Reunion\",\"Romania\",\"Russia\",\"Rwanda\",\"Saint Helena\",\"Saint Kitts and Nevis\",\"Saint Lucia\",\"Saint Pierre and Miquelon\",\"Saint Vincent and the Grenadines\",\"Samoa\",\"San Marino\",\"Sao Tome and Principe\",\"Saudi Arabia\",\"Senegal\",\"Serbia\",\"Seychelles\",\"Sierra Leone\",\"Singapore\",\"Slovakia\",\"Slovenia\",\"Solomon Islands\",\"Somalia\",\"South Africa\",\"South Georgia and the South Sandwich Islands\",\"South Korea\",\"Spain\",\"Sri Lanka\",\"Sudan\",\"Suriname\",\"Svalbard and Jan Mayen\",\"Swaziland\",\"Sweden\",\"Switzerland\",\"Syria\",\"Taiwan\",\"Tajikstan\",\"Tanzania\",\"Thailand\",\"Timor-Leste\",\"Togo\",\"Tokelau\",\"Tonga\",\"Trinidad and Tobago\",\"Tunisia\",\"Turkemenistan\",\"Turkey\",\"Turks and Caicos Islands\",\"Tuvalu\",\"U.K.\",\"U.S Minor Outlying Islands\",\"U.S Virgin Islands\",\"U.S.\",\"Uganda\",\"Ukraine\",\"United Arab Emirates\",\"Uruguay\",\"Uzbekistan\",\"Vanuatu\",\"Vatican City\",\"Venezuela\",\"Vietnam\",\"Wallis and Futuna\",\"Western Sahara\",\"Yemen\",\"Zambia\",\"Zimbabwe\"],\"locationssrc\" : \"Dreamshot:9297:009d61\",\"showscale\" : true,\"zauto\" : false,\"zmax\" : 150,\"zmin\" : 0,\"zsrc\" : \"Dreamshot:9297:7e6159\"}],\"layout\" : {\"height\" : 1000,\"title\" : \"Locations of GAP package authors\",\"autosize\" : true,\"font\" : {\"family\" : \"Overpass\"},\"geo\" : {\"projection\" : {\"type\" : \"equirectangular\"},\"center\" : {\"lat\" : 55.31688841607437,\"lon\" : -65.030234686345878}},\"hovermode\" : \"closest\",\"titlefont\" : {\"family\" : \"Overpass\"}},\"frames\" : [{\"name\" : \"workspace-breakpoint-0\",\"layout\" : {\"width\" : 400,\"height\" : 300,\"title\" : \"Locations of GAP package authors\",\"autosize\" : false,\"font\" : {\"size\" : 10},\"geo\" : {\"projection\" : {\"type\" : \"equirectangular\"},\"center\" : {\"lat\" : 76.156725115232689,\"lon\" : -81.574735072207119}},\"hovermode\" : \"closest\",\"margin\" : {\"b\" : 40,\"l\" : 40,\"r\" : 40,\"t\" : 75},\"titlefont\" : {\"family\" : \"Overpass\",\"size\" : 12}}}]},\"tool\" : \"plotly\"}\n",
       ",function(element,visualization){\n",
       "});\n",
       "}if(window.librariesLoadedFromGAP.hasOwnProperty(\"viz-tool-plotly\"\n",
       ")){myCallback()}else{var filenameString=JSON.stringify(\"viz-tool-plotly\"\n",
       ");var GAPcode=\"JUPVIZFileContents( LoadJavaScriptFile( \"+filenameString+\" ) );\";window.runGAP(GAPcode,function(result,error){if(error)throw Error(\"When loading library \"+filenameString+\": \"+error);result=result[\"text/plain\"];window.librariesLoadedFromGAP[\"viz-tool-plotly\"\n",
       "]=result;try{var whatItEvaluatesTo=eval(result)}catch(e){throw Error(\"Error evaluating code for library \"+filenameString+\": \"+e)}return myCallback()})}\n",
       "}if(window.librariesLoadedFromGAP.hasOwnProperty(\"main\"\n",
       ")){myCallback()}else{var filenameString=JSON.stringify(\"main\"\n",
       ");var GAPcode=\"JUPVIZFileContents( LoadJavaScriptFile( \"+filenameString+\" ) );\";window.runGAP(GAPcode,function(result,error){if(error)throw Error(\"When loading library \"+filenameString+\": \"+error);result=result[\"text/plain\"];window.librariesLoadedFromGAP[\"main\"\n",
       "]=result;try{var whatItEvaluatesTo=eval(result)}catch(e){throw Error(\"Error evaluating code for library \"+filenameString+\": \"+e)}return myCallback()})}\n",
       ";\n",
       "} )( element.get( 0 ) )"
      ]
     },
     "execution_count": 34,
     "metadata": {
      "application/javascript": ""
     },
     "output_type": "execute_result"
    }
   ],
   "source": [
    "CreateVisualization( rec( tool := \"plotly\", data := gapRecord ) );"
   ]
  },
  {
   "cell_type": "code",
   "execution_count": null,
   "metadata": {
    "collapsed": true
   },
   "outputs": [],
   "source": []
  }
 ],
 "metadata": {
  "kernelspec": {
   "display_name": "GAP 4",
   "language": "gap",
   "name": "gap-4"
  },
  "language_info": {
   "codemirror_mode": "gap",
   "file_extension": ".g",
   "mimetype": "text/x-gap",
   "name": "GAP 4",
   "nbconvert_exporter": "",
   "pygments_lexer": "gap",
   "version": "4.10.2"
  }
 },
 "nbformat": 4,
 "nbformat_minor": 2
}
