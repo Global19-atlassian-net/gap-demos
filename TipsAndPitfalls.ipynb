{
 "cells": [
  {
   "cell_type": "markdown",
   "metadata": {},
   "source": [
    "# Using GAP Effectively: Some Tips and Pitfalls"
   ]
  },
  {
   "cell_type": "markdown",
   "metadata": {},
   "source": [
    "Based on Steve Linton's talk at the Second CoDiMa Training School in Computational Discrete Mathematics (ICMS, Edinburgh, 17-21 October 2016, https://www.codima.ac.uk/school2016/)"
   ]
  },
  {
   "cell_type": "markdown",
   "metadata": {},
   "source": [
    "## Philosophy\n",
    "\n",
    "* GAP has two somewhat contradictory design goals\n",
    "    * to allow users to pose questions in a way that seems natural to a working mathematician and get answers\n",
    "    * to allow the expert computational mathematician to implement and apply the most advanced techniques to solve hard problems\n",
    "* The first is achieved to a limited extent."
   ]
  },
  {
   "cell_type": "markdown",
   "metadata": {},
   "source": [
    "**Problem:** find an element of $S_9$ which is NOT an involution"
   ]
  },
  {
   "cell_type": "code",
   "execution_count": 128,
   "metadata": {},
   "outputs": [
    {
     "data": {
      "text/plain": [
       "(7,8,9)"
      ]
     },
     "execution_count": 128,
     "metadata": {
      "text/plain": ""
     },
     "output_type": "execute_result"
    }
   ],
   "source": [
    "n:=9;; Filtered(Elements(SymmetricGroup(n)), x-> x*x <> ())[1];"
   ]
  },
  {
   "cell_type": "markdown",
   "metadata": {},
   "source": [
    "* Replace 9 by 10 and it is already visibly longer"
   ]
  },
  {
   "cell_type": "code",
   "execution_count": 130,
   "metadata": {},
   "outputs": [
    {
     "data": {
      "text/plain": [
       "(8,9,10)"
      ]
     },
     "execution_count": 130,
     "metadata": {
      "text/plain": ""
     },
     "output_type": "execute_result"
    }
   ],
   "source": [
    "n:=10;; Filtered(Elements(SymmetricGroup(n)), x-> x*x <> ())[1];"
   ]
  },
  {
   "cell_type": "markdown",
   "metadata": {},
   "source": [
    "* Put `n:=15` and you quickly run out of memory: $15!$ is roughly $1.3 \\times 10^{12}$"
   ]
  },
  {
   "cell_type": "markdown",
   "metadata": {},
   "source": [
    "## This talk is about how to start thinking like an expert"
   ]
  },
  {
   "cell_type": "markdown",
   "metadata": {},
   "source": [
    "## If you don't need it, then don't store it!\n",
    "* What is happening in this command?\n",
    "```\n",
    "n:=9;; Filtered(Elements(SymmetricGroup(n)), x-> x*x <> ())[1];\n",
    "```\n",
    "    * First it computes and stores the full list of elements of $S_n$\n",
    "    * Then it checks each of them to see if it has order dividing 2 and stores a second list of all of those which don’t\n",
    "    * Finally it returns the first one"
   ]
  },
  {
   "cell_type": "markdown",
   "metadata": {},
   "source": [
    "* Instead, we can stop looking when we find one. GAP even provides a built in function to do this:"
   ]
  },
  {
   "cell_type": "code",
   "execution_count": 138,
   "metadata": {},
   "outputs": [
    {
     "data": {
      "text/plain": [
       "(8,9,10)"
      ]
     },
     "execution_count": 138,
     "metadata": {
      "text/plain": ""
     },
     "output_type": "execute_result"
    }
   ],
   "source": [
    "n = 9;; First(Elements(SymmetricGroup(n)), x-> x*x <> ());"
   ]
  },
  {
   "cell_type": "markdown",
   "metadata": {},
   "source": [
    "* Stopping things as soon as possible is an important principle\n",
    "* In this case though the real problem is computing and storing all the elements of $S_n$\n",
    "* Let's explore some other alternatives"
   ]
  },
  {
   "cell_type": "markdown",
   "metadata": {},
   "source": [
    "## Enumerators"
   ]
  },
  {
   "cell_type": "markdown",
   "metadata": {},
   "source": [
    "* Enumerator returns a list of elements of a domain which may be virtual\n",
    "    * also EnumeratorSorted — but only if you need it\n",
    "* For many objects it is quick to construct, but may be slower to access\n",
    "* Do not remove the 2nd semicolon below yet (see https://github.com/gap-packages/JupyterKernel/issues/72)"
   ]
  },
  {
   "cell_type": "code",
   "execution_count": 28,
   "metadata": {},
   "outputs": [],
   "source": [
    "e := Enumerator(SymmetricGroup(99));;"
   ]
  },
  {
   "cell_type": "code",
   "execution_count": 15,
   "metadata": {},
   "outputs": [
    {
     "data": {
      "text/plain": [
       "933262154439441526816992388562667004907159682643816214685929638952175999932299156089414639761565182862536979208272237582511852109168640000000000000000000000"
      ]
     },
     "execution_count": 15,
     "metadata": {
      "text/plain": ""
     },
     "output_type": "execute_result"
    }
   ],
   "source": [
    "Length(e);"
   ]
  },
  {
   "cell_type": "code",
   "execution_count": 17,
   "metadata": {},
   "outputs": [
    {
     "data": {
      "text/plain": [
       "(2,60,99,55,54,65,7,16,18,32,70,15,5,37,43,97,19,31,66,30,90,17,29,85,28,67,27,62,26,34,52,59)(3,44,73,47,95,45,51,68,50,86,49,83,40,36,81,35,93,12,76,11,75,10,46,9,96,8,53,42,41,22,78,21,38,20,24,63,23,48,39,56,4,6,58,14,80,13,25,33)"
      ]
     },
     "execution_count": 17,
     "metadata": {
      "text/plain": ""
     },
     "output_type": "execute_result"
    }
   ],
   "source": [
    "e[10^100];"
   ]
  },
  {
   "cell_type": "markdown",
   "metadata": {},
   "source": [
    "See also `EnumeratorOfTuples` and `EnumeratorOfCombinations` (both documented) and `EnumeratorOfCartesianProduct` (currently undocumented)"
   ]
  },
  {
   "cell_type": "code",
   "execution_count": 142,
   "metadata": {},
   "outputs": [
    {
     "data": {
      "text/html": [
       "Reference: <a target=\"_blank\" href=\"https://www.gap-system.org/Manuals/doc/ref/chap16.html#X78DD5C0D81057540\">EnumeratorOfCombinations</a>"
      ]
     },
     "execution_count": 142,
     "metadata": {},
     "output_type": "execute_result"
    }
   ],
   "source": [
    "?EnumeratorOfCombinations"
   ]
  },
  {
   "cell_type": "markdown",
   "metadata": {},
   "source": [
    "## Iterators"
   ]
  },
  {
   "cell_type": "markdown",
   "metadata": {},
   "source": [
    "* Even an Enumerator can be too heavyweight\n",
    "    * sometimes you don’t need to even number the elements, or know how many there are\n",
    "* For this GAP has _Iterators_\n",
    "    * `IsDoneIterator` and `NextIterator` operations"
   ]
  },
  {
   "cell_type": "code",
   "execution_count": 19,
   "metadata": {},
   "outputs": [],
   "source": [
    "n := 9;; i := Iterator(SymmetricGroup(n));; "
   ]
  },
  {
   "cell_type": "code",
   "execution_count": 20,
   "metadata": {},
   "outputs": [],
   "source": [
    "while not IsDoneIterator(i) do x := NextIterator(i); if x*x = () then break; fi; od;"
   ]
  },
  {
   "cell_type": "code",
   "execution_count": 21,
   "metadata": {},
   "outputs": [
    {
     "data": {
      "text/plain": [
       "()"
      ]
     },
     "execution_count": 21,
     "metadata": {
      "text/plain": ""
     },
     "output_type": "execute_result"
    }
   ],
   "source": [
    "x;"
   ]
  },
  {
   "cell_type": "markdown",
   "metadata": {},
   "source": [
    "Or more concisely, thanks to some built-in magic:"
   ]
  },
  {
   "cell_type": "code",
   "execution_count": 23,
   "metadata": {},
   "outputs": [],
   "source": [
    "n := 9;; for x in SymmetricGroup(n) do if x *x = () then break; fi; od;"
   ]
  },
  {
   "cell_type": "code",
   "execution_count": 24,
   "metadata": {},
   "outputs": [
    {
     "data": {
      "text/plain": [
       "()"
      ]
     },
     "execution_count": 24,
     "metadata": {
      "text/plain": ""
     },
     "output_type": "execute_result"
    }
   ],
   "source": [
    "x;"
   ]
  },
  {
   "cell_type": "markdown",
   "metadata": {},
   "source": [
    "Or even shorter:"
   ]
  },
  {
   "cell_type": "code",
   "execution_count": 30,
   "metadata": {},
   "outputs": [
    {
     "data": {
      "text/plain": [
       "()"
      ]
     },
     "execution_count": 30,
     "metadata": {
      "text/plain": ""
     },
     "output_type": "execute_result"
    }
   ],
   "source": [
    "n := 9;; First(SymmetricGroup(n), x->x*x = ());"
   ]
  },
  {
   "cell_type": "markdown",
   "metadata": {},
   "source": [
    "## Randomness"
   ]
  },
  {
   "cell_type": "markdown",
   "metadata": {},
   "source": [
    "* Sometimes you can’t even make an iterator for your group easily, but you know the elements you want exist and are not too rare\n",
    "* So make pseudo-random elements of the group until you find one"
   ]
  },
  {
   "cell_type": "code",
   "execution_count": 31,
   "metadata": {},
   "outputs": [
    {
     "data": {
      "text/plain": [
       "SL(10,3)"
      ]
     },
     "execution_count": 31,
     "metadata": {
      "text/plain": ""
     },
     "output_type": "execute_result"
    }
   ],
   "source": [
    "g := SL(10,3);"
   ]
  },
  {
   "cell_type": "code",
   "execution_count": 32,
   "metadata": {},
   "outputs": [],
   "source": [
    "repeat x := PseudoRandom(g); until Order(x) = (3^10-1)/2;"
   ]
  },
  {
   "cell_type": "code",
   "execution_count": 35,
   "metadata": {},
   "outputs": [
    {
     "data": {
      "text/plain": [
       "[ [ Z(3)^0, Z(3), Z(3), Z(3)^0, Z(3)^0, Z(3), 0*Z(3), 0*Z(3), Z(3), Z(3) ], [ 0*Z(3), 0*Z(3), Z(3), Z(3)^0, Z(3)^0, Z(3), 0*Z(3), Z(3), 0*Z(3), Z(3) ], [ 0*Z(3), Z(3), Z(3), 0*Z(3), Z(3)^0, Z(3)^0, 0*Z(3), Z(3)^0, 0*Z(3), 0*Z(3) ], [ 0*Z(3), 0*Z(3), Z(3), Z(3), Z(3)^0, Z(3), Z(3)^0, Z(3)^0, 0*Z(3), Z(3)^0 ], [ 0*Z(3), Z(3)^0, 0*Z(3), 0*Z(3), 0*Z(3), 0*Z(3), Z(3)^0, 0*Z(3), Z(3), Z(3)^0 ], [ Z(3), Z(3), 0*Z(3), Z(3)^0, Z(3), 0*Z(3), Z(3), 0*Z(3), Z(3), Z(3)^0 ], [ Z(3), 0*Z(3), Z(3), 0*Z(3), Z(3), Z(3), Z(3)^0, Z(3)^0, 0*Z(3), Z(3) ], [ Z(3)^0, 0*Z(3), 0*Z(3), 0*Z(3), Z(3)^0, Z(3), 0*Z(3), Z(3)^0, 0*Z(3), 0*Z(3) ], [ Z(3), 0*Z(3), Z(3)^0, Z(3)^0, 0*Z(3), 0*Z(3), Z(3), 0*Z(3), 0*Z(3), Z(3) ], [ 0*Z(3), Z(3), 0*Z(3), Z(3)^0, Z(3), Z(3)^0, Z(3), Z(3), Z(3), Z(3)^0 ] ]"
      ]
     },
     "execution_count": 35,
     "metadata": {
      "text/plain": ""
     },
     "output_type": "execute_result"
    }
   ],
   "source": [
    "x;"
   ]
  },
  {
   "cell_type": "code",
   "execution_count": 34,
   "metadata": {},
   "outputs": [
    {
     "name": "stdout",
     "output_type": "stream",
     "text": [
      " 1 2 2 1 1 2 . . 2 2\n",
      " . . 2 1 1 2 . 2 . 2\n",
      " . 2 2 . 1 1 . 1 . .\n",
      " . . 2 2 1 2 1 1 . 1\n",
      " . 1 . . . . 1 . 2 1\n",
      " 2 2 . 1 2 . 2 . 2 1\n",
      " 2 . 2 . 2 2 1 1 . 2\n",
      " 1 . . . 1 2 . 1 . .\n",
      " 2 . 1 1 . . 2 . . 2\n",
      " . 2 . 1 2 1 2 2 2 1\n"
     ]
    }
   ],
   "source": [
    "Display(x);"
   ]
  },
  {
   "cell_type": "markdown",
   "metadata": {},
   "source": [
    "### But is searching through all the elements the right thing to do in the first place?\n",
    "* Element order is a conjugacy invariant\n",
    "* For many groups there are ways of finding conjugacy class representatives that are faster than listing all elements\n",
    "    * or they might be already known and stored"
   ]
  },
  {
   "cell_type": "code",
   "execution_count": 39,
   "metadata": {},
   "outputs": [
    {
     "data": {
      "text/plain": [
       "(1,2,3)"
      ]
     },
     "execution_count": 39,
     "metadata": {
      "text/plain": ""
     },
     "output_type": "execute_result"
    }
   ],
   "source": [
    "n := 9;; Representative(First(ConjugacyClasses(SymmetricGroup(n)), c->Representative(c)^2 <> ()));"
   ]
  },
  {
   "cell_type": "markdown",
   "metadata": {},
   "source": [
    "* This is one of the most powerful techniques, especially for non-abelian simple groups and things close to them\n",
    "* Of course if you are really working in $S_n$ you can simply construct the answer as a permutation"
   ]
  },
  {
   "cell_type": "markdown",
   "metadata": {},
   "source": [
    "## Narrowing the Search"
   ]
  },
  {
   "cell_type": "code",
   "execution_count": 40,
   "metadata": {},
   "outputs": [
    {
     "data": {
      "text/plain": [
       "(2,3,5,9,4,7,12)"
      ]
     },
     "execution_count": 40,
     "metadata": {
      "text/plain": ""
     },
     "output_type": "execute_result"
    }
   ],
   "source": [
    "First(SymmetricGroup(12), x-> OnTuples([1,2,3,4,5],x) = [1,3,5,7,9] and Order(x) = 7); "
   ]
  },
  {
   "cell_type": "markdown",
   "metadata": {},
   "source": [
    "* For values larger than 12, this gets slow\n",
    "    * because it searches lots of elements that fix 2 before it looks at anything that moves 1 to 2\n",
    "* Use a bit of maths\n",
    "    * the elements that map [1,2,3,4,5] to [1,3,5,7,9] lie in a coset of a sequence stabilizer"
   ]
  },
  {
   "cell_type": "code",
   "execution_count": 42,
   "metadata": {},
   "outputs": [],
   "source": [
    "g := SymmetricGroup(12);; s := Stabilizer(g,[1,2,3,4,5],OnTuples);;"
   ]
  },
  {
   "cell_type": "code",
   "execution_count": 43,
   "metadata": {},
   "outputs": [
    {
     "data": {
      "text/plain": [
       "(2,3,5,9,4,7)"
      ]
     },
     "execution_count": 43,
     "metadata": {
      "text/plain": ""
     },
     "output_type": "execute_result"
    }
   ],
   "source": [
    "r := RepresentativeAction(g,[1,2,3,4,5],[1,3,5,7,9],OnTuples);"
   ]
  },
  {
   "cell_type": "code",
   "execution_count": 44,
   "metadata": {},
   "outputs": [
    {
     "data": {
      "text/plain": [
       "(2,3,5,9,12,4,7)"
      ]
     },
     "execution_count": 44,
     "metadata": {
      "text/plain": ""
     },
     "output_type": "execute_result"
    }
   ],
   "source": [
    "First(s,x->Order(x*r) = 7)*r;"
   ]
  },
  {
   "cell_type": "markdown",
   "metadata": {},
   "source": [
    "## General Principles\n",
    "\n",
    "### Searching for an element in a group\n",
    "\n",
    "* Don’t write down the list of elements first\n",
    "* Stop when you’ve found it\n",
    "* Stop looking at other elements as soon as you know they’re not it\n",
    "    * order of a matrix can be large and a bit slow to compute\n",
    "    * if all you care about is whether it is 2, just check `IsOne(x*x) and not IsOne(x)`\n",
    "* Try to identify a subgroup, or coset or conjugacy class that it lies in\n",
    "    * remember Sylow subgroups!\n",
    "    * automorphism group sometimes helps too\n",
    "* Search only in there"
   ]
  },
  {
   "cell_type": "markdown",
   "metadata": {},
   "source": [
    "### Seaching for a subgroup\n",
    "\n",
    "* Even worse — quite small groups can have very many subgroups\n",
    "* Some kinds that are eas(ier) to find\n",
    "    * Cyclic subgroups (via `ConjugacyClasses`)\n",
    "    * `NormalSubgroups`\n",
    "    * Derived, Lower Central etc. series\n",
    "    * Sylow subgroups\n",
    "    * Maximal subgroups (for some groups)\n",
    "        * `MaximalSubgroups` will return all subgroups. You are likely to want ony `MaximalSubgroupClassReps`\n",
    "* Ask yourself if one of these lists might include the one you want, or at least help you on your way"
   ]
  },
  {
   "cell_type": "markdown",
   "metadata": {},
   "source": [
    "### Searching for multiple elements"
   ]
  },
  {
   "cell_type": "markdown",
   "metadata": {},
   "source": [
    "**Conjecture:** $U_3(3)$ cannot be generated by three involutions"
   ]
  },
  {
   "cell_type": "code",
   "execution_count": 147,
   "metadata": {},
   "outputs": [
    {
     "data": {
      "text/plain": [
       "<permutation group of size 6048 with 2 generators>"
      ]
     },
     "execution_count": 147,
     "metadata": {
      "text/plain": ""
     },
     "output_type": "execute_result"
    }
   ],
   "source": [
    "g := PSU(3,3);"
   ]
  },
  {
   "cell_type": "markdown",
   "metadata": {},
   "source": [
    "**So we know some things not to do:**\n",
    "* list all 216G triples of elements of $U_3(3)$ and filter out all the ones that generate the group and consist of involutions\n",
    "* use `IteratorOfTuples` to run through all 216G ...\n",
    "* use `IteratorOfCombinations` to run through 36G of unordered triples\n",
    "* the same, but test for involutions first\n",
    "    * would take a few hours on a laptop\n",
    "    \n",
    "** What to do:**\n",
    "* find the involutions first (there are just 63 of them) and run over triples"
   ]
  },
  {
   "cell_type": "code",
   "execution_count": 148,
   "metadata": {},
   "outputs": [],
   "source": [
    "invs := Filtered(g, x->Order(x) = 2);;"
   ]
  },
  {
   "cell_type": "code",
   "execution_count": 149,
   "metadata": {},
   "outputs": [
    {
     "data": {
      "text/plain": [
       "63"
      ]
     },
     "execution_count": 149,
     "metadata": {
      "text/plain": ""
     },
     "output_type": "execute_result"
    }
   ],
   "source": [
    "Length(invs);"
   ]
  },
  {
   "cell_type": "code",
   "execution_count": 151,
   "metadata": {},
   "outputs": [
    {
     "data": {
      "text/plain": [
       "<object>"
      ]
     },
     "execution_count": 150,
     "metadata": {
      "text/plain": ""
     },
     "output_type": "execute_result"
    },
    {
     "data": {
      "text/plain": [
       "0"
      ]
     },
     "execution_count": 151,
     "metadata": {
      "text/plain": ""
     },
     "output_type": "execute_result"
    }
   ],
   "source": [
    "i := IteratorOfCombinations(invs,3); ct := 0;"
   ]
  },
  {
   "cell_type": "code",
   "execution_count": 152,
   "metadata": {},
   "outputs": [],
   "source": [
    "while not IsDoneIterator(i) do\n",
    "    x := NextIterator(i);\n",
    "    if Subgroup(g,x) = g then \n",
    "        break; \n",
    "    fi; \n",
    "    ct := ct+1; \n",
    "od;"
   ]
  },
  {
   "cell_type": "code",
   "execution_count": 153,
   "metadata": {},
   "outputs": [
    {
     "data": {
      "text/plain": [
       "39711"
      ]
     },
     "execution_count": 153,
     "metadata": {
      "text/plain": ""
     },
     "output_type": "execute_result"
    }
   ],
   "source": [
    "ct;"
   ]
  },
  {
   "cell_type": "code",
   "execution_count": 154,
   "metadata": {},
   "outputs": [
    {
     "data": {
      "text/plain": [
       "39711"
      ]
     },
     "execution_count": 154,
     "metadata": {
      "text/plain": ""
     },
     "output_type": "execute_result"
    }
   ],
   "source": [
    "Binomial(63,3);"
   ]
  },
  {
   "cell_type": "markdown",
   "metadata": {},
   "source": [
    "## Searching for multiple elements"
   ]
  },
  {
   "cell_type": "markdown",
   "metadata": {},
   "source": [
    "* We still haven’t used conjugacy\n",
    "* We could choose our first involution to be a conjugacy class representative\n",
    "    * there is only one conjugacy class of involutions\n",
    "    * reduce search from `Binomial(63,3)` to `Binomial(62,2)`\n",
    "* But now the second involution can be chosen up to conjugacy in the centraliser of the first one\n",
    "    * just four cases to consider\n",
    "        * search is now $4 \\times 61$ cases\n",
    "* Of course the third one can be chosen up to conjugacy in the normaliser of the subgroup generated by the first two\n",
    "* If the things you are searching for are not all the same, then the order in which you look at them also matters"
   ]
  },
  {
   "cell_type": "markdown",
   "metadata": {},
   "source": [
    "## Morpheus\n",
    "\n",
    "* This type of search for sequences of elements that generate something is nicely implemented by Alexander Hulpke in a part of the GAP library called **Morpheus**\n",
    "* There are various functions that access morpheus documented in the library under \"Searching for Homomorphisms\"\n",
    "* Our example is asking whether $U_3(3)$ is a quotient of the free product of three cyclic groups of order 2"
   ]
  },
  {
   "cell_type": "code",
   "execution_count": 57,
   "metadata": {},
   "outputs": [],
   "source": [
    "g:=PSU(3,3);;"
   ]
  },
  {
   "cell_type": "code",
   "execution_count": 64,
   "metadata": {},
   "outputs": [
    {
     "data": {
      "text/plain": [
       "<group with 3 generators>"
      ]
     },
     "execution_count": 64,
     "metadata": {
      "text/plain": ""
     },
     "output_type": "execute_result"
    }
   ],
   "source": [
    "F:=FreeGroup(3);"
   ]
  },
  {
   "cell_type": "code",
   "execution_count": 65,
   "metadata": {},
   "outputs": [
    {
     "data": {
      "text/plain": [
       "<group with 3 generators>"
      ]
     },
     "execution_count": 65,
     "metadata": {
      "text/plain": ""
     },
     "output_type": "execute_result"
    }
   ],
   "source": [
    "F:=F/[F.1^2,F.2^2,F.3^2];"
   ]
  },
  {
   "cell_type": "code",
   "execution_count": 66,
   "metadata": {},
   "outputs": [
    {
     "data": {
      "text/plain": [
       "[  ]"
      ]
     },
     "execution_count": 66,
     "metadata": {
      "text/plain": ""
     },
     "output_type": "execute_result"
    }
   ],
   "source": [
    "GQuotients(F,g);"
   ]
  },
  {
   "cell_type": "markdown",
   "metadata": {},
   "source": [
    "## Another Morpheus example"
   ]
  },
  {
   "cell_type": "code",
   "execution_count": 67,
   "metadata": {},
   "outputs": [
    {
     "data": {
      "text/plain": [
       "<group with 2 generators>"
      ]
     },
     "execution_count": 67,
     "metadata": {
      "text/plain": ""
     },
     "output_type": "execute_result"
    }
   ],
   "source": [
    "F:=FreeGroup(2);"
   ]
  },
  {
   "cell_type": "code",
   "execution_count": 68,
   "metadata": {},
   "outputs": [
    {
     "data": {
      "text/plain": [
       "<group with 2 generators>"
      ]
     },
     "execution_count": 68,
     "metadata": {
      "text/plain": ""
     },
     "output_type": "execute_result"
    }
   ],
   "source": [
    "F:=F/[F.1^2,F.2^6];"
   ]
  },
  {
   "cell_type": "code",
   "execution_count": 69,
   "metadata": {},
   "outputs": [
    {
     "data": {
      "text/plain": [
       "[ [ f1, f2 ] -> [ (3,4)(5,8)(6,9)(7,10)(20,29)(21,30)(22,31)(23,32)(24,33)(25,34)(26,35)(27,36)(28,37)(38,65)(39,66)(40,67)(41,68)(42,69)(43,70)(44,71)(45,72)(46,73)(47,74)(48,75)(49,76)(50,77)(51,78)(52,79)(53,80)(54,81)(55,82)(56,83)(57,84)(58,85)(59,86)(60,87)(61,88)(62,89)(63,90)(64,91), (1,28,80,55,75,37)(2,79,73,78,64,76)(3,4,38,31,25,90)(5,33,23,39,42,65)(6,71,57)(7,84,54,72,13,52)(8,49,16,56,47,44)(9,14)(10,63,87,89,32,24)(11,86,58,61,35,26)(12,17,69,36,20,60)(15,40,88)(18,30,21,67,70,41)(19,81,46,77,91,74)(22,34)(27,50,29)(43,48,59,68,53,85)(45,62)(66,83) ], [ f1, f2 ] -> [ (2,3)(5,7)(6,8)(9,10)(11,30)(12,31)(13,29)(14,33)(15,37)(16,36)(17,34)(18,35)(19,32)(38,79)(39,81)(40,80)(41,75)(42,76)(43,82)(44,78)(45,77)(46,74)(47,62)(48,61)(49,63)(50,56)(51,57)(52,60)(53,59)(54,64)(55,58)(65,87)(66,91)(67,86)(68,88)(69,90)(70,85)(71,84)(72,83)(73,89), (1,28,80,55,75,37)(2,79,73,78,64,76)(3,4,38,31,25,90)(5,33,23,39,42,65)(6,71,57)(7,84,54,72,13,52)(8,49,16,56,47,44)(9,14)(10,63,87,89,32,24)(11,86,58,61,35,26)(12,17,69,36,20,60)(15,40,88)(18,30,21,67,70,41)(19,81,46,77,91,74)(22,34)(27,50,29)(43,48,59,68,53,85)(45,62)(66,83) ] ]"
      ]
     },
     "execution_count": 69,
     "metadata": {
      "text/plain": ""
     },
     "output_type": "execute_result"
    }
   ],
   "source": [
    "GQuotients(F,g);"
   ]
  },
  {
   "cell_type": "markdown",
   "metadata": {},
   "source": [
    "* So $U_3(3)$ is (2,6)-generated in two distinct ways\n",
    "* Presented as homomorphisms — easy to recover the generators if you want them\n",
    "* Other Morpheus functions: `AllHomomorphisms`, `AutomorphismGroup`, `IsomorphicSubgroups`\n",
    "* A powerful tool for many purposes"
   ]
  },
  {
   "cell_type": "markdown",
   "metadata": {},
   "source": [
    "## Anecdote: Extreme Searching (by Steve Linton)\n",
    "\n",
    "* Looking for 2,3,7 triples in a a permutation group $G$ so big that main memory could only hold two permutations\n",
    "    * expecting to have to check millions of cases\n",
    "        * on a 16MHz CPU shared with the entire university\n",
    "            * this was a while ago\n",
    "* Know (from character table) all the conjugacy classes of elements order 2 and 3 and have representatives\n",
    "* Fix T of order 2 and S of order 3 which generate $G$\n",
    "    * run through all words W in ST and SST up to some length\n",
    "    * trace points one by one through $(TW^{-1}SW)^7$\n",
    "    * as soon as one does not get to the start you can discard that $W$\n",
    "* Searches tens of thousands of cases for the cost of one permutation multiply"
   ]
  },
  {
   "cell_type": "code",
   "execution_count": 70,
   "metadata": {},
   "outputs": [
    {
     "data": {
      "text/plain": [
       "<group with 2 generators>"
      ]
     },
     "execution_count": 70,
     "metadata": {
      "text/plain": ""
     },
     "output_type": "execute_result"
    }
   ],
   "source": [
    "f := FreeGroup(\"a\",\"b\");"
   ]
  },
  {
   "cell_type": "code",
   "execution_count": 71,
   "metadata": {},
   "outputs": [
    {
     "name": "stdout",
     "output_type": "stream",
     "text": [
      "#I  Assigned the global variables [ a, b ]\n"
     ]
    }
   ],
   "source": [
    "AssignGeneratorVariables(f);"
   ]
  },
  {
   "cell_type": "code",
   "execution_count": 88,
   "metadata": {},
   "outputs": [
    {
     "data": {
      "text/plain": [
       "<group with 2 generators>"
      ]
     },
     "execution_count": 88,
     "metadata": {
      "text/plain": ""
     },
     "output_type": "execute_result"
    }
   ],
   "source": [
    "g := f/[a^2,b^3,(a*b)^7, Comm(a,b)^8];"
   ]
  },
  {
   "cell_type": "code",
   "execution_count": 89,
   "metadata": {},
   "outputs": [
    {
     "data": {
      "text/plain": [
       "66655"
      ]
     },
     "execution_count": 89,
     "metadata": {
      "text/plain": ""
     },
     "output_type": "execute_result"
    }
   ],
   "source": [
    "Sum(Elements(g), Order);"
   ]
  },
  {
   "cell_type": "code",
   "execution_count": 90,
   "metadata": {},
   "outputs": [
    {
     "data": {
      "text/plain": [
       "<object>"
      ]
     },
     "execution_count": 90,
     "metadata": {
      "text/plain": ""
     },
     "output_type": "execute_result"
    }
   ],
   "source": [
    "x := Random(g);"
   ]
  },
  {
   "cell_type": "code",
   "execution_count": 91,
   "metadata": {},
   "outputs": [
    {
     "name": "stdout",
     "output_type": "stream",
     "text": [
      "(a*b)^2*a*(b^-1*a*b*a*b^-1)^2*(b^-1*a^-1)^2*b*(a^-1*b*a^-1*b^-1)^2*(a^-1*b)^2*\\\n",
      "b*a*b^-1*(a*b^-1*a*b)^2*(a*b^-1)^2*(a*b)^2"
     ]
    }
   ],
   "source": [
    "Print(x);"
   ]
  },
  {
   "cell_type": "code",
   "execution_count": 75,
   "metadata": {},
   "outputs": [
    {
     "data": {
      "text/plain": [
       "<group with 2 generators>"
      ]
     },
     "execution_count": 75,
     "metadata": {
      "text/plain": ""
     },
     "output_type": "execute_result"
    }
   ],
   "source": [
    "g := f/[a^2,b^3,(a*b)^7, Comm(a,b)^8];"
   ]
  },
  {
   "cell_type": "code",
   "execution_count": 83,
   "metadata": {},
   "outputs": [
    {
     "data": {
      "text/plain": [
       "<object>"
      ]
     },
     "execution_count": 83,
     "metadata": {
      "text/plain": ""
     },
     "output_type": "execute_result"
    }
   ],
   "source": [
    "phi := IsomorphismPermGroup(g);"
   ]
  },
  {
   "cell_type": "code",
   "execution_count": 84,
   "metadata": {},
   "outputs": [
    {
     "name": "stdout",
     "output_type": "stream",
     "text": [
      "GroupHomomorphismByImages( Group( [ a, b ] ), Group( \n",
      "[ ( 1, 2)( 3, 5)( 4, 6)( 7,11)( 8,12)( 9,13)(10,14)(16,20)(17,21)(18,22)\n",
      "    (19,23)(25,29)(26,27)(28,30)(31,34)(32,35)(33,36)(37,41)(38,42)(39,43)\n",
      "    (40,44)(45,50)(46,51)(48,52)(49,53)(54,56), \n",
      "  ( 2, 3, 4)( 5, 7, 8)( 6, 9,10)(11,15,14)(12,16,17)(13,18,19)(20,24,23)\n",
      "    (21,25,26)(22,27,28)(29,31,32)(30,33,34)(35,37,38)(36,39,40)(41,45,46)\n",
      "    (42,47,43)(44,48,49)(50,53,54)(51,55,52) ] ), [ a, b ], \n",
      "[ ( 1, 2)( 3, 5)( 4, 6)( 7,11)( 8,12)( 9,13)(10,14)(16,20)(17,21)(18,22)\n",
      "    (19,23)(25,29)(26,27)(28,30)(31,34)(32,35)(33,36)(37,41)(38,42)(39,43)\n",
      "    (40,44)(45,50)(46,51)(48,52)(49,53)(54,56), \n",
      "  ( 2, 3, 4)( 5, 7, 8)( 6, 9,10)(11,15,14)(12,16,17)(13,18,19)(20,24,23)\n",
      "    (21,25,26)(22,27,28)(29,31,32)(30,33,34)(35,37,38)(36,39,40)(41,45,46)\n",
      "    (42,47,43)(44,48,49)(50,53,54)(51,55,52) ] )"
     ]
    }
   ],
   "source": [
    "Print(phi);"
   ]
  },
  {
   "cell_type": "code",
   "execution_count": 77,
   "metadata": {},
   "outputs": [
    {
     "data": {
      "text/plain": [
       "<permutation group of size 10752 with 2 generators>"
      ]
     },
     "execution_count": 77,
     "metadata": {
      "text/plain": ""
     },
     "output_type": "execute_result"
    }
   ],
   "source": [
    "h := ImagesSource(phi);"
   ]
  },
  {
   "cell_type": "code",
   "execution_count": 78,
   "metadata": {},
   "outputs": [
    {
     "data": {
      "text/plain": [
       "66655"
      ]
     },
     "execution_count": 78,
     "metadata": {
      "text/plain": ""
     },
     "output_type": "execute_result"
    }
   ],
   "source": [
    "Sum(Elements(h), Order);"
   ]
  },
  {
   "cell_type": "code",
   "execution_count": 79,
   "metadata": {},
   "outputs": [
    {
     "data": {
      "text/plain": [
       "(1,11,42,29,28,23,52)(2,5,40,7,10,12,49)(3,15,4,22,38,19,32)(6,54,45,13,46,48,37)(8,24,9,26,18,17,34)(14,56,51,20,25,30,43)(16,39,21,50,55,53,33)(27,41,47,44,31,36,35)"
      ]
     },
     "execution_count": 79,
     "metadata": {
      "text/plain": ""
     },
     "output_type": "execute_result"
    }
   ],
   "source": [
    "x := Random(h);"
   ]
  },
  {
   "cell_type": "code",
   "execution_count": 85,
   "metadata": {},
   "outputs": [
    {
     "data": {
      "text/plain": [
       "<object>"
      ]
     },
     "execution_count": 85,
     "metadata": {
      "text/plain": ""
     },
     "output_type": "execute_result"
    }
   ],
   "source": [
    "y := PreImagesRepresentative(phi,x);"
   ]
  },
  {
   "cell_type": "code",
   "execution_count": 86,
   "metadata": {},
   "outputs": [
    {
     "name": "stdout",
     "output_type": "stream",
     "text": [
      "b^-1*(a^-1*b^-1*a^-1*b)^3*(a^-1*b^-1)^2*(a*b)^2*a"
     ]
    }
   ],
   "source": [
    "Print(y);"
   ]
  },
  {
   "cell_type": "markdown",
   "metadata": {},
   "source": [
    "## A Few Homomorphism Operations"
   ]
  },
  {
   "cell_type": "code",
   "execution_count": 93,
   "metadata": {},
   "outputs": [
    {
     "data": {
      "text/plain": [
       "Group([ (1,2,3,4), (1,2), (5,6,7) ])"
      ]
     },
     "execution_count": 93,
     "metadata": {
      "text/plain": ""
     },
     "output_type": "execute_result"
    }
   ],
   "source": [
    "g:=Group((1,2,3,4),(1,2),(5,6,7));"
   ]
  },
  {
   "cell_type": "code",
   "execution_count": 98,
   "metadata": {},
   "outputs": [
    {
     "data": {
      "text/plain": [
       "<object>"
      ]
     },
     "execution_count": 98,
     "metadata": {
      "text/plain": ""
     },
     "output_type": "execute_result"
    }
   ],
   "source": [
    "iso:=IsomorphismPcGroup(g);"
   ]
  },
  {
   "cell_type": "code",
   "execution_count": 99,
   "metadata": {},
   "outputs": [
    {
     "data": {
      "text/plain": [
       "<group of size 72 with 5 generators>"
      ]
     },
     "execution_count": 99,
     "metadata": {
      "text/plain": ""
     },
     "output_type": "execute_result"
    }
   ],
   "source": [
    "h:=Image(iso);"
   ]
  },
  {
   "cell_type": "code",
   "execution_count": 100,
   "metadata": {},
   "outputs": [
    {
     "data": {
      "text/plain": [
       "<group with 1 generators>"
      ]
     },
     "execution_count": 100,
     "metadata": {
      "text/plain": ""
     },
     "output_type": "execute_result"
    }
   ],
   "source": [
    "z:=Centre(h);"
   ]
  },
  {
   "cell_type": "code",
   "execution_count": 101,
   "metadata": {},
   "outputs": [],
   "source": [
    "SetCentre(g,PreImage(iso,z));"
   ]
  },
  {
   "cell_type": "code",
   "execution_count": 102,
   "metadata": {},
   "outputs": [
    {
     "data": {
      "text/plain": [
       "[ <object>, <object>, <object>, <object>, <object>, <object>, <object>, <object>, <object>, <object>, <object>, <object>, <object>, <object>, <object> ]"
      ]
     },
     "execution_count": 102,
     "metadata": {
      "text/plain": ""
     },
     "output_type": "execute_result"
    }
   ],
   "source": [
    "cl:=ConjugacyClasses(h);"
   ]
  },
  {
   "cell_type": "code",
   "execution_count": 103,
   "metadata": {},
   "outputs": [
    {
     "data": {
      "text/plain": [
       "[  ]"
      ]
     },
     "execution_count": 103,
     "metadata": {
      "text/plain": ""
     },
     "output_type": "execute_result"
    }
   ],
   "source": [
    "ncl:=[];"
   ]
  },
  {
   "cell_type": "code",
   "execution_count": 104,
   "metadata": {},
   "outputs": [],
   "source": [
    "for c in cl do\n",
    "    nc:=ConjugacyClass(g,PreImage(iso,Representative(c)));\n",
    "    SetSize(nc,Size(c));\n",
    "    SetStabilizerOfExternalSet(nc, PreImage(iso,StabilizerOfExternalSet(c)));\n",
    "    Add(ncl,nc);\n",
    "od; "
   ]
  },
  {
   "cell_type": "code",
   "execution_count": 105,
   "metadata": {},
   "outputs": [
    {
     "data": {
      "text/plain": [
       "[ 1, 1, 6, 8, 3, 1, 6, 8, 3, 6, 6, 8, 3, 6, 6 ]"
      ]
     },
     "execution_count": 105,
     "metadata": {
      "text/plain": ""
     },
     "output_type": "execute_result"
    }
   ],
   "source": [
    "List(ncl,Size);"
   ]
  },
  {
   "cell_type": "code",
   "execution_count": 107,
   "metadata": {},
   "outputs": [],
   "source": [
    "SetConjugacyClasses(g,ncl);"
   ]
  },
  {
   "cell_type": "markdown",
   "metadata": {},
   "source": [
    "## Homorphisms in General"
   ]
  },
  {
   "cell_type": "code",
   "execution_count": 108,
   "metadata": {},
   "outputs": [
    {
     "data": {
      "text/plain": [
       "Group([ (1,2), (3,4), (5,6), (7,8), (9,10,11), (11,12,13) ])"
      ]
     },
     "execution_count": 108,
     "metadata": {
      "text/plain": ""
     },
     "output_type": "execute_result"
    }
   ],
   "source": [
    "g := Group((1,2),(3,4),(5,6),(7,8),(9,10,11),(11,12,13));"
   ]
  },
  {
   "cell_type": "code",
   "execution_count": 110,
   "metadata": {},
   "outputs": [
    {
     "data": {
      "text/plain": [
       "45"
      ]
     },
     "execution_count": 109,
     "metadata": {
      "text/plain": ""
     },
     "output_type": "execute_result"
    },
    {
     "data": {
      "text/plain": [
       "960"
      ]
     },
     "execution_count": 110,
     "metadata": {
      "text/plain": ""
     },
     "output_type": "execute_result"
    }
   ],
   "source": [
    "Number(g, x-> Order(x) mod 2 = 1); Size(g);"
   ]
  },
  {
   "cell_type": "code",
   "execution_count": 111,
   "metadata": {},
   "outputs": [
    {
     "data": {
      "text/plain": [
       "[ [ 1, 2 ], [ 3, 4 ], [ 5, 6 ], [ 7, 8 ], [ 9, 10, 11, 12, 13 ] ]"
      ]
     },
     "execution_count": 111,
     "metadata": {
      "text/plain": ""
     },
     "output_type": "execute_result"
    }
   ],
   "source": [
    "Orbits(g,MovedPoints(g));"
   ]
  },
  {
   "cell_type": "code",
   "execution_count": 112,
   "metadata": {},
   "outputs": [
    {
     "data": {
      "text/plain": [
       "<object>"
      ]
     },
     "execution_count": 112,
     "metadata": {
      "text/plain": ""
     },
     "output_type": "execute_result"
    }
   ],
   "source": [
    "phi := ActionHomomorphism(g,[1..8]);"
   ]
  },
  {
   "cell_type": "code",
   "execution_count": 114,
   "metadata": {},
   "outputs": [
    {
     "name": "stdout",
     "output_type": "stream",
     "text": [
      "<action homomorphism>"
     ]
    }
   ],
   "source": [
    "Print(phi);"
   ]
  },
  {
   "cell_type": "code",
   "execution_count": 113,
   "metadata": {},
   "outputs": [
    {
     "data": {
      "text/plain": [
       "Group([ (1,2), (3,4), (5,6), (7,8) ])"
      ]
     },
     "execution_count": 113,
     "metadata": {
      "text/plain": ""
     },
     "output_type": "execute_result"
    }
   ],
   "source": [
    "h := ImagesSource(phi);"
   ]
  },
  {
   "cell_type": "code",
   "execution_count": 116,
   "metadata": {},
   "outputs": [
    {
     "data": {
      "text/plain": [
       "[ () ]"
      ]
     },
     "execution_count": 116,
     "metadata": {
      "text/plain": ""
     },
     "output_type": "execute_result"
    }
   ],
   "source": [
    "odds := Filtered(h, x->Order(x) mod 2 = 1);"
   ]
  },
  {
   "cell_type": "code",
   "execution_count": 117,
   "metadata": {},
   "outputs": [
    {
     "data": {
      "text/plain": [
       "[ (), (11,12,13), (11,13,12), (10,11)(12,13), (10,11,12), (10,11,13), (10,12,11), (10,12,13), (10,12)(11,13), (10,13,11), (10,13,12), (10,13)(11,12), (9,10)(12,13), (9,10)(11,12), (9,10)(11,13), (9,10,11), (9,10,11,12,13), (9,10,11,13,12), (9,10,12,13,11), (9,10,12), (9,10,12,11,13), (9,10,13,12,11), (9,10,13), (9,10,13,11,12), (9,11,10), (9,11,12,13,10), (9,11,13,12,10), (9,11)(12,13), (9,11,12), (9,11,13), (9,11)(10,12), (9,11,10,12,13), (9,11,13,10,12), (9,11)(10,13), (9,11,10,13,12), (9,11,12,10,13), (9,12,13,11,10), (9,12,10), (9,12,11,13,10), (9,12,11), (9,12,13), (9,12)(11,13), (9,12,13,10,11), (9,12)(10,11), (9,12,10,11,13), (9,12,10,13,11), (9,12,11,10,13), (9,12)(10,13), (9,13,12,11,10), (9,13,10), (9,13,11,12,10), (9,13,11), (9,13,12), (9,13)(11,12), (9,13,12,10,11), (9,13)(10,11), (9,13,10,11,12), (9,13,10,12,11), (9,13,11,10,12), (9,13)(10,12) ]"
      ]
     },
     "execution_count": 117,
     "metadata": {
      "text/plain": ""
     },
     "output_type": "execute_result"
    }
   ],
   "source": [
    "p := PreImagesSet(phi,odds);"
   ]
  },
  {
   "cell_type": "code",
   "execution_count": 119,
   "metadata": {},
   "outputs": [
    {
     "data": {
      "text/plain": [
       "1"
      ]
     },
     "execution_count": 119,
     "metadata": {
      "text/plain": ""
     },
     "output_type": "execute_result"
    }
   ],
   "source": [
    "odds := Filtered(h, x->Order(x) mod 2 = 1);; Length(odds);"
   ]
  },
  {
   "cell_type": "code",
   "execution_count": 120,
   "metadata": {},
   "outputs": [
    {
     "data": {
      "text/plain": [
       "[ (), (11,12,13), (11,13,12), (10,11)(12,13), (10,11,12), (10,11,13), (10,12,11), (10,12,13), (10,12)(11,13), (10,13,11), (10,13,12), (10,13)(11,12), (9,10)(12,13), (9,10)(11,12), (9,10)(11,13), (9,10,11), (9,10,11,12,13), (9,10,11,13,12), (9,10,12,13,11), (9,10,12), (9,10,12,11,13), (9,10,13,12,11), (9,10,13), (9,10,13,11,12), (9,11,10), (9,11,12,13,10), (9,11,13,12,10), (9,11)(12,13), (9,11,12), (9,11,13), (9,11)(10,12), (9,11,10,12,13), (9,11,13,10,12), (9,11)(10,13), (9,11,10,13,12), (9,11,12,10,13), (9,12,13,11,10), (9,12,10), (9,12,11,13,10), (9,12,11), (9,12,13), (9,12)(11,13), (9,12,13,10,11), (9,12)(10,11), (9,12,10,11,13), (9,12,10,13,11), (9,12,11,10,13), (9,12)(10,13), (9,13,12,11,10), (9,13,10), (9,13,11,12,10), (9,13,11), (9,13,12), (9,13)(11,12), (9,13,12,10,11), (9,13)(10,11), (9,13,10,11,12), (9,13,10,12,11), (9,13,11,10,12), (9,13)(10,12) ]"
      ]
     },
     "execution_count": 120,
     "metadata": {
      "text/plain": ""
     },
     "output_type": "execute_result"
    }
   ],
   "source": [
    "p := PreImagesSet(phi,odds);"
   ]
  },
  {
   "cell_type": "code",
   "execution_count": 122,
   "metadata": {},
   "outputs": [
    {
     "data": {
      "text/plain": [
       "60"
      ]
     },
     "execution_count": 121,
     "metadata": {
      "text/plain": ""
     },
     "output_type": "execute_result"
    },
    {
     "data": {
      "text/plain": [
       "45"
      ]
     },
     "execution_count": 122,
     "metadata": {
      "text/plain": ""
     },
     "output_type": "execute_result"
    }
   ],
   "source": [
    "Length(p); Number(p, x->Order(x) mod 2 = 1);"
   ]
  },
  {
   "cell_type": "code",
   "execution_count": null,
   "metadata": {},
   "outputs": [],
   "source": []
  }
 ],
 "metadata": {
  "kernelspec": {
   "display_name": "GAP 4",
   "language": "gap",
   "name": "gap-4"
  },
  "language_info": {
   "codemirror_mode": "gap",
   "file_extension": ".g",
   "mimetype": "text/x-gap",
   "name": "GAP 4",
   "nbconvert_exporter": "",
   "pygments_lexer": "gap",
   "version": "4.9.2"
  }
 },
 "nbformat": 4,
 "nbformat_minor": 2
}
