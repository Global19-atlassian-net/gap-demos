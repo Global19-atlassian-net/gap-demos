{
 "cells": [
  {
   "cell_type": "code",
   "execution_count": 6,
   "metadata": {},
   "outputs": [],
   "source": [
    "CODE_DIR := \"../gap/\";;\n",
    "Read(Concatenation(CODE_DIR, \"pmatmul.g\"));\n",
    "Read(Concatenation(CODE_DIR, \"makepar.g\"));\n",
    "Read(Concatenation(CODE_DIR, \"bench.g\"));"
   ]
  },
  {
   "cell_type": "markdown",
   "metadata": {},
   "source": [
    "# Simple speedups for unsophisticated users on multicore workstations\n",
    "\n",
    "## Multiplying matrices\n",
    "\n",
    "We create a couple of random rational matrices and check GAP's default serial multiply."
   ]
  },
  {
   "cell_type": "code",
   "execution_count": 9,
   "metadata": {},
   "outputs": [
    {
     "name": "stdout",
     "output_type": "stream",
     "text": [
      "wall time: 6.60s cpu time: 5.99s memory allocated: 1007.49MB result returned\n"
     ]
    }
   ],
   "source": [
    "m1 := MakeImmutable(RandomMat(400, 400, Rationals));;\n",
    "m2 := MakeImmutable(RandomMat(400, 400, Rationals));;\n",
    "ShowBench(\\*, m1, m2);"
   ]
  },
  {
   "cell_type": "markdown",
   "metadata": {},
   "source": [
    "In a few lines of code, we can implement a simple blocked matrix multiply based on $$(A*B)_{ik} = \\sum_j A_{ij}*B_{jk}$$  "
   ]
  },
  {
   "cell_type": "code",
   "execution_count": 10,
   "metadata": {},
   "outputs": [
    {
     "data": {
      "text/plain": [
       "function( m1, m2, chop1, chop2, chop3 ) ... end"
      ]
     },
     "execution_count": 10,
     "metadata": {
      "text/plain": ""
     },
     "output_type": "execute_result"
    }
   ],
   "source": [
    "MatMulWithTasks := function(m1, m2, chop1, chop2, chop3)\n",
    "    local  A, B, prodtasks, sumtasks, C;\n",
    "    \n",
    "    # divide matrices into blocks\n",
    "    A := block(m1, chop1, chop2);\n",
    "    B := block(m2, chop2, chop3);\n",
    "\n",
    "    # Start chop1*chop2*chop3 multiply tasks\n",
    "    prodtasks := List([1..chop1], i-> List([1..chop2], j-> \n",
    "        List([1..chop3], k -> RunTask(\\*, A[i][j],B[j][k]))));\n",
    "    # And chop1 * chop3 tasks to do the summations\n",
    "    sumtasks := List([1..chop1], i -> List([1..chop3], k-> \n",
    "        RunTask(Accumulate,AddMat,ShallowCopyMat, \n",
    "                prodtasks[i]{[1..chop2]}[k])));\n",
    "    # Finally wait for the summations to complete and assemble the result\n",
    "    C := List(sumtasks, row -> List(row, TaskResult));\n",
    "    return unblock(C);\n",
    "end;\n"
   ]
  },
  {
   "cell_type": "code",
   "execution_count": 11,
   "metadata": {},
   "outputs": [
    {
     "name": "stdout",
     "output_type": "stream",
     "text": [
      "wall time: 2.92s cpu time: 9.31s memory allocated: 605.58MB result returned\n"
     ]
    }
   ],
   "source": [
    "ShowBench(MatMulWithTasks, m1, m2, 4, 4, 4);"
   ]
  },
  {
   "cell_type": "markdown",
   "metadata": {},
   "source": [
    "The `Accumulate` function takes a list of tasks and combines their results as they become available, allowing memory to be recovered quickly."
   ]
  },
  {
   "cell_type": "code",
   "execution_count": 10,
   "metadata": {},
   "outputs": [
    {
     "name": "stdout",
     "output_type": "stream",
     "text": [
      "function ( op, makebase, tasks )\n",
      "    local i, acc;\n",
      "    i := WaitAnyTask( tasks );\n",
      "    acc := makebase( TaskResult( tasks[i] ) );\n",
      "    Remove( tasks, i );\n",
      "    while Length( tasks ) > 0 do\n",
      "        i := WaitAnyTask( tasks );\n",
      "        op( acc, TaskResult( tasks[i] ) );\n",
      "        Remove( tasks, i );\n",
      "    od;\n",
      "    return acc;\n",
      "end\n"
     ]
    }
   ],
   "source": [
    "Display(Accumulate);"
   ]
  },
  {
   "cell_type": "markdown",
   "metadata": {},
   "source": [
    "## A Simple Search\n",
    "\n",
    "We search for *Association Schemes* preserved by interesting permutation groups. Our initial filter selects relevant groups where the problem is non-trivial from GAP's primtive groups database. "
   ]
  },
  {
   "cell_type": "code",
   "execution_count": null,
   "metadata": {},
   "outputs": [],
   "source": [
    "c := cands([136,165],[1..13]);; List(c, x -> x.g); List(c, x-> x.rank);"
   ]
  },
  {
   "cell_type": "markdown",
   "metadata": {},
   "source": [
    "We apply, for now, a brute force search over all partitions of the set $\\{2\\ldots r\\}$ where $r$ is the rank of the permutation action. This is a fair sized search space and grows very rapidly with $r$."
   ]
  },
  {
   "cell_type": "code",
   "execution_count": null,
   "metadata": {},
   "outputs": [],
   "source": [
    "NrPartitionsSet([2..11]);"
   ]
  },
  {
   "cell_type": "code",
   "execution_count": null,
   "metadata": {},
   "outputs": [],
   "source": [
    "BruteForceSearch := function ( s )\n",
    "    return Filtered( PartitionsSet([2..s.rank]), \n",
    "    p -> TestPartition( s, p ));        \n",
    "end;;\n",
    "ShowBench(BruteForceSearch, c[1]);"
   ]
  },
  {
   "cell_type": "markdown",
   "metadata": {},
   "source": [
    "A very simple approach to parallelising this brute force search produces a useful speedup"
   ]
  },
  {
   "cell_type": "code",
   "execution_count": null,
   "metadata": {},
   "outputs": [],
   "source": [
    "ParBruteForceSearch := function ( s )\n",
    "    return ParFiltered( PartitionsSet( [ 2 .. s.rank ] ), \n",
    "    p -> TestPartition( s, p ), 10);        \n",
    "end;\n",
    "ShowBench(ParBruteForceSearch, c[1]);"
   ]
  },
  {
   "cell_type": "markdown",
   "metadata": {},
   "source": [
    "## Atomic and Locked Data\n",
    "\n",
    "Shared data is unavoidable in many symbolic computation. HPCGAP offers a number of \n",
    "forms of support.  First lets see what happens if we use the default lists (this would normally be forbidden, but we've suppressed some checking).\n",
    "\n",
    "A simple calculation that takes a somewhat variable time:"
   ]
  },
  {
   "cell_type": "code",
   "execution_count": 240,
   "metadata": {},
   "outputs": [
    {
     "name": "stdout",
     "output_type": "stream",
     "text": [
      "wall time: 1.87us cpu time: 0ns memory allocated: 96B result returned\n"
     ]
    }
   ],
   "source": [
    "p := NextProbablyPrimeInt(2^100);;\n",
    "x := NextProbablyPrimeInt(2^50);;\n",
    "ShowBench(PowerModInt, x, x, p );"
   ]
  },
  {
   "cell_type": "markdown",
   "metadata": {},
   "source": [
    "We run 10000 instances of this in tasks, and they all attempt to append their results to a normal list `l`:"
   ]
  },
  {
   "cell_type": "code",
   "execution_count": 216,
   "metadata": {},
   "outputs": [
    {
     "data": {
      "text/plain": [
       "9966"
      ]
     },
     "execution_count": 216,
     "metadata": {
      "text/plain": ""
     },
     "output_type": "execute_result"
    }
   ],
   "source": [
    "l := [];;\n",
    "process := function(i) Add(l, MakeImmutable([i, PowerModInt(x+i,x+i,p)])); end;;\n",
    "tasks := List([1..10000], i -> RunTask(process,i));; WaitTasks(tasks);;\n",
    "Length(l);\n"
   ]
  },
  {
   "cell_type": "markdown",
   "metadata": {},
   "source": [
    "Some are lost. Now if we use an atomic list datastructure, all the data is successfully written."
   ]
  },
  {
   "cell_type": "code",
   "execution_count": 221,
   "metadata": {},
   "outputs": [
    {
     "data": {
      "text/plain": [
       "10000"
      ]
     },
     "execution_count": 221,
     "metadata": {
      "text/plain": ""
     },
     "output_type": "execute_result"
    }
   ],
   "source": [
    "l := AtomicList();;\n",
    "process := function(i) Add(l, MakeImmutable([i, PowerModInt(x+i,x+i,p)])); end;;\n",
    "tasks := List([1..10000], i -> RunTask(process,i));; WaitTasks(tasks);;\n",
    "Length(l);"
   ]
  },
  {
   "cell_type": "markdown",
   "metadata": {},
   "source": [
    "However atomic lists only protect single operations. If we run tasks which append twice to the list, we quickly find that some of the pairs do not stay together."
   ]
  },
  {
   "cell_type": "code",
   "execution_count": 229,
   "metadata": {},
   "outputs": [
    {
     "data": {
      "text/plain": [
       "200000"
      ]
     },
     "execution_count": 226,
     "metadata": {
      "text/plain": ""
     },
     "output_type": "execute_result"
    },
    {
     "data": {
      "text/plain": [
       "237"
      ]
     },
     "execution_count": 227,
     "metadata": {
      "text/plain": ""
     },
     "output_type": "execute_result"
    },
    {
     "data": {
      "text/plain": [
       "237"
      ]
     },
     "execution_count": 228,
     "metadata": {
      "text/plain": ""
     },
     "output_type": "execute_result"
    },
    {
     "data": {
      "text/plain": [
       "238"
      ]
     },
     "execution_count": 229,
     "metadata": {
      "text/plain": ""
     },
     "output_type": "execute_result"
    }
   ],
   "source": [
    "l := AtomicList();;\n",
    "process := function(i)  Add(l,i); Add(l,i); end;;\n",
    "    tasks := List([1..100000], i -> RunTask(process,i));; WaitTasks(tasks);;\n",
    "Length(l); \n",
    "x := First([1..100000], i-> l[2*i-1] <>l[2*i]); l[2*x-1];l[2*x];"
   ]
  },
  {
   "cell_type": "markdown",
   "metadata": {},
   "source": [
    "If we want something more like atomic transactions, we need to use shared objects, which have explicit locking. "
   ]
  },
  {
   "cell_type": "code",
   "execution_count": 248,
   "metadata": {},
   "outputs": [
    {
     "data": {
      "text/plain": [
       "200000"
      ]
     },
     "execution_count": 247,
     "metadata": {
      "text/plain": ""
     },
     "output_type": "execute_result"
    },
    {
     "data": {
      "text/plain": [
       "true"
      ]
     },
     "execution_count": 248,
     "metadata": {
      "text/plain": ""
     },
     "output_type": "execute_result"
    }
   ],
   "source": [
    "l := [];; ShareObj(l);;\n",
    "process := function(i) atomic readwrite l do \n",
    "    Add(l,i); Add(l,i); \n",
    "od; end;;\n",
    "tasks := List([1..100000], i -> RunTask(process,i));; WaitTasks(tasks);;\n",
    "atomic l do MakeImmutable(l); od; # we need to get a a lock on l to make it readonly.\n",
    "Length(l);\n",
    "ForAll([1..100000], i-> l[2*i-1] = l[2*i]);"
   ]
  },
  {
   "cell_type": "code",
   "execution_count": null,
   "metadata": {},
   "outputs": [],
   "source": []
  }
 ],
 "metadata": {
  "kernelspec": {
   "display_name": "HPCGAP",
   "language": "gap",
   "name": "hpcgap"
  },
  "language_info": {
   "codemirror_mode": "gap",
   "file_extension": ".g",
   "mimetype": "text/x-gap",
   "name": "GAP 4",
   "nbconvert_exporter": "",
   "pygments_lexer": "gap",
   "version": "4.dev"
  }
 },
 "nbformat": 4,
 "nbformat_minor": 2
}
