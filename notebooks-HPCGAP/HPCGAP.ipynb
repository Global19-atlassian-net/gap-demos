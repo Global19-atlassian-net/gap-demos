{
 "cells": [
  {
   "cell_type": "code",
   "execution_count": 4,
   "metadata": {},
   "outputs": [],
   "source": [
    "\n",
    "CODE_DIR := \"../gap/\";;\n",
    "Read(Concatenation(CODE_DIR, \"pmatmul.g\"));\n",
    "Read(Concatenation(CODE_DIR, \"makepar.g\"));\n",
    "Read(Concatenation(CODE_DIR, \"bench.g\"));"
   ]
  },
  {
   "cell_type": "markdown",
   "metadata": {},
   "source": [
    "# Simple speedups on multicore workstations with minimal programming\n",
    "\n",
    "## Multiplying matrices\n",
    "\n",
    "We create a couple of random integr matrices and check GAP's default serial multiply."
   ]
  },
  {
   "cell_type": "code",
   "execution_count": 7,
   "metadata": {},
   "outputs": [
    {
     "name": "stdout",
     "output_type": "stream",
     "text": [
      "wall time: 14.6s cpu time: 14.6s memory allocated: 30.62MB result returned\n"
     ]
    }
   ],
   "source": [
    "m1 := MakeImmutable(RandomMat(2000, 2000, Integers));;\n",
    "m2 := MakeImmutable(RandomMat(2000, 2000, Integers));;\n",
    "ShowBench(\\*, m1, m2);"
   ]
  },
  {
   "cell_type": "markdown",
   "metadata": {},
   "source": [
    "If we didn't have a parallel matrix multiply already, then in a few lines of code, we could implement a simple blocked matrix multiply based on $$(A*B)_{ik} = \\sum_j A_{ij}*B_{jk}$$  "
   ]
  },
  {
   "cell_type": "code",
   "execution_count": 8,
   "metadata": {},
   "outputs": [
    {
     "data": {
      "text/plain": [
       "function( m1, m2, chop1, chop2, chop3 ) ... end"
      ]
     },
     "execution_count": 8,
     "metadata": {
      "text/plain": ""
     },
     "output_type": "execute_result"
    }
   ],
   "source": [
    "MatMulWithTasks := function(m1, m2, chop1, chop2, chop3)\n",
    "    local  A, B, prodtasks, sumtasks, C;\n",
    "    \n",
    "    # divide matrices into blocks\n",
    "    A := block(m1, chop1, chop2);\n",
    "    B := block(m2, chop2, chop3);\n",
    "\n",
    "    # Start chop1*chop2*chop3 multiply tasks\n",
    "    prodtasks := List([1..chop1], i-> List([1..chop2], j-> \n",
    "        List([1..chop3], k -> RunTask(\\*, A[i][j],B[j][k]))));\n",
    "    # And chop1 * chop3 tasks to do the summations\n",
    "    sumtasks := List([1..chop1], i -> List([1..chop3], k-> \n",
    "        RunTask(Accumulate,AddMat,ShallowCopyMat, \n",
    "                prodtasks[i]{[1..chop2]}[k])));\n",
    "    # Finally wait for the summations to complete and assemble the result\n",
    "    C := List(sumtasks, row -> List(row, TaskResult));\n",
    "    return unblock(C);\n",
    "end;\n"
   ]
  },
  {
   "cell_type": "code",
   "execution_count": 9,
   "metadata": {},
   "outputs": [
    {
     "name": "stdout",
     "output_type": "stream",
     "text": [
      "wall time: 2.55s cpu time: 27.1s memory allocated: 280.67MB result returned\n"
     ]
    }
   ],
   "source": [
    "ShowBench(MatMulWithTasks, m1, m2, 4, 4, 4);"
   ]
  },
  {
   "cell_type": "markdown",
   "metadata": {},
   "source": [
    "The `Accumulate` function used in this illustrates another mechanism: `WaitAnyTask`\n",
    "\n",
    "It takes a list of tasks and combines their results in whatever order they become available, allowing memory to be recovered quickly.\n",
    "\n",
    "These two are the only functions that are HPCGAP specific. "
   ]
  },
  {
   "cell_type": "code",
   "execution_count": 10,
   "metadata": {},
   "outputs": [
    {
     "name": "stdout",
     "output_type": "stream",
     "text": [
      "function ( op, makebase, tasks )\n",
      "    local i, acc;\n",
      "    i := WaitAnyTask( tasks );\n",
      "    acc := makebase( TaskResult( tasks[i] ) );\n",
      "    Remove( tasks, i );\n",
      "    while Length( tasks ) > 0 do\n",
      "        i := WaitAnyTask( tasks );\n",
      "        op( acc, TaskResult( tasks[i] ) );\n",
      "        Remove( tasks, i );\n",
      "    od;\n",
      "    return acc;\n",
      "end\n"
     ]
    }
   ],
   "source": [
    "Display(Accumulate);"
   ]
  },
  {
   "cell_type": "markdown",
   "metadata": {},
   "source": [
    "## A Simple Search\n",
    "\n",
    "We search for *Association Schemes* preserved by interesting permutation groups. Our initial filter selects relevant groups where the problem is non-trivial from GAP's primtive groups database. "
   ]
  },
  {
   "cell_type": "code",
   "execution_count": 7,
   "metadata": {},
   "outputs": [
    {
     "data": {
      "text/plain": [
       "[ PSL(2, 17), M_11 ]"
      ]
     },
     "execution_count": 6,
     "metadata": {
      "text/plain": ""
     },
     "output_type": "execute_result"
    },
    {
     "data": {
      "text/plain": [
       "[ 11, 7 ]"
      ]
     },
     "execution_count": 7,
     "metadata": {
      "text/plain": ""
     },
     "output_type": "execute_result"
    }
   ],
   "source": [
    "c := cands([136,165],[1..13]);; List(c, x -> x.g); List(c, x-> x.rank);"
   ]
  },
  {
   "cell_type": "markdown",
   "metadata": {},
   "source": [
    "We apply, for now, a brute force search over all partitions of the set $\\{2\\ldots r\\}$ where $r$ is the rank of the permutation action. This is a fair sized search space and grows very rapidly with $r$."
   ]
  },
  {
   "cell_type": "code",
   "execution_count": null,
   "metadata": {},
   "outputs": [],
   "source": [
    "NrPartitionsSet([2..11]);"
   ]
  },
  {
   "cell_type": "code",
   "execution_count": 15,
   "metadata": {},
   "outputs": [
    {
     "name": "stdout",
     "output_type": "stream",
     "text": [
      "wall time: 34.7s cpu time: 29.0s memory allocated: 16.38GB result returned\n"
     ]
    }
   ],
   "source": [
    "BruteForceSearch := function ( s )\n",
    "    return Filtered( PartitionsSet([2..s.rank]), \n",
    "    p -> TestPartition( s, p ));        \n",
    "end;;\n",
    "ShowBench(BruteForceSearch, c[1]);"
   ]
  },
  {
   "cell_type": "markdown",
   "metadata": {},
   "source": [
    "A very simple approach to parallelising this brute force search produces a useful speedup"
   ]
  },
  {
   "cell_type": "code",
   "execution_count": 9,
   "metadata": {},
   "outputs": [
    {
     "name": "stdout",
     "output_type": "stream",
     "text": [
      "wall time: 21.7s cpu time: 40.8s memory allocated: 15.56GB result returned\n"
     ]
    },
    {
     "data": {
      "text/plain": [
       "function( s ) ... end"
      ]
     },
     "execution_count": 8,
     "metadata": {
      "text/plain": ""
     },
     "output_type": "execute_result"
    }
   ],
   "source": [
    "ParBruteForceSearch := function ( s )\n",
    "    return ParFiltered( PartitionsSet( [ 2 .. s.rank ] ), \n",
    "    p -> TestPartition( s, p ), 10);        \n",
    "end;\n",
    "ShowBench(ParBruteForceSearch, c[1]);"
   ]
  },
  {
   "cell_type": "markdown",
   "metadata": {},
   "source": [
    "# Atomic and Locked Data\n",
    "\n",
    "Shared data is unavoidable in many symbolic computation. HPCGAP offers a number of \n",
    "forms of support.  First lets see what happens if we use the default lists (this would normally be forbidden, but we've suppressed some checking).\n",
    "\n",
    "A simple but irregular calculation: "
   ]
  },
  {
   "cell_type": "code",
   "execution_count": 12,
   "metadata": {},
   "outputs": [
    {
     "name": "stdout",
     "output_type": "stream",
     "text": [
      "wall time: 3.00us cpu time: 0ns memory allocated: 96B result returned\n"
     ]
    }
   ],
   "source": [
    "p := NextPrimeInt(2^100);;\n",
    "x := NextPrimeInt(2^50);;\n",
    "ShowBench(PowerModInt, x, x, p );"
   ]
  },
  {
   "cell_type": "markdown",
   "metadata": {},
   "source": [
    "We run 10000 instances of this in tasks, and they all attempt to append their results to a normal list `l`:"
   ]
  },
  {
   "cell_type": "code",
   "execution_count": 17,
   "metadata": {},
   "outputs": [
    {
     "data": {
      "text/plain": [
       "9967"
      ]
     },
     "execution_count": 17,
     "metadata": {
      "text/plain": ""
     },
     "output_type": "execute_result"
    }
   ],
   "source": [
    "l := [];;\n",
    "process := function(i) Add(l, MakeImmutable([i, PowerModInt(x+i,x+i,p)])); end;;\n",
    "tasks := List([1..10000], i -> RunTask(process,i));; WaitTasks(tasks);;\n",
    "Length(l);\n"
   ]
  },
  {
   "cell_type": "markdown",
   "metadata": {},
   "source": [
    "Some are lost. Now if we use an atomic list datastructure, all the data is successfully written."
   ]
  },
  {
   "cell_type": "code",
   "execution_count": 21,
   "metadata": {},
   "outputs": [
    {
     "data": {
      "text/plain": [
       "10000"
      ]
     },
     "execution_count": 21,
     "metadata": {
      "text/plain": ""
     },
     "output_type": "execute_result"
    }
   ],
   "source": [
    "l := AtomicList();;\n",
    "tasks := List([1..10000], i -> RunTask(process,i));; WaitTasks(tasks);;\n",
    "Length(l);"
   ]
  },
  {
   "cell_type": "markdown",
   "metadata": {},
   "source": [
    "However atomic lists only protect single operations. If we run tasks which append twice to the list, we quickly find that some of the pairs do not stay together."
   ]
  },
  {
   "cell_type": "code",
   "execution_count": 29,
   "metadata": {},
   "outputs": [
    {
     "data": {
      "text/plain": [
       "200000"
      ]
     },
     "execution_count": 26,
     "metadata": {
      "text/plain": ""
     },
     "output_type": "execute_result"
    },
    {
     "data": {
      "text/plain": [
       "10"
      ]
     },
     "execution_count": 27,
     "metadata": {
      "text/plain": ""
     },
     "output_type": "execute_result"
    },
    {
     "data": {
      "text/plain": [
       "10"
      ]
     },
     "execution_count": 28,
     "metadata": {
      "text/plain": ""
     },
     "output_type": "execute_result"
    },
    {
     "data": {
      "text/plain": [
       "11"
      ]
     },
     "execution_count": 29,
     "metadata": {
      "text/plain": ""
     },
     "output_type": "execute_result"
    }
   ],
   "source": [
    "l := AtomicList();;\n",
    "process := function(i)  Add(l,i); Add(l,i); \n",
    "end;;\n",
    "   \n",
    "tasks := List([1..100000], i -> RunTask(process,i));; WaitTasks(tasks);;\n",
    "Length(l); \n",
    "x := First([1..100000], i-> l[2*i-1] <>l[2*i]); l[2*x-1];l[2*x];"
   ]
  },
  {
   "cell_type": "markdown",
   "metadata": {},
   "source": [
    "If we want something more like atomic transactions, we need to use shared objects, which have explicit locking. "
   ]
  },
  {
   "cell_type": "code",
   "execution_count": 35,
   "metadata": {},
   "outputs": [
    {
     "name": "stdout",
     "output_type": "stream",
     "text": [
      "200000\n",
      "true\n"
     ]
    }
   ],
   "source": [
    "l := [];; ShareObj(l);;\n",
    "process := function(i) atomic readwrite l do \n",
    "    Add(l,i); Add(l,i); \n",
    "od; end;;\n",
    "tasks := List([1..100000], i -> RunTask(process,i));; WaitTasks(tasks);;\n",
    "atomic readonly l do  # we need to get a a lock on l to make it readonly.\n",
    "    Print(Length(l),\"\\n\");\n",
    "    Print(ForAll([1..100000], i-> l[2*i-1] = l[2*i]),\"\\n\");\n",
    "od;"
   ]
  }
 ],
 "metadata": {
  "kernelspec": {
   "display_name": "HPCGAP",
   "language": "gap",
   "name": "hpcgap"
  },
  "language_info": {
   "codemirror_mode": "gap",
   "file_extension": ".g",
   "mimetype": "text/x-gap",
   "name": "GAP 4",
   "nbconvert_exporter": "",
   "pygments_lexer": "gap",
   "version": "4.dev"
  }
 },
 "nbformat": 4,
 "nbformat_minor": 2
}
